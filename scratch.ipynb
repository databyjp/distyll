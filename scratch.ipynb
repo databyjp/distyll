{
 "cells": [
  {
   "cell_type": "code",
   "execution_count": 10,
   "metadata": {
    "collapsed": true,
    "ExecuteTime": {
     "end_time": "2023-07-08T14:50:00.945670Z",
     "start_time": "2023-07-08T14:50:00.941841Z"
    }
   },
   "outputs": [],
   "source": [
    "youtube_url = \"https://www.youtube.com/watch?v=pGrP87gE8XU\"\n",
    "outpath = \"temp_audio.mp3\""
   ]
  },
  {
   "cell_type": "code",
   "execution_count": 2,
   "outputs": [
    {
     "name": "stdout",
     "output_type": "stream",
     "text": [
      "[youtube] Extracting URL: https://www.youtube.com/watch?v=pGrP87gE8XU\n",
      "[youtube] pGrP87gE8XU: Downloading webpage\n",
      "[youtube] pGrP87gE8XU: Downloading ios player API JSON\n",
      "[youtube] pGrP87gE8XU: Downloading android player API JSON\n",
      "[youtube] pGrP87gE8XU: Downloading m3u8 information\n",
      "[info] pGrP87gE8XU: Downloading 1 format(s): 251\n",
      "[download] temp_audio.mp3 has already been downloaded\n",
      "[download] 100% of   58.16MiB\n"
     ]
    }
   ],
   "source": [
    "import yt_dlp\n",
    "video = yt_dlp.YoutubeDL({'extract_audio': True, 'format': 'bestaudio', 'outtmpl': outpath})\n",
    "info_dict = video.extract_info(youtube_url, download=True)"
   ],
   "metadata": {
    "collapsed": false,
    "ExecuteTime": {
     "end_time": "2023-07-08T14:42:29.741540Z",
     "start_time": "2023-07-08T14:42:28.230666Z"
    }
   }
  },
  {
   "cell_type": "code",
   "execution_count": 1,
   "outputs": [],
   "source": [
    "from pydub import AudioSegment\n",
    "\n",
    "audio = AudioSegment.from_file(\"./temp_audio.mp3\")"
   ],
   "metadata": {
    "collapsed": false,
    "ExecuteTime": {
     "end_time": "2023-07-08T14:44:00.361631Z",
     "start_time": "2023-07-08T14:43:51.099256Z"
    }
   }
  },
  {
   "cell_type": "code",
   "execution_count": 3,
   "outputs": [
    {
     "data": {
      "text/plain": "4041.4098958333334"
     },
     "execution_count": 3,
     "metadata": {},
     "output_type": "execute_result"
    }
   ],
   "source": [
    "audio.duration_seconds"
   ],
   "metadata": {
    "collapsed": false,
    "ExecuteTime": {
     "end_time": "2023-07-08T14:44:51.908931Z",
     "start_time": "2023-07-08T14:44:51.906800Z"
    }
   }
  },
  {
   "cell_type": "code",
   "execution_count": 14,
   "outputs": [
    {
     "name": "stdout",
     "output_type": "stream",
     "text": [
      "0 900\n",
      "900 1800\n",
      "1800 2700\n",
      "2700 3600\n",
      "3600 4500\n"
     ]
    }
   ],
   "source": [
    "# Split long audio into 15-minute clips\n",
    "segment_len = 900\n",
    "clip_outpaths = list()\n",
    "for i in range(1 + int(audio.duration_seconds) // segment_len):\n",
    "    print(i * segment_len, (i+1) * segment_len)\n",
    "    start = max(0, (i * segment_len) - 10) * 1000\n",
    "    end = ((i + 1) * segment_len) * 1000\n",
    "    clip = audio[start:end]\n",
    "    clip_outpath = f\"{i}_\" + outpath\n",
    "    clip.export(f\"{i}_\" + outpath)\n",
    "    clip_outpaths.append(clip_outpath)"
   ],
   "metadata": {
    "collapsed": false,
    "ExecuteTime": {
     "end_time": "2023-07-08T14:53:46.143017Z",
     "start_time": "2023-07-08T14:53:09.011604Z"
    }
   }
  },
  {
   "cell_type": "code",
   "execution_count": 15,
   "outputs": [],
   "source": [
    "import openai\n",
    "import os\n",
    "\n",
    "# for clip_outpath in clip_outpaths:\n",
    "clip_outpath = clip_outpaths[0]\n",
    "openai.api_key = os.environ[\"OPENAI_APIKEY\"]\n",
    "audio_file = open(clip_outpath, \"rb\")\n",
    "transcript = openai.Audio.transcribe(\"whisper-1\", audio_file)"
   ],
   "metadata": {
    "collapsed": false,
    "ExecuteTime": {
     "end_time": "2023-07-08T14:56:17.096838Z",
     "start_time": "2023-07-08T14:54:33.974951Z"
    }
   }
  },
  {
   "cell_type": "code",
   "execution_count": 18,
   "outputs": [
    {
     "data": {
      "text/plain": "15854"
     },
     "execution_count": 18,
     "metadata": {},
     "output_type": "execute_result"
    }
   ],
   "source": [
    "len(transcript[\"text\"])"
   ],
   "metadata": {
    "collapsed": false,
    "ExecuteTime": {
     "end_time": "2023-07-08T14:58:37.609204Z",
     "start_time": "2023-07-08T14:58:37.605832Z"
    }
   }
  },
  {
   "cell_type": "code",
   "execution_count": null,
   "outputs": [],
   "source": [],
   "metadata": {
    "collapsed": false
   }
  }
 ],
 "metadata": {
  "kernelspec": {
   "display_name": "Python 3",
   "language": "python",
   "name": "python3"
  },
  "language_info": {
   "codemirror_mode": {
    "name": "ipython",
    "version": 2
   },
   "file_extension": ".py",
   "mimetype": "text/x-python",
   "name": "python",
   "nbconvert_exporter": "python",
   "pygments_lexer": "ipython2",
   "version": "2.7.6"
  }
 },
 "nbformat": 4,
 "nbformat_minor": 0
}
