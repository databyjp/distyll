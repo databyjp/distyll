{
 "cells": [
  {
   "cell_type": "code",
   "execution_count": 1,
   "metadata": {
    "collapsed": true,
    "ExecuteTime": {
     "end_time": "2023-07-11T08:32:05.152606Z",
     "start_time": "2023-07-11T08:32:04.795297Z"
    }
   },
   "outputs": [
    {
     "name": "stdout",
     "output_type": "stream",
     "text": [
      "Found class. Skipping class creation\n"
     ]
    }
   ],
   "source": [
    "import wkb\n",
    "client = wkb.start_db()\n",
    "collection = wkb.Collection(client, wkb.WV_CLASS)"
   ]
  },
  {
   "cell_type": "code",
   "execution_count": 2,
   "outputs": [
    {
     "name": "stdout",
     "output_type": "stream",
     "text": [
      "[youtube] Extracting URL: https://youtu.be/OsxZG2XfcZA\n",
      "[youtube] OsxZG2XfcZA: Downloading webpage\n",
      "[youtube] OsxZG2XfcZA: Downloading ios player API JSON\n",
      "[youtube] OsxZG2XfcZA: Downloading android player API JSON\n",
      "[youtube] OsxZG2XfcZA: Downloading m3u8 information\n",
      "[info] OsxZG2XfcZA: Downloading 1 format(s): 251\n",
      "[download] Destination: temp_audio.mp3\n",
      "[download] 100% of   22.31MiB in 00:00:04 at 4.90MiB/s     \n",
      "Found HNSW-FINGER Explained! - downloading\n",
      "[youtube] Extracting URL: https://youtu.be/OsxZG2XfcZA\n",
      "[youtube] OsxZG2XfcZA: Downloading webpage\n",
      "[youtube] OsxZG2XfcZA: Downloading ios player API JSON\n",
      "[youtube] OsxZG2XfcZA: Downloading android player API JSON\n",
      "[youtube] OsxZG2XfcZA: Downloading m3u8 information\n",
      "[info] OsxZG2XfcZA: Downloading 1 format(s): 251\n",
      "[download] temp_audio.mp3 has already been downloaded\n",
      "[download] 100% of   22.31MiB\n",
      "Successfully Downloaded to temp_audio.mp3\n",
      "Splitting audio to 3\n"
     ]
    },
    {
     "name": "stderr",
     "output_type": "stream",
     "text": [
      "/Users/jphwang/code/sandpit/wv_simple_kb/wkb.py:497: ResourceWarning: unclosed file <_io.BufferedRandom name='0_temp_audio.mp3'>\n",
      "  clip.export(f\"{i}_\" + audio_file_path)\n",
      "ResourceWarning: Enable tracemalloc to get the object allocation traceback\n",
      "/Users/jphwang/code/sandpit/wv_simple_kb/wkb.py:497: ResourceWarning: unclosed file <_io.BufferedRandom name='1_temp_audio.mp3'>\n",
      "  clip.export(f\"{i}_\" + audio_file_path)\n",
      "ResourceWarning: Enable tracemalloc to get the object allocation traceback\n",
      "/Users/jphwang/code/sandpit/wv_simple_kb/wkb.py:497: ResourceWarning: unclosed file <_io.BufferedRandom name='2_temp_audio.mp3'>\n",
      "  clip.export(f\"{i}_\" + audio_file_path)\n",
      "ResourceWarning: Enable tracemalloc to get the object allocation traceback\n"
     ]
    },
    {
     "name": "stdout",
     "output_type": "stream",
     "text": [
      "Getting transcripts from 3 audio files...\n",
      "Processing transcript 1 of 3...\n",
      "Processing transcript 2 of 3...\n"
     ]
    },
    {
     "name": "stderr",
     "output_type": "stream",
     "text": [
      "/Users/jphwang/code/sandpit/wv_simple_kb/wkb.py:468: ResourceWarning: unclosed file <_io.BufferedReader name='0_temp_audio.mp3'>\n",
      "  audio_file = open(clip_outpath, \"rb\")\n",
      "ResourceWarning: Enable tracemalloc to get the object allocation traceback\n"
     ]
    },
    {
     "name": "stdout",
     "output_type": "stream",
     "text": [
      "Processing transcript 3 of 3...\n"
     ]
    },
    {
     "name": "stderr",
     "output_type": "stream",
     "text": [
      "/Users/jphwang/code/sandpit/wv_simple_kb/wkb.py:468: ResourceWarning: unclosed file <_io.BufferedReader name='1_temp_audio.mp3'>\n",
      "  audio_file = open(clip_outpath, \"rb\")\n",
      "ResourceWarning: Enable tracemalloc to get the object allocation traceback\n",
      "/Users/jphwang/code/sandpit/wv_simple_kb/wkb.py:130: ResourceWarning: unclosed file <_io.BufferedReader name='2_temp_audio.mp3'>\n",
      "  transcript_texts = _get_transcripts_from_audio_file(outpath)\n",
      "ResourceWarning: Enable tracemalloc to get the object allocation traceback\n"
     ]
    },
    {
     "data": {
      "text/plain": "68"
     },
     "execution_count": 2,
     "metadata": {},
     "output_type": "execute_result"
    }
   ],
   "source": [
    "yt_url = 'https://youtu.be/OsxZG2XfcZA'\n",
    "collection.add_from_youtube(yt_url)"
   ],
   "metadata": {
    "collapsed": false,
    "ExecuteTime": {
     "end_time": "2023-07-11T08:36:39.804300Z",
     "start_time": "2023-07-11T08:32:06.018557Z"
    }
   }
  },
  {
   "cell_type": "code",
   "execution_count": 3,
   "outputs": [
    {
     "data": {
      "text/plain": "'This text covers a range of topics related to search algorithms and approximate nearest neighbor search. It provides insights into exploring the neighborhood of a query point, finding the nearest neighbors, and comparing distances between neighbors. The text also discusses the concept of approximating distance calculations and introduces projected and residual components for distance approximation.\\n\\nThe video specifically focuses on the HNSW Finger algorithm, explaining its use in optimization for approximate nearest neighbor search. It discusses the computation of key terms in the algorithm, the calculation of projection components, and the breakdown of L2 distance into separate components. The video emphasizes the trade-off between additional memory usage and faster vector search and highlights the benefits of HNSW Finger for higher dimensional vectors.\\n\\nAdditionally, the video discusses distance calculation and approximation techniques in vector databases, including separating vectors into residual and projected components, calculating additional terms for stability and accuracy, and optimizing memory and time overhead. It also explores the impact of low rank projection, the use of data distribution in ANN indexes, and the performance and optimization of approximate nearest neighbor search algorithms.\\n\\nThe video concludes by introducing Weaviate, an open-source project for approximate nearest neighbor search, and encourages viewers to learn more about it on various platforms. By listening to this video, the reader can gain knowledge about Weaviate, its availability, and its features related to approximate nearest neighbor search.'"
     },
     "execution_count": 3,
     "metadata": {},
     "output_type": "execute_result"
    }
   ],
   "source": [
    "collection.summarize_entry(yt_url)"
   ],
   "metadata": {
    "collapsed": false,
    "ExecuteTime": {
     "end_time": "2023-07-11T08:38:13.607132Z",
     "start_time": "2023-07-11T08:37:06.837349Z"
    }
   }
  },
  {
   "cell_type": "code",
   "execution_count": null,
   "outputs": [],
   "source": [],
   "metadata": {
    "collapsed": false
   }
  }
 ],
 "metadata": {
  "kernelspec": {
   "display_name": "Python 3",
   "language": "python",
   "name": "python3"
  },
  "language_info": {
   "codemirror_mode": {
    "name": "ipython",
    "version": 2
   },
   "file_extension": ".py",
   "mimetype": "text/x-python",
   "name": "python",
   "nbconvert_exporter": "python",
   "pygments_lexer": "ipython2",
   "version": "2.7.6"
  }
 },
 "nbformat": 4,
 "nbformat_minor": 0
}
