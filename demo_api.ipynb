{
 "cells": [
  {
   "cell_type": "code",
   "execution_count": 1,
   "metadata": {
    "ExecuteTime": {
     "end_time": "2023-08-26T21:21:17.130207Z",
     "start_time": "2023-08-26T21:21:17.091873Z"
    }
   },
   "outputs": [],
   "source": [
    "import requests\n",
    "\n",
    "BASE_URL = \"http://localhost:8000\"\n",
    "# PAPER_URL = \"https://arxiv.org/pdf/2110.08207.pdf\"\n",
    "PAPER_URL = \"https://arxiv.org/pdf/2201.11903.pdf\"  # Chain of thought prompting paper"
   ]
  },
  {
   "cell_type": "code",
   "execution_count": 2,
   "metadata": {
    "ExecuteTime": {
     "end_time": "2023-08-26T21:21:17.143025Z",
     "start_time": "2023-08-26T21:21:17.131468Z"
    }
   },
   "outputs": [
    {
     "name": "stdout",
     "output_type": "stream",
     "text": [
      "{\"status\":\"https://arxiv.org/pdf/2201.11903.pdf is already in the database!\"}\n"
     ]
    }
   ],
   "source": [
    "payload = {\n",
    "    \"url\": PAPER_URL\n",
    "}\n",
    "response = requests.post(f\"{BASE_URL}/add_pdf/\", json=payload)\n",
    "print(response.text)"
   ]
  },
  {
   "cell_type": "code",
   "execution_count": 3,
   "outputs": [
    {
     "name": "stdout",
     "output_type": "stream",
     "text": [
      "{\"status\":\"https://gatech.instructure.com/courses/324194/pages/introduction-to-transport-layer-and-the-relationship-between-transport-and-network-layer?module_item_id=3300764 is already in the database!\"}\n"
     ]
    }
   ],
   "source": [
    "with open(\"demodata/temp.txt\", \"r\") as f:\n",
    "    txt = f.read()\n",
    "payload = {\n",
    "    \"source\": \"https://gatech.instructure.com/courses/324194/pages/introduction-to-transport-layer-and-the-relationship-between-transport-and-network-layer?module_item_id=3300764\",\n",
    "    \"text\": txt\n",
    "}\n",
    "response = requests.post(f\"{BASE_URL}/add_text/\", json=payload)\n",
    "print(response.text)"
   ],
   "metadata": {
    "collapsed": false,
    "ExecuteTime": {
     "end_time": "2023-08-26T21:21:17.150307Z",
     "start_time": "2023-08-26T21:21:17.144141Z"
    }
   }
  },
  {
   "cell_type": "code",
   "execution_count": 4,
   "metadata": {
    "ExecuteTime": {
     "end_time": "2023-08-26T21:21:21.717731Z",
     "start_time": "2023-08-26T21:21:17.151681Z"
    }
   },
   "outputs": [
    {
     "name": "stdout",
     "output_type": "stream",
     "text": [
      "https://arxiv.org/pdf/2201.11903.pdf\n",
      "The paper discusses the problems of reasoning abilities in large language models and explores how using a chain of thought, or a series of intermediate reasoning steps, can improve these abilities. It specifically focuses on arithmetic, commonsense, and symbolic reasoning tasks. The paper also discusses the limitations and challenges of chain-of-thought prompting, the impact of model scale on reasoning performance, and the dependency on large model parameters.\n"
     ]
    }
   ],
   "source": [
    "import requests\n",
    "import json\n",
    "\n",
    "payload = {\n",
    "    \"url\": PAPER_URL,\n",
    "    \"question\": \"What problems does this paper discuss?\"\n",
    "}\n",
    "response = requests.post(f\"{BASE_URL}/ask/\", json=payload)\n",
    "print(PAPER_URL)\n",
    "print(json.loads(response.text)[\"answer\"])"
   ]
  },
  {
   "cell_type": "code",
   "execution_count": 5,
   "metadata": {
    "ExecuteTime": {
     "end_time": "2023-08-26T21:21:21.733320Z",
     "start_time": "2023-08-26T21:21:21.721216Z"
    }
   },
   "outputs": [
    {
     "name": "stdout",
     "output_type": "stream",
     "text": [
      "The paper titled \"Chain-of-Thought Prompting Elicits Reasoning in Large Language Models\" explores how using a chain of thought, or a series of intermediate reasoning steps, improves the reasoning abilities of large language models. It covers topics such as neural symbolic readers, language models for reading comprehension, and the integration of distributed and symbolic representations. The study demonstrates that chain-of-thought prompts significantly enhance the models' reasoning capabilities, particularly for arithmetic, commonsense, and symbolic reasoning tasks. Readers will learn about the effectiveness of chain-of-thought prompting, its limitations and challenges, the impact of model scale on reasoning performance, and the dependency on large model parameters. \n",
      "\n",
      "The provided information covers a wide range of topics, including palindrome dates, language models, date calculations, sports understanding, dataset details, word problems in math, coin flip tasks, answering questions about objects, bringing snacks, and chain of thought prompts. Readers can learn how to calculate palindrome dates and the date 24 hours later, understand the errors and accuracy of language models, grasp common sports phrases, access dataset details for further reference, solve math word problems involving addition, subtraction, multiplication, and averages, comprehend the concept of coin flips and their outcomes, identify correct answers based on given prompts about objects, complete tasks such as bringing snacks or moving items, and generate full thought processes using chain-of-thought prompts. Additionally, there is information about computational resources for language models and dataset licensing.\n"
     ]
    }
   ],
   "source": [
    "payload = {\n",
    "    \"url\": PAPER_URL,\n",
    "}\n",
    "response = requests.post(f\"{BASE_URL}/summarise/\", json=payload)\n",
    "print(json.loads(response.text)[\"summary\"])"
   ]
  },
  {
   "cell_type": "code",
   "execution_count": 6,
   "outputs": [
    {
     "name": "stdout",
     "output_type": "stream",
     "text": [
      "https://arxiv.org/pdf/2201.11903.pdf\n",
      "Based on the provided text, there is no specific information about Batman's age.\n"
     ]
    }
   ],
   "source": [
    "payload = {\n",
    "    \"url\": PAPER_URL,\n",
    "    \"question\": \"How old is batman?\"\n",
    "}\n",
    "response = requests.post(f\"{BASE_URL}/ask/\", json=payload)\n",
    "print(PAPER_URL)\n",
    "print(json.loads(response.text)[\"answer\"])"
   ],
   "metadata": {
    "collapsed": false,
    "ExecuteTime": {
     "end_time": "2023-08-26T21:21:23.511704Z",
     "start_time": "2023-08-26T21:21:21.735118Z"
    }
   }
  },
  {
   "cell_type": "code",
   "execution_count": 6,
   "outputs": [],
   "source": [],
   "metadata": {
    "collapsed": false,
    "ExecuteTime": {
     "end_time": "2023-08-26T21:21:23.515036Z",
     "start_time": "2023-08-26T21:21:23.512204Z"
    }
   }
  }
 ],
 "metadata": {
  "kernelspec": {
   "display_name": ".venv",
   "language": "python",
   "name": "python3"
  },
  "language_info": {
   "codemirror_mode": {
    "name": "ipython",
    "version": 3
   },
   "file_extension": ".py",
   "mimetype": "text/x-python",
   "name": "python",
   "nbconvert_exporter": "python",
   "pygments_lexer": "ipython3",
   "version": "3.10.8"
  },
  "orig_nbformat": 4
 },
 "nbformat": 4,
 "nbformat_minor": 2
}
