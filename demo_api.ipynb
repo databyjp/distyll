{
 "cells": [
  {
   "cell_type": "code",
   "execution_count": 3,
   "metadata": {
    "ExecuteTime": {
     "end_time": "2023-08-27T21:04:21.913076Z",
     "start_time": "2023-08-27T21:04:21.909856Z"
    }
   },
   "outputs": [],
   "source": [
    "import requests\n",
    "\n",
    "BASE_URL = \"http://localhost:8000\"\n",
    "# PAPER_URL = \"https://arxiv.org/pdf/2110.08207.pdf\"\n",
    "PAPER_URL = \"https://arxiv.org/pdf/2201.11903.pdf\"  # Chain of thought prompting paper"
   ]
  },
  {
   "cell_type": "code",
   "execution_count": 2,
   "metadata": {
    "ExecuteTime": {
     "end_time": "2023-08-26T21:21:17.143025Z",
     "start_time": "2023-08-26T21:21:17.131468Z"
    }
   },
   "outputs": [
    {
     "name": "stdout",
     "output_type": "stream",
     "text": [
      "{\"status\":\"https://arxiv.org/pdf/2201.11903.pdf is already in the database!\"}\n"
     ]
    }
   ],
   "source": [
    "payload = {\n",
    "    \"url\": PAPER_URL\n",
    "}\n",
    "response = requests.post(f\"{BASE_URL}/add_pdf/\", json=payload)\n",
    "print(response.text)"
   ]
  },
  {
   "cell_type": "code",
   "execution_count": 3,
   "outputs": [
    {
     "name": "stdout",
     "output_type": "stream",
     "text": [
      "{\"status\":\"https://gatech.instructure.com/courses/324194/pages/introduction-to-transport-layer-and-the-relationship-between-transport-and-network-layer?module_item_id=3300764 is already in the database!\"}\n"
     ]
    }
   ],
   "source": [
    "with open(\"demodata/temp.txt\", \"r\") as f:\n",
    "    txt = f.read()\n",
    "payload = {\n",
    "    \"source\": \"https://gatech.instructure.com/courses/324194/pages/introduction-to-transport-layer-and-the-relationship-between-transport-and-network-layer?module_item_id=3300764\",\n",
    "    \"text\": txt\n",
    "}\n",
    "response = requests.post(f\"{BASE_URL}/add_text/\", json=payload)\n",
    "print(response.text)"
   ],
   "metadata": {
    "collapsed": false,
    "ExecuteTime": {
     "end_time": "2023-08-26T21:21:17.150307Z",
     "start_time": "2023-08-26T21:21:17.144141Z"
    }
   }
  },
  {
   "cell_type": "code",
   "execution_count": 4,
   "metadata": {
    "ExecuteTime": {
     "end_time": "2023-08-26T21:21:21.717731Z",
     "start_time": "2023-08-26T21:21:17.151681Z"
    }
   },
   "outputs": [
    {
     "name": "stdout",
     "output_type": "stream",
     "text": [
      "https://arxiv.org/pdf/2201.11903.pdf\n",
      "The paper discusses the problems of reasoning abilities in large language models and explores how using a chain of thought, or a series of intermediate reasoning steps, can improve these abilities. It specifically focuses on arithmetic, commonsense, and symbolic reasoning tasks. The paper also discusses the limitations and challenges of chain-of-thought prompting, the impact of model scale on reasoning performance, and the dependency on large model parameters.\n"
     ]
    }
   ],
   "source": [
    "import requests\n",
    "import json\n",
    "\n",
    "payload = {\n",
    "    \"url\": PAPER_URL,\n",
    "    \"question\": \"What problems does this paper discuss?\"\n",
    "}\n",
    "response = requests.post(f\"{BASE_URL}/ask/\", json=payload)\n",
    "print(PAPER_URL)\n",
    "print(json.loads(response.text)[\"answer\"])"
   ]
  },
  {
   "cell_type": "code",
   "execution_count": 5,
   "metadata": {
    "ExecuteTime": {
     "end_time": "2023-08-26T21:21:21.733320Z",
     "start_time": "2023-08-26T21:21:21.721216Z"
    }
   },
   "outputs": [
    {
     "name": "stdout",
     "output_type": "stream",
     "text": [
      "The paper titled \"Chain-of-Thought Prompting Elicits Reasoning in Large Language Models\" explores how using a chain of thought, or a series of intermediate reasoning steps, improves the reasoning abilities of large language models. It covers topics such as neural symbolic readers, language models for reading comprehension, and the integration of distributed and symbolic representations. The study demonstrates that chain-of-thought prompts significantly enhance the models' reasoning capabilities, particularly for arithmetic, commonsense, and symbolic reasoning tasks. Readers will learn about the effectiveness of chain-of-thought prompting, its limitations and challenges, the impact of model scale on reasoning performance, and the dependency on large model parameters. \n",
      "\n",
      "The provided information covers a wide range of topics, including palindrome dates, language models, date calculations, sports understanding, dataset details, word problems in math, coin flip tasks, answering questions about objects, bringing snacks, and chain of thought prompts. Readers can learn how to calculate palindrome dates and the date 24 hours later, understand the errors and accuracy of language models, grasp common sports phrases, access dataset details for further reference, solve math word problems involving addition, subtraction, multiplication, and averages, comprehend the concept of coin flips and their outcomes, identify correct answers based on given prompts about objects, complete tasks such as bringing snacks or moving items, and generate full thought processes using chain-of-thought prompts. Additionally, there is information about computational resources for language models and dataset licensing.\n"
     ]
    }
   ],
   "source": [
    "payload = {\n",
    "    \"url\": PAPER_URL,\n",
    "}\n",
    "response = requests.post(f\"{BASE_URL}/summarise/\", json=payload)\n",
    "print(json.loads(response.text)[\"summary\"])"
   ]
  },
  {
   "cell_type": "code",
   "execution_count": 6,
   "outputs": [
    {
     "name": "stdout",
     "output_type": "stream",
     "text": [
      "https://arxiv.org/pdf/2201.11903.pdf\n",
      "Based on the provided text, there is no specific information about Batman's age.\n"
     ]
    }
   ],
   "source": [
    "payload = {\n",
    "    \"url\": PAPER_URL,\n",
    "    \"question\": \"How old is batman?\"\n",
    "}\n",
    "response = requests.post(f\"{BASE_URL}/ask/\", json=payload)\n",
    "print(PAPER_URL)\n",
    "print(json.loads(response.text)[\"answer\"])"
   ],
   "metadata": {
    "collapsed": false,
    "ExecuteTime": {
     "end_time": "2023-08-26T21:21:23.511704Z",
     "start_time": "2023-08-26T21:21:21.735118Z"
    }
   }
  },
  {
   "cell_type": "code",
   "execution_count": 24,
   "outputs": [
    {
     "name": "stdout",
     "output_type": "stream",
     "text": [
      "{\"glossary\":{\"class\":\"Glossary\",\"creationTimeUnix\":1693171902009,\"id\":\"38a18254-7960-52e3-bc10-de65f2db0770\",\"lastUpdateTimeUnix\":1693171902009,\"properties\":{\"body\":\"- **Transport Layer**: The layer in the networking stack that provides end-to-end communication between applications running on different hosts. It ensures that data is reliably delivered and provides additional features such as error checking and flow control.\\n\\n- **Network Layer**: The layer in the networking stack responsible for routing data packets across multiple networks. It determines the best path for data transmission and handles addressing and forwarding of packets.\\n\\n- **Segment**: The combination of a message from the application layer and the header added by the transport layer. It is the unit of data that is sent from the sending host to the receiving host.\\n\\n- **Encapsulation**: The process of adding headers from different layers to a data unit (such as a segment). In the context of the transport layer, the network layer encapsulates the segment with its own header before sending it to the receiving host.\\n\\n- **Best-Effort Delivery Service**: A service model provided by the network layer that makes the best effort to deliver data packets, but does not guarantee delivery or data integrity. It relies on higher layers, such as the transport layer, to ensure reliable communication.\\n\\n- **User Datagram Protocol (UDP)**: One of the most common transport layer protocols. UDP provides basic functionality for end-to-end communication but relies on the application layer to implement additional features such as error checking and retransmission.\\n\\n- **Transmission Control Protocol (TCP)**: Another common transport layer protocol. TCP provides stronger primitives for reliable and cost-effective communication. It guarantees the delivery of data and provides features like error detection and correction, flow control, and congestion control.\\n\\n- **Primitives**: Basic building blocks or functions provided by a protocol that can be used to develop more complex functionality. In the context of the transport layer, TCP provides primitives that make it easier for application programmers to develop reliable and robust applications.\"},\"vectorWeights\":null},\"revision_quiz\":{\"class\":\"RevisionQuiz\",\"creationTimeUnix\":1693171906815,\"id\":\"38a18254-7960-52e3-bc10-de65f2db0770\",\"lastUpdateTimeUnix\":1693171906815,\"properties\":{\"body\":\"Here are some multiple-choice quiz questions based on the provided passage:\\n\\n1. What is the main purpose of the transport layer?\\n- [ ] To provide a logical connection between two applications running on different hosts.\\n- [ ] To guarantee the delivery and integrity of data packets.\\n- [ ] To establish a connection between hosts in the same network.\\n- [ ] To encapsulate segments with network layer headers.\\n\\n2. Why do we need a transport layer between the application and network layer?\\n- [ ] To guarantee the best-effort delivery of data packets.\\n- [ ] To provide additional functionalities for application developers.\\n- [ ] To ensure the reliability of diverse networks.\\n- [ ] To interface with routers, bridges, and switches.\\n\\n3. Which transport layer protocol relies on the application layer to implement remaining functionalities?\\n- [ ] User Datagram Protocol (UDP)\\n- [ ] Transmission Control Protocol (TCP)\\n- [ ] Both UDP and TCP\\n- [ ] Neither UDP nor TCP\\n\\n4. Which transport layer protocol is more widely used in most applications today?\\n- [ ] User Datagram Protocol (UDP)\\n- [ ] Transmission Control Protocol (TCP)\\n- [ ] Both UDP and TCP\\n- [ ] Neither UDP nor TCP\\n\\nFeel free to provide more specific requirements if needed.\"},\"vectorWeights\":null},\"revision_quiz_answers\":{\"class\":\"RevisionQuizAnswers\",\"creationTimeUnix\":1693171911249,\"id\":\"38a18254-7960-52e3-bc10-de65f2db0770\",\"lastUpdateTimeUnix\":1693171911249,\"properties\":{\"body\":\"- QUESTION 1: \\n  - Answer: To provide a logical connection between two applications running on different hosts.\\n  - Reason: The main purpose of the transport layer is to establish a logical connection between two applications running on different hosts.\\n  - Source: \\\"The transport layer provides an end-to-end connection between two applications running on different hosts.\\\"\\n\\n- QUESTION 2:\\n  - Answer: To provide additional functionalities for application developers.\\n  - Reason: We need a transport layer between the application and network layer to provide additional functionalities for application developers.\\n  - Source: \\\"The transport layer allows application programmers to develop applications assuming a standard set of functionalities provided by the transport layer.\\\"\\n\\n- QUESTION 3:\\n  - Answer: Both UDP and TCP\\n  - Reason: Both UDP and TCP rely on the application layer to implement remaining functionalities.\\n  - Source: \\\"These protocols offer different functionalities to application developers. UDP provides basic functionality and relies on the application layer to implement the remaining.\\\"\\n\\n- QUESTION 4:\\n  - Answer: Transmission Control Protocol (TCP)\\n  - Reason: TCP is more widely used in most applications today.\\n  - Source: \\\"In fact, because of these primitives, TCP has become quite ubiquitous and is used for most applications today.\\\"\"},\"vectorWeights\":null},\"summary\":{\"class\":\"Summary\",\"creationTimeUnix\":1693171916510,\"id\":\"38a18254-7960-52e3-bc10-de65f2db0770\",\"lastUpdateTimeUnix\":1693171916510,\"properties\":{\"body\":\"This text provides an introduction to the transport layer and explains its relationship with the network layer in computer networking. It discusses how the transport layer enables an end-to-end connection between two applications running on different hosts, regardless of whether they are in the same network. \\n\\nThe text explains that the transport layer adds its own header to messages received from the application layer, creating a segment. This segment is then encapsulated with header information from the network layer and sent to the receiving host through routers, bridges, switches, etc.\\n\\nThe need for an additional layer between the application and network layer is addressed, with the network layer offering a best-effort delivery service model. The transport layer comes into play by providing functionalities such as guaranteed delivery of packets and data integrity, which the network layer does not guarantee. This allows application programmers to develop applications assuming a standard set of functionalities provided by the transport layer, enabling them to run over diverse networks regardless of different network interfaces or possible unreliability of the network.\\n\\nThe text also introduces the two most common transport layer protocols: User Datagram Protocol (UDP) and Transmission Control Protocol (TCP). It explains that UDP provides basic functionality and relies on the application layer to implement the remaining functionalities, while TCP provides strong primitives to make end-to-end communication more reliable and cost-effective. The ubiquity of TCP in most applications today is highlighted.\\n\\nOverall, the reader will learn about the purpose and functions of the transport layer, its relationship with the network layer, and the differences between UDP and TCP protocols.\"},\"vectorWeights\":null}}\n"
     ]
    }
   ],
   "source": [
    "with open(\"demodata/short_transport_layer.txt\", \"r\") as f:\n",
    "    dummy_text = f.read()\n",
    "\n",
    "payload = {\n",
    "    \"source_path\": \"PAPER_URL\",\n",
    "    \"text\": dummy_text\n",
    "}\n",
    "response = requests.post(f\"{BASE_URL}/study/\", json=payload)\n",
    "print(response.text)"
   ],
   "metadata": {
    "collapsed": false,
    "ExecuteTime": {
     "end_time": "2023-08-27T21:31:56.524086Z",
     "start_time": "2023-08-27T21:31:35.529972Z"
    }
   }
  },
  {
   "cell_type": "code",
   "execution_count": 25,
   "outputs": [
    {
     "name": "stdout",
     "output_type": "stream",
     "text": [
      "- **Transport Layer**: The layer in the networking stack that provides end-to-end communication between applications running on different hosts. It ensures that data is reliably delivered and provides additional features such as error checking and flow control.\n",
      "\n",
      "- **Network Layer**: The layer in the networking stack responsible for routing data packets across multiple networks. It determines the best path for data transmission and handles addressing and forwarding of packets.\n",
      "\n",
      "- **Segment**: The combination of a message from the application layer and the header added by the transport layer. It is the unit of data that is sent from the sending host to the receiving host.\n",
      "\n",
      "- **Encapsulation**: The process of adding headers from different layers to a data unit (such as a segment). In the context of the transport layer, the network layer encapsulates the segment with its own header before sending it to the receiving host.\n",
      "\n",
      "- **Best-Effort Delivery Service**: A service model provided by the network layer that makes the best effort to deliver data packets, but does not guarantee delivery or data integrity. It relies on higher layers, such as the transport layer, to ensure reliable communication.\n",
      "\n",
      "- **User Datagram Protocol (UDP)**: One of the most common transport layer protocols. UDP provides basic functionality for end-to-end communication but relies on the application layer to implement additional features such as error checking and retransmission.\n",
      "\n",
      "- **Transmission Control Protocol (TCP)**: Another common transport layer protocol. TCP provides stronger primitives for reliable and cost-effective communication. It guarantees the delivery of data and provides features like error detection and correction, flow control, and congestion control.\n",
      "\n",
      "- **Primitives**: Basic building blocks or functions provided by a protocol that can be used to develop more complex functionality. In the context of the transport layer, TCP provides primitives that make it easier for application programmers to develop reliable and robust applications.\n"
     ]
    }
   ],
   "source": [
    "import json\n",
    "resp_text = json.loads(response.text)\n",
    "print(resp_text['glossary']['properties']['body'])"
   ],
   "metadata": {
    "collapsed": false,
    "ExecuteTime": {
     "end_time": "2023-08-27T21:32:02.587035Z",
     "start_time": "2023-08-27T21:32:02.581394Z"
    }
   }
  },
  {
   "cell_type": "code",
   "execution_count": 26,
   "outputs": [
    {
     "name": "stdout",
     "output_type": "stream",
     "text": [
      "Here are some multiple-choice quiz questions based on the provided passage:\n",
      "\n",
      "1. What is the main purpose of the transport layer?\n",
      "- [ ] To provide a logical connection between two applications running on different hosts.\n",
      "- [ ] To guarantee the delivery and integrity of data packets.\n",
      "- [ ] To establish a connection between hosts in the same network.\n",
      "- [ ] To encapsulate segments with network layer headers.\n",
      "\n",
      "2. Why do we need a transport layer between the application and network layer?\n",
      "- [ ] To guarantee the best-effort delivery of data packets.\n",
      "- [ ] To provide additional functionalities for application developers.\n",
      "- [ ] To ensure the reliability of diverse networks.\n",
      "- [ ] To interface with routers, bridges, and switches.\n",
      "\n",
      "3. Which transport layer protocol relies on the application layer to implement remaining functionalities?\n",
      "- [ ] User Datagram Protocol (UDP)\n",
      "- [ ] Transmission Control Protocol (TCP)\n",
      "- [ ] Both UDP and TCP\n",
      "- [ ] Neither UDP nor TCP\n",
      "\n",
      "4. Which transport layer protocol is more widely used in most applications today?\n",
      "- [ ] User Datagram Protocol (UDP)\n",
      "- [ ] Transmission Control Protocol (TCP)\n",
      "- [ ] Both UDP and TCP\n",
      "- [ ] Neither UDP nor TCP\n",
      "\n",
      "Feel free to provide more specific requirements if needed.\n"
     ]
    }
   ],
   "source": [
    "import json\n",
    "resp_text = json.loads(response.text)\n",
    "print(resp_text['revision_quiz']['properties']['body'])"
   ],
   "metadata": {
    "collapsed": false,
    "ExecuteTime": {
     "end_time": "2023-08-27T21:32:03.602918Z",
     "start_time": "2023-08-27T21:32:03.597938Z"
    }
   }
  },
  {
   "cell_type": "code",
   "execution_count": 27,
   "outputs": [
    {
     "name": "stdout",
     "output_type": "stream",
     "text": [
      "- QUESTION 1: \n",
      "  - Answer: To provide a logical connection between two applications running on different hosts.\n",
      "  - Reason: The main purpose of the transport layer is to establish a logical connection between two applications running on different hosts.\n",
      "  - Source: \"The transport layer provides an end-to-end connection between two applications running on different hosts.\"\n",
      "\n",
      "- QUESTION 2:\n",
      "  - Answer: To provide additional functionalities for application developers.\n",
      "  - Reason: We need a transport layer between the application and network layer to provide additional functionalities for application developers.\n",
      "  - Source: \"The transport layer allows application programmers to develop applications assuming a standard set of functionalities provided by the transport layer.\"\n",
      "\n",
      "- QUESTION 3:\n",
      "  - Answer: Both UDP and TCP\n",
      "  - Reason: Both UDP and TCP rely on the application layer to implement remaining functionalities.\n",
      "  - Source: \"These protocols offer different functionalities to application developers. UDP provides basic functionality and relies on the application layer to implement the remaining.\"\n",
      "\n",
      "- QUESTION 4:\n",
      "  - Answer: Transmission Control Protocol (TCP)\n",
      "  - Reason: TCP is more widely used in most applications today.\n",
      "  - Source: \"In fact, because of these primitives, TCP has become quite ubiquitous and is used for most applications today.\"\n"
     ]
    }
   ],
   "source": [
    "import json\n",
    "resp_text = json.loads(response.text)\n",
    "print(resp_text['revision_quiz_answers']['properties']['body'])"
   ],
   "metadata": {
    "collapsed": false,
    "ExecuteTime": {
     "end_time": "2023-08-27T21:32:04.874042Z",
     "start_time": "2023-08-27T21:32:04.873458Z"
    }
   }
  },
  {
   "cell_type": "code",
   "execution_count": null,
   "outputs": [],
   "source": [],
   "metadata": {
    "collapsed": false
   }
  }
 ],
 "metadata": {
  "kernelspec": {
   "display_name": ".venv",
   "language": "python",
   "name": "python3"
  },
  "language_info": {
   "codemirror_mode": {
    "name": "ipython",
    "version": 3
   },
   "file_extension": ".py",
   "mimetype": "text/x-python",
   "name": "python",
   "nbconvert_exporter": "python",
   "pygments_lexer": "ipython3",
   "version": "3.10.8"
  },
  "orig_nbformat": 4
 },
 "nbformat": 4,
 "nbformat_minor": 2
}
