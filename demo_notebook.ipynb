{
 "cells": [
  {
   "cell_type": "markdown",
   "metadata": {},
   "source": [
    "## Demo notebook - personal knowledge repo\n",
    "### Powered by Weaviate :)"
   ]
  },
  {
   "cell_type": "markdown",
   "metadata": {},
   "source": [
    "Import the functions, and instantiate the database. Then, connect to the date (collection).\n",
    "\n",
    "You'll be interacting with the data through the `collection`."
   ]
  },
  {
   "cell_type": "code",
   "execution_count": 1,
   "metadata": {
    "ExecuteTime": {
     "end_time": "2023-07-31T14:21:05.448631Z",
     "start_time": "2023-07-31T14:21:04.364417Z"
    }
   },
   "outputs": [
    {
     "name": "stdout",
     "output_type": "stream",
     "text": [
      "Started /Users/jphwang/.cache/weaviate-embedded: process ID 72993\n"
     ]
    },
    {
     "name": "stderr",
     "output_type": "stream",
     "text": [
      "{\"action\":\"startup\",\"default_vectorizer_module\":\"none\",\"level\":\"info\",\"msg\":\"the default vectorizer modules is set to \\\"none\\\", as a result all new schema classes without an explicit vectorizer setting, will use this vectorizer\",\"time\":\"2023-07-31T15:21:05+01:00\"}\n",
      "{\"action\":\"startup\",\"auto_schema_enabled\":true,\"level\":\"info\",\"msg\":\"auto schema enabled setting is set to \\\"true\\\"\",\"time\":\"2023-07-31T15:21:05+01:00\"}\n",
      "{\"action\":\"hnsw_vector_cache_prefill\",\"count\":3000,\"index_id\":\"knowledge_chunk_EjegPmJwteX8\",\"level\":\"info\",\"limit\":1000000000000,\"msg\":\"prefilled vector cache\",\"time\":\"2023-07-31T15:21:05+01:00\",\"took\":38417}\n",
      "{\"level\":\"warning\",\"msg\":\"Multiple vector spaces are present, GraphQL Explore and REST API list objects endpoint module include params has been disabled as a result.\",\"time\":\"2023-07-31T15:21:05+01:00\"}\n",
      "{\"action\":\"grpc_startup\",\"level\":\"info\",\"msg\":\"grpc server listening at [::]:50051\",\"time\":\"2023-07-31T15:21:05+01:00\"}\n",
      "{\"action\":\"restapi_management\",\"level\":\"info\",\"msg\":\"Serving weaviate at http://127.0.0.1:6666\",\"time\":\"2023-07-31T15:21:05+01:00\"}\n"
     ]
    },
    {
     "name": "stdout",
     "output_type": "stream",
     "text": [
      "Found class. Skipping class creation\n",
      "Creating a new class:\n"
     ]
    },
    {
     "name": "stderr",
     "output_type": "stream",
     "text": [
      "{\"action\":\"hnsw_vector_cache_prefill\",\"count\":1000,\"index_id\":\"knowledge_chunk_RzEWYPF2HONc\",\"level\":\"info\",\"limit\":1000000000000,\"msg\":\"prefilled vector cache\",\"time\":\"2023-07-31T15:21:05+01:00\",\"took\":46750}\n"
     ]
    }
   ],
   "source": [
    "import wkb\n",
    "import os\n",
    "client = wkb.start_db()\n",
    "collection = wkb.Collection(client, wkb.WV_CLASS, user_agent=f'My Project ({os.getenv(\"MY_EMAIL\")})')\n",
    "collection.set_apikey(openai_key=os.getenv(\"OPENAI_APIKEY\"))  # The class is configured to use `text2vec-openai` and `generative-openai`\n",
    "collection.reinitialize_db()  # This will delete your database!"
   ]
  },
  {
   "cell_type": "markdown",
   "metadata": {},
   "source": [
    "### Load data\n",
    "\n",
    "There are a bunch of built-in functions to make it easier to add data to your knowledge base."
   ]
  },
  {
   "cell_type": "markdown",
   "metadata": {},
   "source": [
    "To add a text file - simply specify the path to it:"
   ]
  },
  {
   "cell_type": "code",
   "execution_count": 2,
   "metadata": {
    "ExecuteTime": {
     "end_time": "2023-07-20T19:40:55.509379Z",
     "start_time": "2023-07-20T19:40:54.498922Z"
    }
   },
   "outputs": [
    {
     "name": "stdout",
     "output_type": "stream",
     "text": [
      "Adding the data from ./srcdata/kubernetes_concepts_overview.txt\n"
     ]
    },
    {
     "data": {
      "text/plain": "13"
     },
     "execution_count": 2,
     "metadata": {},
     "output_type": "execute_result"
    }
   ],
   "source": [
    "collection.add_text_file(\"./srcdata/kubernetes_concepts_overview.txt\")"
   ]
  },
  {
   "cell_type": "code",
   "execution_count": 3,
   "metadata": {
    "ExecuteTime": {
     "end_time": "2023-07-20T19:41:05.040775Z",
     "start_time": "2023-07-20T19:40:56.895670Z"
    }
   },
   "outputs": [
    {
     "data": {
      "text/plain": "\"Kubernetes is a portable, extensible, open source platform for managing containerized workloads and services. It provides service discovery and load balancing, storage orchestration, automated rollouts and rollbacks, automatic bin packing, self-healing, secret and configuration management. Kubernetes aims to support a diverse variety of workloads and does not limit the types of applications supported. It is not a traditional, all-inclusive PaaS system and does not provide application-level services or deployment of source code. Kubernetes eliminates the need for orchestration and provides a set of independent, composable control processes. It is highly portable and can run on various platforms. Kubernetes combines Google's experience with best practices from the community. It evolved from the traditional deployment era to the container deployment era, providing benefits such as agility, scalability, and cost reduction.\""
     },
     "execution_count": 3,
     "metadata": {},
     "output_type": "execute_result"
    }
   ],
   "source": [
    "collection.summarize_topic(\"kubernetes\")"
   ]
  },
  {
   "cell_type": "markdown",
   "metadata": {},
   "source": [
    "To add a Wiki article (currently it just adds the summary) - provide the article title:"
   ]
  },
  {
   "cell_type": "code",
   "execution_count": 4,
   "metadata": {
    "ExecuteTime": {
     "end_time": "2023-07-20T19:41:23.449196Z",
     "start_time": "2023-07-20T19:41:07.488993Z"
    }
   },
   "outputs": [
    {
     "name": "stdout",
     "output_type": "stream",
     "text": [
      "Adding the data from Database\n",
      "Adding the data from Vector database\n",
      "Adding the data from Containerization (computing)\n",
      "Adding the data from Formula One\n"
     ]
    }
   ],
   "source": [
    "for wiki_title in [\n",
    "    \"Database\",\n",
    "    \"Vector database\",\n",
    "    \"Containerization (computing)\",\n",
    "    \"Formula One\",\n",
    "]:\n",
    "    collection.add_wiki_article(wiki_title)"
   ]
  },
  {
   "cell_type": "code",
   "execution_count": 5,
   "metadata": {},
   "outputs": [
    {
     "name": "stdout",
     "output_type": "stream",
     "text": [
      "Formula One (F1) is the highest class of international racing for open-wheel single-seater formula racing cars. It is governed by the Fédération Internationale de l'Automobile (FIA) and consists of a series of races known as Grands Prix, which take place in multiple countries and continents around the world. The sport follows a set of rules and regulations, and there are two annual World Championships, one for the drivers and one for the constructors (teams).\n"
     ]
    }
   ],
   "source": [
    "print(collection.summarize_topic(\"what is formula one in a couple of sentences?\"))"
   ]
  },
  {
   "cell_type": "code",
   "execution_count": 5,
   "outputs": [
    {
     "name": "stdout",
     "output_type": "stream",
     "text": [
      "A database is an organized collection of data that is stored and accessed electronically through a database management system (DBMS). It can be used to store and retrieve large quantities of information and provides various functions for managing and organizing data.\n"
     ]
    }
   ],
   "source": [
    "print(collection.summarize_topic(\"what is a database in a couple of sentences?\"))"
   ],
   "metadata": {
    "collapsed": false,
    "ExecuteTime": {
     "end_time": "2023-07-20T19:42:29.771645Z",
     "start_time": "2023-07-20T19:42:27.189002Z"
    }
   }
  },
  {
   "cell_type": "markdown",
   "source": [
    "If we got our prompt right - it should not give us an answer to questions like these, where we don't have any answers:"
   ],
   "metadata": {
    "collapsed": false
   }
  },
  {
   "cell_type": "code",
   "execution_count": 6,
   "metadata": {
    "ExecuteTime": {
     "end_time": "2023-07-20T19:42:33.926934Z",
     "start_time": "2023-07-20T19:42:32.164713Z"
    }
   },
   "outputs": [
    {
     "name": "stdout",
     "output_type": "stream",
     "text": [
      "The text does not contain any information about space travel.\n"
     ]
    }
   ],
   "source": [
    "print(collection.summarize_topic(\"explain space travel in a couple of sentences\"))"
   ]
  },
  {
   "cell_type": "markdown",
   "metadata": {},
   "source": [
    "And to add a YouTube video: provide its URL"
   ]
  },
  {
   "cell_type": "code",
   "execution_count": 7,
   "metadata": {
    "ExecuteTime": {
     "end_time": "2023-07-20T19:42:56.056640Z",
     "start_time": "2023-07-20T19:42:37.805150Z"
    }
   },
   "outputs": [
    {
     "name": "stdout",
     "output_type": "stream",
     "text": [
      "                                                      \r  Found Hello Weaviate - What Is a Vector? - downloading\n",
      "Successfully Downloaded to temp_audio.mp3\n",
      "Audio file under 900 seconds. No split required.\n",
      "Getting transcripts from 1 audio files...\n",
      "Processing transcript 1 of 1...\n"
     ]
    },
    {
     "name": "stderr",
     "output_type": "stream",
     "text": [
      "WARNING: [youtube] unable to extract initial player response; please report this issue on  https://github.com/yt-dlp/yt-dlp/issues?q= , filling out the appropriate issue template. Confirm you are on the latest version using  yt-dlp -U\n",
      "WARNING: [youtube] unable to extract yt initial data; please report this issue on  https://github.com/yt-dlp/yt-dlp/issues?q= , filling out the appropriate issue template. Confirm you are on the latest version using  yt-dlp -U\n",
      "WARNING: [youtube] Incomplete data received in embedded initial data; re-fetching using API.\n"
     ]
    },
    {
     "name": "stdout",
     "output_type": "stream",
     "text": [
      "Adding the data from https://youtu.be/iFUeV3aYynI\n"
     ]
    },
    {
     "data": {
      "text/plain": "5"
     },
     "execution_count": 7,
     "metadata": {},
     "output_type": "execute_result"
    }
   ],
   "source": [
    "youtube_url = \"https://youtu.be/iFUeV3aYynI\"  # Weaviate Academy - what is a vector?\n",
    "collection.add_from_youtube(youtube_url)"
   ]
  },
  {
   "cell_type": "markdown",
   "metadata": {},
   "source": [
    "### Make use of your knowledge base\n",
    "\n",
    "You can use the data in your knowledge base in various ways."
   ]
  },
  {
   "cell_type": "markdown",
   "metadata": {},
   "source": [
    "You can summarize a particular entry - for example, the YouTube video that we just ingested:"
   ]
  },
  {
   "cell_type": "code",
   "execution_count": 8,
   "metadata": {
    "ExecuteTime": {
     "end_time": "2023-07-20T19:43:07.814840Z",
     "start_time": "2023-07-20T19:42:56.058505Z"
    }
   },
   "outputs": [
    {
     "name": "stdout",
     "output_type": "stream",
     "text": [
      "This collection of videos explores the topic of vectors and their role in Weaviate. Vectors are sequences of numbers that are used to capture and represent meaning in various contexts. They are versatile and can represent complex meanings, such as colors or the essence of objects. The videos also discuss vector embeddings, which are representations of meaning obtained through deep learning models.\n",
      "\n",
      "Weaviate, being a vector database, makes use of vector embeddings to perform similarity-based searches and other operations on different types of data. By watching these videos, the reader will gain an understanding of the concept of vectors, how they capture meaning, and their practical application in Weaviate for powerful operations.\n",
      "\n",
      "In summary, this collection of videos covers the topics of vectors, vector embeddings, and their role in Weaviate. By watching these videos, the reader can learn about the concept of vectors and how they are used to capture meaning, as well as how Weaviate leverages vector embeddings for powerful operations on various types of data.\n"
     ]
    }
   ],
   "source": [
    "print(collection.summarize_entry(youtube_url))"
   ]
  },
  {
   "cell_type": "markdown",
   "metadata": {},
   "source": [
    "Or, you can ask it to suggest key ideas that you can learn about, given a particular topic."
   ]
  },
  {
   "cell_type": "markdown",
   "metadata": {},
   "source": [
    "Or maybe I want to share details about what I learned from a video?"
   ]
  },
  {
   "cell_type": "code",
   "execution_count": 9,
   "metadata": {
    "ExecuteTime": {
     "end_time": "2023-07-20T15:15:49.506916Z",
     "start_time": "2023-07-20T15:15:39.390699Z"
    }
   },
   "outputs": [
    {
     "name": "stdout",
     "output_type": "stream",
     "text": [
      "📽️ Learn about vectors in Weaviate! They're series of numbers that capture meaning in different contexts. 🌈 They're used in photo editing, color selection, and more. Weaviate uses vector embeddings for searching and data operations. Watch the videos to understand vectors' role and applications! #Weaviate #Vectors\n"
     ]
    }
   ],
   "source": [
    "prompt = \"\"\"\n",
    "Summarize the key learnings in a tweet or two\n",
    " - use emojis and make it interesting.\n",
    "\"\"\"\n",
    "print(collection.summarize_entry(youtube_url, custom_prompt=prompt))"
   ]
  },
  {
   "cell_type": "markdown",
   "metadata": {},
   "source": [
    "You can also ask questions to a particular object."
   ]
  },
  {
   "cell_type": "code",
   "execution_count": 10,
   "metadata": {
    "ExecuteTime": {
     "end_time": "2023-07-20T15:16:24.214889Z",
     "start_time": "2023-07-20T15:16:18.832165Z"
    }
   },
   "outputs": [
    {
     "name": "stdout",
     "output_type": "stream",
     "text": [
      "A vector is a series of numbers 📊 that captures meaning in various contexts. It can be used to represent colors 🎨 or more complex concepts. Modern AI models use vectors to represent the essence of objects, like text, code, images, and videos. These vectors are derived through deep learning models 🧠. Weaviate leverages vector embeddings for similarity-based searches and powerful operations on different types of data. 🚀 #Vectors #MeaningCapture #AI\n"
     ]
    }
   ],
   "source": [
    "print(collection.ask_object(youtube_url, \"what is a vector? Explain in one tweet with emojis\"))"
   ]
  },
  {
   "cell_type": "code",
   "execution_count": 4,
   "metadata": {
    "ExecuteTime": {
     "end_time": "2023-07-30T00:26:33.151842Z",
     "start_time": "2023-07-30T00:26:33.149497Z"
    }
   },
   "outputs": [],
   "source": [
    "pdf_url = \"https://arxiv.org/pdf/2302.07842.pdf\"\n",
    "collection.add_pdf(pdf_url)"
   ]
  },
  {
   "cell_type": "code",
   "execution_count": 5,
   "outputs": [
    {
     "name": "stdout",
     "output_type": "stream",
     "text": [
      "📚 Key Learnings from the Texts on Language Models and Reasoning:\n",
      "- Language models have made progress in NLP tasks, but they often provide non-factual predictions.\n",
      "- Combining reasoning and tools within language models can solve complex tasks.\n",
      "- External tools like document retrievers and search engines improve LM outputs.\n",
      "- LM reasoning abilities can be enhanced through strategies like prompting and retrieval.\n",
      "- LMs can be used in various domains like question-answering, decision-making, and robotics.\n",
      "- Augmented language models (ALMs) can reason, use tools, and act, outperforming regular LMs.\n",
      "- Challenges in ALMs include interpretability, consistency, and scalability.\n",
      "- Reinforcement learning and prompt pre-training improve LM performance.\n",
      "- Research explores the integration of LMs with external tools and their ethical implications. 🧠🔧🚀\n"
     ]
    }
   ],
   "source": [
    "prompt = \"\"\"\n",
    "Summarize the key learnings in a tweet or two\n",
    " - use emojis and make it interesting.\n",
    "\"\"\"\n",
    "print(collection.summarize_entry(pdf_url, custom_prompt=prompt))"
   ],
   "metadata": {
    "collapsed": false,
    "ExecuteTime": {
     "end_time": "2023-07-30T00:28:00.920789Z",
     "start_time": "2023-07-30T00:26:35.485017Z"
    }
   }
  },
  {
   "cell_type": "code",
   "execution_count": 6,
   "outputs": [
    {
     "name": "stdout",
     "output_type": "stream",
     "text": [
      "Adding the data from https://arxiv.org/pdf/2210.03629.pdf\n",
      "Key learnings from the provided text excerpts:\n",
      "1️⃣ The ReAct paradigm combines reasoning and acting in language models for solving various language reasoning and decision-making tasks. It outperforms other baselines in performance, generalization, interpretability, and controllability.\n",
      "2️⃣ Language models can be used for object search, improving dialogue agent alignment, task-oriented dialogue, product search and decision-making, biographical information search, and switching between different methods based on task requirements.\n",
      "3️⃣ Language models can enhance an agent's performance in complex reasoning and decision-making tasks by augmenting an agent's action space with language, known as thoughts or reasoning traces.\n",
      "4️⃣ Augmenting language models with thoughts or reasoning traces can be scalable and can improve performance in various tasks, including interactive information retrieval, task solving, and reinforcement learning.\n",
      "5️⃣ Prompting methods play a crucial role in improving the reasoning capabilities of language models. ReAct and Chain-of-Thought (CoT) methods show promise but have limitations compared to human performance.\n",
      "6️⃣ Language models can be used for fact-checking, question answering, decision-making, and zero-shot planning.\n",
      "7️⃣ The use of language models in interactive environments like ALFWorld can facilitate problem-solving and reasoning tasks, but there are challenges in achieving human-level performance.\n",
      "\n",
      "\n"
     ]
    }
   ],
   "source": [
    "pdf_url = \"https://arxiv.org/pdf/2210.03629.pdf\"\n",
    "collection.add_pdf(pdf_url)\n",
    "prompt = \"\"\"\n",
    "Summarize the key learnings in a tweet or two\n",
    " - use emojis and make it interesting.\n",
    "\"\"\"\n",
    "print(collection.summarize_entry(pdf_url, custom_prompt=prompt))"
   ],
   "metadata": {
    "collapsed": false,
    "ExecuteTime": {
     "end_time": "2023-07-30T00:33:14.378699Z",
     "start_time": "2023-07-30T00:32:02.493716Z"
    }
   }
  },
  {
   "cell_type": "code",
   "execution_count": 2,
   "outputs": [
    {
     "name": "stdout",
     "output_type": "stream",
     "text": [
      "MoviePy - Writing audio in /var/folders/hw/hsnpzf0926n_30_bkr09mb200000gn/T/tmpbv5wgvwi.mp3\n"
     ]
    },
    {
     "name": "stderr",
     "output_type": "stream",
     "text": [
      "                                                                        \r"
     ]
    },
    {
     "name": "stdout",
     "output_type": "stream",
     "text": [
      "MoviePy - Done.\n",
      "Audio saved to temporary file: /var/folders/hw/hsnpzf0926n_30_bkr09mb200000gn/T/tmpbv5wgvwi.mp3\n",
      "Splitting audio to 3\n",
      "Getting transcripts from 3 audio files...\n",
      "Processing transcript 1 of 3...\n",
      "Processing transcript 2 of 3...\n",
      "Processing transcript 3 of 3...\n",
      "Adding the data from srcdata/Weaviate 1.21 features overview (2023-07-31 09_03 GMT+1).mp4\n",
      "Adding the data from srcdata/Weaviate 1.21 features overview (2023-07-31 09_03 GMT+1).mp4\n",
      "Adding the data from srcdata/Weaviate 1.21 features overview (2023-07-31 09_03 GMT+1).mp4\n"
     ]
    },
    {
     "data": {
      "text/plain": "67"
     },
     "execution_count": 2,
     "metadata": {},
     "output_type": "execute_result"
    }
   ],
   "source": [
    "movie_path = \"srcdata/Weaviate 1.21 features overview (2023-07-31 09_03 GMT+1).mp4\"\n",
    "collection.add_from_movie_local(movie_path)"
   ],
   "metadata": {
    "collapsed": false,
    "ExecuteTime": {
     "end_time": "2023-07-31T14:24:17.006092Z",
     "start_time": "2023-07-31T14:21:10.866730Z"
    }
   }
  },
  {
   "cell_type": "code",
   "execution_count": 3,
   "outputs": [
    {
     "name": "stdout",
     "output_type": "stream",
     "text": [
      "The audio recordings cover various topics related to the features of Weaviate 1.21. These include the contains operators that provide a more user-friendly syntax, optimizations for arm 64 to improve performance, joint marketing efforts with Intel, and the development of new features such as contains any and period. By listening to the audio, the reader can learn about the new features in Weaviate 1.21, the community's priorities, and the efforts to improve performance and user experience.\n",
      "\n",
      "Other topics discussed in the recordings include the use of the map function and p read in Weaviate, window support, tenant activation and deactivation in multi-tenancy, scoring changes, and active shards. The recordings also touch on concepts such as memory and file descriptor usage, background process scheduling, fetch limits, and improvements for large-scale multi-tenancy. By listening to these discussions, the reader can gain insights into the specific features and improvements in Weaviate 1.21, as well as the importance of multi-tenancy and performance considerations.\n",
      "\n",
      "Additionally, the recordings mention the support for Windows in Weaviate 1.21, data encoding of graph connections for memory optimization, reduction of lock contention in the HNSW implementation for improved indexing time, and considerations for backups and compatibility with previous releases. By listening to these recordings, the reader can understand the new features and enhancements in Weaviate 1.21, such as Windows support, memory optimization, and performance improvements, as well as the importance of backups and compatibility.\n",
      "\n",
      "Overall, the audio recordings provide a comprehensive overview of the features and improvements in Weaviate 1.21, covering topics such as syntax enhancements, performance optimizations, marketing efforts, new features, multi-tenancy considerations, and compatibility with previous releases. Listening to these recordings can provide valuable insights into the capabilities of Weaviate 1.21 and the efforts to enhance user experience and performance.\n"
     ]
    }
   ],
   "source": [
    "print(collection.summarize_entry(movie_path))"
   ],
   "metadata": {
    "collapsed": false,
    "ExecuteTime": {
     "end_time": "2023-07-31T14:31:57.170825Z",
     "start_time": "2023-07-31T14:30:50.372875Z"
    }
   }
  },
  {
   "cell_type": "code",
   "execution_count": 5,
   "outputs": [
    {
     "name": "stdout",
     "output_type": "stream",
     "text": [
      "==========\n",
      "ContainsAny and ContainsAll operators\n",
      "Embedded weaviate wasn't listening on port 6666, so starting embedded weaviate again\n",
      "Started /Users/jphwang/.cache/weaviate-embedded: process ID 74515\n"
     ]
    },
    {
     "name": "stderr",
     "output_type": "stream",
     "text": [
      "{\"action\":\"startup\",\"default_vectorizer_module\":\"none\",\"level\":\"info\",\"msg\":\"the default vectorizer modules is set to \\\"none\\\", as a result all new schema classes without an explicit vectorizer setting, will use this vectorizer\",\"time\":\"2023-07-31T15:37:33+01:00\"}\n",
      "{\"action\":\"startup\",\"auto_schema_enabled\":true,\"level\":\"info\",\"msg\":\"auto schema enabled setting is set to \\\"true\\\"\",\"time\":\"2023-07-31T15:37:33+01:00\"}\n",
      "{\"level\":\"warning\",\"msg\":\"Multiple vector spaces are present, GraphQL Explore and REST API list objects endpoint module include params has been disabled as a result.\",\"time\":\"2023-07-31T15:37:33+01:00\"}\n",
      "{\"action\":\"hnsw_vector_cache_prefill\",\"count\":3000,\"index_id\":\"knowledge_chunk_RzEWYPF2HONc\",\"level\":\"info\",\"limit\":1000000000000,\"msg\":\"prefilled vector cache\",\"time\":\"2023-07-31T15:37:33+01:00\",\"took\":619000}\n",
      "{\"action\":\"grpc_startup\",\"level\":\"info\",\"msg\":\"grpc server listening at [::]:50051\",\"time\":\"2023-07-31T15:37:33+01:00\"}\n",
      "{\"action\":\"restapi_management\",\"level\":\"info\",\"msg\":\"Serving weaviate at http://127.0.0.1:6666\",\"time\":\"2023-07-31T15:37:33+01:00\"}\n"
     ]
    },
    {
     "name": "stdout",
     "output_type": "stream",
     "text": [
      "The 'ContainsAny' and 'ContainsAll' operators are features that are highly demanded by the community in the Weaviate 1.21 release. These operators provide a more convenient syntax to avoid long chains of 'and' or 'or' conditions in queries. \n",
      "\n",
      "The 'ContainsAny' operator allows users to search for objects that contain any of the specified values in an array. For example, if an object has an array of languages ['Chinese', 'French', 'English'], and the user searches for 'French' and 'English' using the 'ContainsAny' operator, the object will be returned because it contains either 'French' or 'English'.\n",
      "\n",
      "On the other hand, the 'ContainsAll' operator is more restrictive. It allows users to search for objects that contain all of the specified values in an array. For example, if the user searches for 'French', 'English', and 'Turkish', the object will not be returned because it only contains 'French' and 'English', but not 'Turkish'.\n",
      "\n",
      "These operators are primarily intended for arrays, but they also work for tokenized text, which is similar to an array. Implementing these operators is not super complex from a technical perspective, as it involves rewriting queries. However, there are scalability concerns with the current implementation using nmap, which can lead to requests stalling under heavy load.\n",
      "\n",
      "Overall, the 'ContainsAny' and 'ContainsAll' operators are highly anticipated features in the Weaviate 1.21 release due to their high community demand.\n",
      "==========\n",
      "pread function vs mmap\n",
      "The discussion is about the differences between the 'pread' function and 'mmap' in terms of accessing disk space in virtual memory.\n",
      "\n",
      "The 'mmap' function is a technique that maps a portion of disk space to virtual memory, allowing it to be accessed as if it were memory. The operating system handles the disk access, and if enough memory is available, it can cache the entire disk, resulting in fast access. However, under heavy load or memory pressure, the use of 'mmap' can lead to scalability issues and slow down the system.\n",
      "\n",
      "On the other hand, the 'pread' function performs regular disk I/O at a specific position. It reads a specified number of bytes from a specific byte position, similar to 'mmap'. However, the Go runtime is aware of the disk I/O operations performed with 'pread', and it handles them differently. When a goroutine (lightweight thread in Go) is waiting for disk I/O, the Go runtime parks it and works on other tasks in the meantime. This means that the goroutine is not blocked and does not cause performance issues.\n",
      "\n",
      "The advantage of using 'pread' is that it avoids the stalling situations that can occur with 'mmap' under heavy load. It provides better responsiveness and avoids inducing downtime in a cluster. However, 'pread' does not provide the same memory management benefits as 'mmap', and it may not be as fast as memory access.\n",
      "\n",
      "The discussion also mentions that the Weaviate database currently uses 'mmap', but there are plans to switch to 'pread' as the default option in a future release. The decision is based on the observation that 'pread' performs better under heavy load and avoids stalling situations.\n",
      "\n",
      "Additionally, there is a paper titled \"Do you really want to use mmap in your DBMS?\" that argues against the use of 'mmap' in database management systems. The paper highlights potential issues with 'mmap' and suggests that it is always a bad choice.\n",
      "\n",
      "Overall, the discussion emphasizes the differences between 'pread' and 'mmap' in terms of performance, scalability, and responsiveness under heavy load. The decision to switch to 'pread' as the default option in Weaviate is driven by the need for better performance and avoidance of stalling situations.\n",
      "==========\n",
      "Arm64 neon\n",
      "The 'Arm64 neon' feature in Weaviate 1.21 refers to the optimization of arm 64 CPUs using neon instructions. Similar to how md64 is used for Intel CPUs, go assembly with simd instructions is now used for faster distance calculations. This optimization results in significant performance improvements, especially for large data sets and high-dimensional embeddings. The feature automatically detects the architecture and enables the optimization if supported. However, it has not been tested on Raspberry Pi or Chromebooks. It is important to note that this optimization does not make ARM faster than Intel, but rather adds support for ARM CPUs. The main point of contact for this feature is Asdean.\n",
      "==========\n",
      "Windows support\n",
      "Based on the provided text, it seems that the discussion is about various features and improvements in the Weaviate 1.21 release. Some of the topics discussed include memory management, performance improvements for MacBooks, support for Windows, multi-tenancy, deep backup improvements, and backward compatibility. The participants in the discussion mention specific individuals who are responsible for each feature. They also discuss the structure of the release announcement and the timing of the release.\n",
      "==========\n",
      "Delta encode in HNSW\n",
      "Delta encoding in HNSW is a feature that is being discussed in the video. It involves making changes to how the graph connections are stored in memory in Weaviate 1.21. Currently, the graph is stored as an array with all the edges, but the proposed change would involve a different method of storing the graph. This change is expected to improve indexing time and make data writing quicker to the HNSW graph. However, further testing and evaluation are needed before it can be included in the release. The feature is being worked on by Abdul, Dirk, and Asdean. It is also mentioned that the delta encoding of the edges is fully backward compatible with previous versions of Weaviate.\n",
      "==========\n",
      "Reduce HNSW lock contention\n",
      "The text discusses the issue of HNSW lock contention in Weaviate, a database management system. The current implementation of HNSW (Hierarchical Navigable Small World) has more locks than necessary, leading to performance issues under heavy load. The goal is to reduce lock contention and improve indexing time by optimizing the locking mechanism.\n",
      "\n",
      "The text also mentions other performance-related issues, such as memory pressure and disk swapping, which can impact scalability. The use of nmap (non-blocking I/O) can cause requests to stall and lead to downtime in the cluster. The Go programming language's handling of I/O can also contribute to app stalls if too many goroutines (lightweight threads) are blocked by I/O operations.\n",
      "\n",
      "In addition to performance improvements, the text mentions completed features like enabling the use of mmap (memory-mapped files) by default for performance gains. However, further testing is required before enabling it by default. Another completed feature is the centralization of background process scheduling to avoid overloading the system.\n",
      "\n",
      "The text also briefly mentions the motivation behind sending fewer files to cloud storage services like S3 and GCS. The SLAs (Service Level Agreements) for these services guarantee a high success rate for queries but still leave a chance for failures. By bundling files together, the number of requests can be reduced, improving efficiency.\n",
      "\n",
      "Overall, the focus is on improving performance, scalability, and efficiency in Weaviate through various optimizations and feature enhancements.\n",
      "==========\n",
      "Deactivate / activate tenant shard\n",
      "The feature being discussed is the ability to deactivate and activate tenant shards in a multi-tenancy setting. Previously, all shards were active by default, but with this feature, shards can be deactivated while still retaining the data. Deactivated shards do not consume memory or file descriptors. This feature allows for an unlimited number of non-active shards, limited only by disk space. The API for deactivating and activating shards is still being developed and considered experimental. The implementation may involve activating or deactivating multiple shards at once using an array of names. The feature is being worked on by Anze. The discussion also mentions the need for coordination of background processes within each shard to prevent overloading the system. This feature is still in the pipeline and is awaiting further development. The backward compatibility of this feature is also discussed, with potential issues if a shard is deactivated and then downgraded. Other features mentioned in the discussion include hybrid search scoring improvement, Windows support, lock contention, and backups. No further questions or grievances were raised during the meeting.\n",
      "==========\n",
      "Hybrid fusion scoring\n",
      "The hybrid fusion scoring feature in Weaviate 1.21 includes several completed features and upcoming developments. One completed feature is the neon optimizations for arm64, which uses go assembly with simd instructions to improve distance calculations and performance on Mac CPUs. This feature has already been released and has shown significant performance improvements.\n",
      "\n",
      "Another completed feature is the research on scoring programs. Users have noticed that changing the limit parameter in queries can affect the scoring results. To address this, the team has introduced a change where for small limits, the actual limit internally is higher and the results are simply cut off. This change stabilizes the scoring results and applies only to hybrid search.\n",
      "\n",
      "There are also upcoming features being worked on. One of them is the support for deactivating shards, which is still in progress. This feature allows users to deactivate specific shards, but there may be a backward compatibility issue if a shard is deactivated and then the system is downgraded.\n",
      "\n",
      "Additionally, the team is working on improving the scoring program for hybrid search. This improvement aims to stabilize the scoring results when merging different search methods. Jeremy is currently working on this feature.\n",
      "\n",
      "Other features mentioned include backups, window support, and lock contention, but further details are not provided in the given text.\n",
      "\n",
      "It is also mentioned that the team is considering splitting the meeting due to the time zone difference and the hiring of a new head of the database, who will likely be based in the US.\n",
      "\n",
      "Overall, the hybrid fusion scoring feature in Weaviate 1.21 includes completed optimizations for arm64 and ongoing developments to improve scoring stability and support for deactivating shards.\n",
      "==========\n",
      "Large scale multi tenancy\n",
      "The main focus of the release is on large-scale multi-tenancy. The previous release had a killer feature of multi-tenancy, but this release aims to address other aspects that couldn't be covered before. One of the smaller features related to multi-tenancy is the ability to activate and deactivate shards for tenants. This feature allows for better resource usage and stability in a multi-tenancy setting. It is currently labeled as experimental and may undergo changes in the future.\n",
      "\n",
      "Another feature in this release is deep backup improvements. Previously, backups involved copying files to a bucket, but with multi-tenancy, the number of files became a performance limitation. Additionally, the pricing strategies of storage services like S3 and GCS charge per operation, which can become costly with a large number of files. The new backup improvements aim to address these issues and provide better performance and cost efficiency.\n",
      "\n",
      "Overall, the release focuses on enhancing multi-tenancy and improving resource usage, stability, and backup processes in a large-scale setting.\n",
      "==========\n",
      "Backup improvements\n",
      "The backup improvements in Weaviate 1.21 include the following:\n",
      "\n",
      "1. Quadrant still uses map, which differentiates it from other features.\n",
      "2. The backup operation is fully backward compatible, allowing users to go back and forth without changing the stored data.\n",
      "3. There is a paper by Andy Pablo discussing the use of map in DBMS, which can provide additional insights.\n",
      "4. Restoring a backup with multiple tenants can overload the system, causing unresponsiveness. This issue needs to be addressed.\n",
      "5. Deep backup improvements aim to address performance limitations caused by the large number of files in multi-tenancy scenarios.\n",
      "6. OpenAI is a major stakeholder in the deep backup improvements.\n",
      "7. The release is expected to be fully backward compatible with version 1.20, but compatibility with backups needs to be confirmed.\n",
      "8. Some features, such as delta encoding of edges, are fully backward compatible, while others may have limitations when downgrading.\n",
      "9. Overall, the release focuses on small improvements after a major feature release.\n",
      "\n",
      "Please note that the information provided is based on the given text and may not reflect the complete details of the backup improvements in Weaviate 1.21.\n"
     ]
    }
   ],
   "source": [
    "for question in [\n",
    "    \"ContainsAny and ContainsAll operators\",\n",
    "    \"pread function vs mmap\",\n",
    "    \"Arm64 neon\",\n",
    "    \"Windows support\",\n",
    "    \"Delta encode in HNSW\",\n",
    "    \"Reduce HNSW lock contention\",\n",
    "    \"Deactivate / activate tenant shard\",\n",
    "    \"Hybrid fusion scoring\",\n",
    "    \"Large scale multi tenancy\",\n",
    "    \"Backup improvements\",\n",
    "]:\n",
    "    print(\"==========\")\n",
    "    print(question)\n",
    "    print(collection.ask_object(movie_path, question=question))"
   ],
   "metadata": {
    "collapsed": false,
    "ExecuteTime": {
     "end_time": "2023-07-31T14:39:10.020730Z",
     "start_time": "2023-07-31T14:37:33.053271Z"
    }
   }
  },
  {
   "cell_type": "code",
   "execution_count": 9,
   "outputs": [
    {
     "name": "stdout",
     "output_type": "stream",
     "text": [
      "==========\n",
      "Changes to the scoring by overfetching\n",
      "The changes to the scoring by overfetching in the upcoming release of Weaviate include:\n",
      "\n",
      "1. Contains operators: The highest upvoted feature on the roadmap, which prioritizes overfetching for zero and once, and then 150.\n",
      "\n",
      "2. Load balancing improvement: Resolving issues where error messages were displayed due to nodes being stuck fetching data from disk.\n",
      "\n",
      "3. Data encoding for graph connections: Storing the graph in memory in a more space-efficient way, resulting in memory enhancements and potential performance improvements.\n",
      "\n",
      "4. Reduce HNSW lock contention: Improving the current HNSW implementation by reducing unnecessary locks, which could potentially improve performance.\n",
      "\n",
      "5. Scoring program enhancement: Addressing the issue where changing the limit parameter in queries caused scoring changes, by internally setting a higher limit and cutting off the results.\n",
      "\n",
      "6. Backup improvements: Making backups more efficient by sending fewer files and reducing the chances of failure.\n",
      "\n",
      "These changes aim to improve performance, stability, and efficiency in Weaviate.\n"
     ]
    }
   ],
   "source": [
    "for question in [\n",
    "    \"Scoring by overfetching\",\n",
    "]:\n",
    "    print(\"==========\")\n",
    "    print(question)\n",
    "    print(collection.ask_object(movie_path, question=question))"
   ],
   "metadata": {
    "collapsed": false,
    "ExecuteTime": {
     "end_time": "2023-07-31T15:00:27.738822Z",
     "start_time": "2023-07-31T15:00:18.864293Z"
    }
   }
  },
  {
   "cell_type": "code",
   "execution_count": null,
   "outputs": [],
   "source": [],
   "metadata": {
    "collapsed": false
   }
  }
 ],
 "metadata": {
  "kernelspec": {
   "display_name": "Python 3 (ipykernel)",
   "language": "python",
   "name": "python3"
  },
  "language_info": {
   "codemirror_mode": {
    "name": "ipython",
    "version": 3
   },
   "file_extension": ".py",
   "mimetype": "text/x-python",
   "name": "python",
   "nbconvert_exporter": "python",
   "pygments_lexer": "ipython3",
   "version": "3.10.12"
  },
  "varInspector": {
   "cols": {
    "lenName": 16,
    "lenType": 16,
    "lenVar": 40
   },
   "kernels_config": {
    "python": {
     "delete_cmd_postfix": "",
     "delete_cmd_prefix": "del ",
     "library": "var_list.py",
     "varRefreshCmd": "print(var_dic_list())"
    },
    "r": {
     "delete_cmd_postfix": ") ",
     "delete_cmd_prefix": "rm(",
     "library": "var_list.r",
     "varRefreshCmd": "cat(var_dic_list()) "
    }
   },
   "types_to_exclude": [
    "module",
    "function",
    "builtin_function_or_method",
    "instance",
    "_Feature"
   ],
   "window_display": false
  }
 },
 "nbformat": 4,
 "nbformat_minor": 1
}
