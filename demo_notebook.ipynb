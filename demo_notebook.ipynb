{
 "cells": [
  {
   "cell_type": "markdown",
   "source": [
    "## Demo notebook - personal knowledge repo\n",
    "### Powered by Weaviate :)"
   ],
   "metadata": {
    "collapsed": false
   }
  },
  {
   "cell_type": "markdown",
   "source": [
    "Import the functions, and instantiate the database. Then, connect to the date (collection).\n",
    "\n",
    "You'll be interacting with the data through the `collection`."
   ],
   "metadata": {
    "collapsed": false
   }
  },
  {
   "cell_type": "code",
   "execution_count": 1,
   "outputs": [
    {
     "name": "stdout",
     "output_type": "stream",
     "text": [
      "Found class. Skipping class creation\n"
     ]
    }
   ],
   "source": [
    "import wkb\n",
    "client = wkb.start_db()\n",
    "collection = wkb.Collection(client, wkb.WV_CLASS)"
   ],
   "metadata": {
    "collapsed": false,
    "ExecuteTime": {
     "end_time": "2023-07-19T14:39:58.419838Z",
     "start_time": "2023-07-19T14:39:57.660180Z"
    }
   }
  },
  {
   "cell_type": "markdown",
   "source": [
    "### Load data\n",
    "\n",
    "There are a bunch of built-in functions to make it easier to add data to your knowledge base."
   ],
   "metadata": {
    "collapsed": false
   }
  },
  {
   "cell_type": "markdown",
   "source": [
    "To add a text file - simply specify the path to it:"
   ],
   "metadata": {
    "collapsed": false
   }
  },
  {
   "cell_type": "code",
   "execution_count": 2,
   "outputs": [
    {
     "data": {
      "text/plain": "13"
     },
     "execution_count": 2,
     "metadata": {},
     "output_type": "execute_result"
    }
   ],
   "source": [
    "collection.add_text_file(\"./srcdata/kubernetes_concepts_overview.txt\")"
   ],
   "metadata": {
    "collapsed": false,
    "ExecuteTime": {
     "end_time": "2023-07-19T14:40:04.604295Z",
     "start_time": "2023-07-19T14:40:01.410672Z"
    }
   }
  },
  {
   "cell_type": "markdown",
   "source": [
    "To add a Wiki article (currently it just adds the summary) - provide the article title:"
   ],
   "metadata": {
    "collapsed": false
   }
  },
  {
   "cell_type": "code",
   "execution_count": 3,
   "outputs": [],
   "source": [
    "for wiki_title in [\n",
    "    \"Database\",\n",
    "    \"Vector database\",\n",
    "    \"Containerization (computing)\",\n",
    "    \"Formula One\",\n",
    "]:\n",
    "    collection.add_wiki_article(wiki_title)"
   ],
   "metadata": {
    "collapsed": false,
    "ExecuteTime": {
     "end_time": "2023-07-15T13:44:04.504165Z",
     "start_time": "2023-07-15T13:43:57.735275Z"
    }
   }
  },
  {
   "cell_type": "markdown",
   "source": [
    "And to add a YouTube video: proivde its URL"
   ],
   "metadata": {
    "collapsed": false
   }
  },
  {
   "cell_type": "code",
   "execution_count": 4,
   "outputs": [],
   "source": [
    "youtube_url = 'https://youtu.be/xk28RMhRy1U'  # Weaviate 1.20 release podcast\n",
    "# collection.add_from_youtube(youtube_url)"
   ],
   "metadata": {
    "collapsed": false,
    "ExecuteTime": {
     "end_time": "2023-07-17T10:36:17.339685Z",
     "start_time": "2023-07-17T10:36:17.337449Z"
    }
   }
  },
  {
   "cell_type": "markdown",
   "source": [
    "### Make use of your knowledge base\n",
    "\n",
    "You can use the data in your knowledge base in various ways."
   ],
   "metadata": {
    "collapsed": false
   }
  },
  {
   "cell_type": "markdown",
   "source": [
    "You can summarize a particular entry - for example, the YouTube video that we just ingested:"
   ],
   "metadata": {
    "collapsed": false
   }
  },
  {
   "cell_type": "code",
   "execution_count": 5,
   "outputs": [
    {
     "name": "stdout",
     "output_type": "stream",
     "text": [
      "This podcast episode features Etienne Dilocker discussing various topics related to Weaviate 1.20. The episode covers topics such as memory optimization, shards in Weaviate, multi-tenancy, vector search, linear scaling, cluster size, load testing, and testing phases. Listeners can learn about the improvements made to memory usage in Weaviate, the role of shards in data organization, the concept and benefits of multi-tenancy, the challenges of implementing vector search in a multi-tenant environment, and the scalability and testing process of Weaviate.\n",
      "\n",
      "Additionally, the podcast delves into the implementation phase of multi-tenancy, including the design of lightweight and dynamic shards, black box end-to-end testing, and stability and scalability testing. Listeners can gain insights into the challenges faced in optimizing CPU time, the advantages of native multi-tenancy, the concept of shards, and the testing process for multi-tenancy implementation in Weaviate.\n",
      "\n",
      "Overall, the episode provides a comprehensive overview of the features, improvements, challenges, and benefits of Weaviate 1.20, with a focus on memory optimization, shards, multi-tenancy, vector search, and scaling. Listeners can learn about the technical details and practical considerations of using Weaviate for vector storage and search, as well as gain insights into the challenges and advancements in machine learning applications.\n"
     ]
    }
   ],
   "source": [
    "print(collection.summarize_entry(youtube_url))"
   ],
   "metadata": {
    "collapsed": false,
    "ExecuteTime": {
     "end_time": "2023-07-17T10:37:33.751150Z",
     "start_time": "2023-07-17T10:36:19.467134Z"
    }
   }
  },
  {
   "cell_type": "markdown",
   "source": [
    "Or, you can ask it to suggest key ideas that you can learn about, given a particular topic."
   ],
   "metadata": {
    "collapsed": false
   }
  },
  {
   "cell_type": "code",
   "execution_count": 8,
   "outputs": [
    {
     "name": "stdout",
     "output_type": "stream",
     "text": [
      "Related sub-topics about Weaviate:\n",
      "\n",
      "1. Hybrid search capabilities, including BM25 and re-ranking\n",
      "2. Module system for flexible customization and adding features\n",
      "3. Improving search experience and accessibility\n",
      "4. Experimental and evaluation phases of development\n",
      "5. Incorporating user feedback and making improvements\n",
      "6. Multi-tenancy and its benefits for data management and machine learning applications\n"
     ]
    }
   ],
   "source": [
    "print(collection.suggest_topics_to_learn(\"weaviate\"))"
   ],
   "metadata": {
    "collapsed": false,
    "ExecuteTime": {
     "end_time": "2023-07-15T13:54:32.298920Z",
     "start_time": "2023-07-15T13:54:28.471809Z"
    }
   }
  },
  {
   "cell_type": "markdown",
   "source": [
    "You can actually provide a custom prompt with the summarization task. For example, you can get Weaviate to suggest some things I can learn about - from a specific video."
   ],
   "metadata": {
    "collapsed": false
   }
  },
  {
   "cell_type": "code",
   "execution_count": 9,
   "outputs": [
    {
     "name": "stdout",
     "output_type": "stream",
     "text": [
      "The related sub-topics that you might learn about from the provided information are:\n",
      "\n",
      "1. Optimizing memory allocation and reducing memory footprint in Weaviate\n",
      "2. The concept of shards and their importance in organizing data in Weaviate\n",
      "3. Multi-tenancy in Weaviate and its role in separating data for different users\n",
      "4. Challenges and strategies for implementing vector search in a multi-tenant environment\n",
      "5. Linear scaling and cluster size in Weaviate for improved performance\n",
      "6. Testing and evaluation processes for multi-tenancy implementation\n",
      "7. Sharding and its benefits in querying a small portion of data in isolation\n",
      "8. Load testing and scalability challenges in Weaviate\n",
      "9. Benefits and cost savings of multi-tenancy in Weaviate\n",
      "10. Product quantization as a vector compression technique in Weaviate\n",
      "11. In-memory and on-disk storage of vectors in Weaviate\n",
      "12. The HNSW traversal algorithm and its impact on search results\n",
      "13. Challenges and techniques for loading and updating vectors in Weaviate\n",
      "14. The benefits of concurrency in search engine applications\n",
      "15. Re-ranking and its role in improving search performance\n",
      "16. AutoCut feature for removing irrelevant search results\n",
      "17. Use cases and benefits of search in Weaviate\n",
      "18. Monitoring and observability in complex systems like Weaviate\n",
      "19. Performance and scalability considerations in cloud-based systems\n",
      "20. Training and using vectors in Weaviate for improved search capabilities.\n",
      "\n",
      "Remember, this is just a summary of the sub-topics mentioned in the provided information.\n"
     ]
    }
   ],
   "source": [
    "topic_prompt = f\"\"\"\n",
    "Extract a list of three to six related sub-topics\n",
    "related to the main topic that the user might learn about.\n",
    "Deliver the topics as a short list, each separated by two consecutive newlines like `\\n\\n`\n",
    "\"\"\"\n",
    "\n",
    "print(collection.summarize_entry(youtube_url, custom_prompt=topic_prompt))"
   ],
   "metadata": {
    "collapsed": false,
    "ExecuteTime": {
     "end_time": "2023-07-15T13:56:08.405343Z",
     "start_time": "2023-07-15T13:54:43.136105Z"
    }
   }
  },
  {
   "cell_type": "markdown",
   "source": [
    "Or maybe I want to share details about what I learned from a video?"
   ],
   "metadata": {
    "collapsed": false
   }
  },
  {
   "cell_type": "code",
   "execution_count": 10,
   "outputs": [
    {
     "name": "stdout",
     "output_type": "stream",
     "text": [
      "🐍📦 Comparing Python packages:\n",
      "- Dataclasses: basic features, no validation\n",
      "- Atters: control over class defs + comparison, ext dependency\n",
      "- Pydantic: powerful validation, strict data types (inheritance)\n",
      "🤔 Choose based on needs! #Python #Packages\n"
     ]
    }
   ],
   "source": [
    "youtube_url = 'https://youtu.be/zN4VCb0LbQI'  # Pydnatic vs dataclasses vs attrs\n",
    "collection.add_from_youtube(youtube_url)\n",
    "\n",
    "print(collection.summarize_entry(youtube_url, custom_prompt=\"Summarize their conclusions about Pydantic, dataclasses and Attrs in a tweet or two - use emojis and make it interesting.\"))"
   ],
   "metadata": {
    "collapsed": false,
    "ExecuteTime": {
     "end_time": "2023-07-16T16:40:17.985298Z",
     "start_time": "2023-07-16T16:39:50.758413Z"
    }
   }
  },
  {
   "cell_type": "code",
   "execution_count": 12,
   "outputs": [
    {
     "name": "stdout",
     "output_type": "stream",
     "text": [
      "[youtube] Extracting URL: https://youtu.be/wi63uvjs6Uc\n",
      "[youtube] wi63uvjs6Uc: Downloading webpage\n"
     ]
    },
    {
     "name": "stderr",
     "output_type": "stream",
     "text": [
      "WARNING: [youtube] unable to extract initial player response; please report this issue on  https://github.com/yt-dlp/yt-dlp/issues?q= , filling out the appropriate issue template. Confirm you are on the latest version using  yt-dlp -U\n"
     ]
    },
    {
     "name": "stdout",
     "output_type": "stream",
     "text": [
      "[youtube] wi63uvjs6Uc: Downloading ios player API JSON\n",
      "[youtube] wi63uvjs6Uc: Downloading android player API JSON\n",
      "[youtube] wi63uvjs6Uc: Downloading iframe API JS\n",
      "[youtube] wi63uvjs6Uc: Downloading player 4cc5d082\n",
      "[youtube] wi63uvjs6Uc: Downloading web player API JSON\n",
      "[youtube] wi63uvjs6Uc: Downloading m3u8 information\n"
     ]
    },
    {
     "name": "stderr",
     "output_type": "stream",
     "text": [
      "WARNING: [youtube] unable to extract yt initial data; please report this issue on  https://github.com/yt-dlp/yt-dlp/issues?q= , filling out the appropriate issue template. Confirm you are on the latest version using  yt-dlp -U\n",
      "WARNING: [youtube] Incomplete data received in embedded initial data; re-fetching using API.\n"
     ]
    },
    {
     "name": "stdout",
     "output_type": "stream",
     "text": [
      "[youtube] wi63uvjs6Uc: Downloading initial data API JSON\n",
      "[info] wi63uvjs6Uc: Downloading 1 format(s): 251\n",
      "[download] Destination: temp_audio.mp3\n",
      "[download] 100% of   15.92MiB in 00:00:00 at 18.17MiB/s    \n",
      "Found God of War Ragnarok Review - downloading\n",
      "[youtube] Extracting URL: https://youtu.be/wi63uvjs6Uc\n",
      "[youtube] wi63uvjs6Uc: Downloading webpage\n"
     ]
    },
    {
     "name": "stderr",
     "output_type": "stream",
     "text": [
      "WARNING: [youtube] unable to extract initial player response; please report this issue on  https://github.com/yt-dlp/yt-dlp/issues?q= , filling out the appropriate issue template. Confirm you are on the latest version using  yt-dlp -U\n"
     ]
    },
    {
     "name": "stdout",
     "output_type": "stream",
     "text": [
      "[youtube] wi63uvjs6Uc: Downloading ios player API JSON\n",
      "[youtube] wi63uvjs6Uc: Downloading android player API JSON\n",
      "[youtube] wi63uvjs6Uc: Downloading iframe API JS\n",
      "[youtube] wi63uvjs6Uc: Downloading web player API JSON\n",
      "[youtube] wi63uvjs6Uc: Downloading m3u8 information\n"
     ]
    },
    {
     "name": "stderr",
     "output_type": "stream",
     "text": [
      "WARNING: [youtube] unable to extract yt initial data; please report this issue on  https://github.com/yt-dlp/yt-dlp/issues?q= , filling out the appropriate issue template. Confirm you are on the latest version using  yt-dlp -U\n",
      "WARNING: [youtube] Incomplete data received in embedded initial data; re-fetching using API.\n"
     ]
    },
    {
     "name": "stdout",
     "output_type": "stream",
     "text": [
      "[youtube] wi63uvjs6Uc: Downloading initial data API JSON\n",
      "[info] wi63uvjs6Uc: Downloading 1 format(s): 251\n",
      "[download] temp_audio.mp3 has already been downloaded\n",
      "[download] 100% of   15.92MiB\n",
      "Successfully Downloaded to temp_audio.mp3\n",
      "Splitting audio to 2\n"
     ]
    },
    {
     "name": "stderr",
     "output_type": "stream",
     "text": [
      "/Users/jphwang/code/sandpit/wv_simple_kb/utils.py:105: ResourceWarning: unclosed file <_io.BufferedRandom name='0_temp_audio.mp3'>\n",
      "  clip.export(f\"{i}_\" + audio_file_path)\n",
      "ResourceWarning: Enable tracemalloc to get the object allocation traceback\n",
      "/Users/jphwang/code/sandpit/wv_simple_kb/utils.py:105: ResourceWarning: unclosed file <_io.BufferedRandom name='1_temp_audio.mp3'>\n",
      "  clip.export(f\"{i}_\" + audio_file_path)\n",
      "ResourceWarning: Enable tracemalloc to get the object allocation traceback\n"
     ]
    },
    {
     "name": "stdout",
     "output_type": "stream",
     "text": [
      "Getting transcripts from 2 audio files...\n",
      "Processing transcript 1 of 2...\n",
      "Processing transcript 2 of 2...\n"
     ]
    },
    {
     "name": "stderr",
     "output_type": "stream",
     "text": [
      "/Users/jphwang/code/sandpit/wv_simple_kb/utils.py:71: ResourceWarning: unclosed file <_io.BufferedReader name='0_temp_audio.mp3'>\n",
      "  audio_file = open(clip_outpath, \"rb\")\n",
      "ResourceWarning: Enable tracemalloc to get the object allocation traceback\n"
     ]
    },
    {
     "name": "stdout",
     "output_type": "stream",
     "text": [
      "[youtube] Extracting URL: https://youtu.be/wi63uvjs6Uc\n",
      "[youtube] wi63uvjs6Uc: Downloading webpage\n"
     ]
    },
    {
     "name": "stderr",
     "output_type": "stream",
     "text": [
      "/Users/jphwang/code/sandpit/wv_simple_kb/wkb.py:155: ResourceWarning: unclosed file <_io.BufferedReader name='1_temp_audio.mp3'>\n",
      "  transcript_texts = _get_transcripts_from_audio_file(outpath)\n",
      "ResourceWarning: Enable tracemalloc to get the object allocation traceback\n"
     ]
    },
    {
     "name": "stdout",
     "output_type": "stream",
     "text": [
      "[youtube] wi63uvjs6Uc: Downloading ios player API JSON\n",
      "[youtube] wi63uvjs6Uc: Downloading android player API JSON\n",
      "[youtube] wi63uvjs6Uc: Downloading m3u8 information\n",
      "[youtube] Extracting URL: https://youtu.be/wi63uvjs6Uc\n",
      "[youtube] wi63uvjs6Uc: Downloading webpage\n",
      "[youtube] wi63uvjs6Uc: Downloading ios player API JSON\n",
      "[youtube] wi63uvjs6Uc: Downloading android player API JSON\n",
      "[youtube] wi63uvjs6Uc: Downloading m3u8 information\n",
      "This game, God of War Ragnarok, seems to appeal to a wide range of gamers. It offers an enthralling spectacle with impeccable writing and pitch-perfect performances. The combat mechanics are praised, particularly the return of weapons and brutal finishes on stunned enemies. The game is described as a sprawling epic with grand designs and serves as a fitting conclusion to the Norse saga of Kratos. It explores themes such as destiny and the cycle of violence between parents and children. The expanded cast of characters, role of humor, and impressive continuous camera shot style are also highlighted. Overall, this game combines storytelling and combat in a captivating way and offers an immersive world-building experience with challenging boss battles, puzzle ideas, and collectibles. It presents gameplay challenges through side quests, tough boss encounters, and end-game level challenges. The variety of creatures, distinct realms, and visual and technical craftsmanship contribute to the overall high-quality experience.\n"
     ]
    }
   ],
   "source": [
    "youtube_url = 'https://youtu.be/wi63uvjs6Uc'  # God of war review\n",
    "collection.add_from_youtube(youtube_url)"
   ],
   "metadata": {
    "collapsed": false,
    "ExecuteTime": {
     "end_time": "2023-07-16T16:43:16.445484Z",
     "start_time": "2023-07-16T16:41:17.441435Z"
    }
   }
  },
  {
   "cell_type": "markdown",
   "source": [
    "You can also ask questions to a particular object."
   ],
   "metadata": {
    "collapsed": false
   }
  },
  {
   "cell_type": "code",
   "execution_count": 13,
   "outputs": [
    {
     "name": "stdout",
     "output_type": "stream",
     "text": [
      "This game, God of War Ragnarok, might appeal to gamers who enjoy action-adventure games with a strong emphasis on storytelling. It is likely to attract fans of the previous God of War game, as it is a sequel that builds upon the success of its predecessor. The game offers fast-paced combat, cinematic spectacle, and a variety of weapons and abilities to engage with. Gamers who appreciate Norse mythology and its interpretation in video games may also find this game appealing. Additionally, those who enjoy exploring richly detailed and visually stunning game worlds may be drawn to God of War Ragnarok.\n"
     ]
    }
   ],
   "source": [
    "print(collection.ask_object(youtube_url, \"What kind of gamers might this game appeal to?\"))"
   ],
   "metadata": {
    "collapsed": false,
    "ExecuteTime": {
     "end_time": "2023-07-16T16:43:32.357380Z",
     "start_time": "2023-07-16T16:43:26.835177Z"
    }
   }
  },
  {
   "cell_type": "markdown",
   "source": [
    "You can perform fairly basic things - like text similarity searches"
   ],
   "metadata": {
    "collapsed": false
   }
  },
  {
   "cell_type": "code",
   "execution_count": 8,
   "outputs": [
    {
     "data": {
      "text/plain": "[{'_additional': {'distance': 0.17339444},\n  'body': \"like, you can get started with 1.20, but this is not where multi-tenancy ends basically, this is basically just the beginning. And one big sort of potential for improvement that we have is cost reduction, because something that if you have a multi-tenancy case, most likely not all of your tenants are active at the same time. If they are, all your tenants would need to sort of be active and this is, I'm using this fuzzy term of active versus inactive because that's just as an abstraction, we can go into what that means as well. But if we say that we have active tenants who are potentially expensive, like let's say they need a lot of memory, they need a lot of compute,\",\n  'chunk_number': 60,\n  'source_path': 'https://youtu.be/xk28RMhRy1U',\n  'source_title': 'Etienne Dilocker on Weaviate 1.20 - Weaviate Podcast #56!'},\n {'_additional': {'distance': 0.17356431},\n  'body': \"what multi-tenancy is? Yeah, yeah, what it is and sort of why you need it even in the first place. So multi-tenancy for us, and I always feel like I need to sort of, because when people hear multi-tenancy, they think of cloud operations or shared resource and cloud operations. And of course we have a cloud service. So multi-tenancy for us is not about how we run the Weeviate cloud service. Yes, you can use multi-tenancy on the cloud service, but it's actually about multi-tenancy for you, the user. So let's say you have an application, your application has separate users and they have somehow data that needs to be separated from one way or another. So for example, let's say you build an\",\n  'chunk_number': 2,\n  'source_path': 'https://youtu.be/xk28RMhRy1U',\n  'source_title': 'Etienne Dilocker on Weaviate 1.20 - Weaviate Podcast #56!'},\n {'_additional': {'distance': 0.18398982},\n  'body': \"old setup, this shard with this specific configuration would live on one of those exactly three nodes. So one way of distributing this around the setup a bit would be if you have 30 tenants, or sorry, in the old set of 30 classes, I mean, you would have 30 tenants, but you would model them with 30 classes. Each node could hold 10 of those basically. And then that would sort of be evenly distributed, but you'd have very little control. Now with multi-tenancy, we keep that idea of having one shard, but the shards have become much more lightweight. So you have essentially, we've run a couple of load tests, and we could, in one example, this depends a bit on sort of\",\n  'chunk_number': 16,\n  'source_path': 'https://youtu.be/xk28RMhRy1U',\n  'source_title': 'Etienne Dilocker on Weaviate 1.20 - Weaviate Podcast #56!'},\n {'_additional': {'distance': 0.18992794},\n  'body': \"worked because by creating 10 classes, you also under the hood created 10 shards. It was kind of doing a lot of overhead for essentially you just wanted to end up with 10 shards. You could kind of do it with creating 10 classes. The multi-tenancy feature, the native multi-tenancy feature, in the simplest terms you can think of it, it's a single class, but within that class, we create one shard per tenant. So shards are now no longer this static thing, but they're completely dynamic. Like you can add them on the fly, you can delete them on the fly. And the kind of cluster association with a shard, still holds true. So I need to explain a bit more for this probably.\",\n  'chunk_number': 14,\n  'source_path': 'https://youtu.be/xk28RMhRy1U',\n  'source_title': 'Etienne Dilocker on Weaviate 1.20 - Weaviate Podcast #56!'},\n {'_additional': {'distance': 0.19240224},\n  'body': \"to onboard more users, you just add a new node and per node, you would again have roughly 10 tenants capacity. And in reality, it's more like 10,000, for example, that makes it easier to reason about. And then VV8 under the hood, make sure that you hit the right node. So of course, as a user, you don't know where that stuff is scheduled, but VV8 will just say like with every, and this is the only real API change for multi-tenancy is that now you have to specify your tenant key. So you don't have to use a filter basically in your, let's say you do a get near text search, then you just have an additional property. That's the tenant. And then\",\n  'chunk_number': 19,\n  'source_path': 'https://youtu.be/xk28RMhRy1U',\n  'source_title': 'Etienne Dilocker on Weaviate 1.20 - Weaviate Podcast #56!'},\n {'_additional': {'distance': 0.19299388},\n  'body': \"single class, that class potentially spans the entire cluster, but a single tenant still is isolated to one node. So this, and to make this a bit more complex, we could then also add replication, because then you can make sure that this node doesn't become a single point of failure. But for now, let's just ignore replication. So you could have, you could start with a three node cluster. Let's say your tenants are really huge and you would only fit 10 per node. Then you could fill up to 30 tenants on that cluster. Now, if you want to onboard more users, you just add a new node and per node, you would again have roughly 10 tenants capacity. And in reality, it's\",\n  'chunk_number': 18,\n  'source_path': 'https://youtu.be/xk28RMhRy1U',\n  'source_title': 'Etienne Dilocker on Weaviate 1.20 - Weaviate Podcast #56!'},\n {'_additional': {'distance': 0.19563621},\n  'body': \"multi-tenancy and how you have native multi-tenancy? And I think really to separate these two things, hopefully it's not a selfish question from my understanding, but this, the difference between just creating a bunch of classes and, you know, we've got 1.19 compared to the native multi-tenancy in 1.20. Absolutely. This is definitely not a selfish question. I think our viewers and listeners will absolutely appreciate that as well. So this class-based workaround kind of worked because one thing that a class already does is it creates something like some separate space somewhere basically in the class and internally in Weave V8, this is a shard. And within one class, you could have anywhere between, so this is in the traditional mode without multi-tenancy, you\",\n  'chunk_number': 12,\n  'source_path': 'https://youtu.be/xk28RMhRy1U',\n  'source_title': 'Etienne Dilocker on Weaviate 1.20 - Weaviate Podcast #56!'},\n {'_additional': {'distance': 0.19623154},\n  'body': \"as I'm understanding it better from hearing you speaking about it. Yeah, also makes it easier to get the data out for a specific tenant, because essentially like a list all query is now specific to a tenant. So you're now listing all the data for that tenant, so. Yeah, I guess like when I was first thinking about this topic of multi-tenancy, I hadn't understood the just users with the same kind of class. Well, I hope I'm making this, like I thought about it, like say I want to have all these different classes with different properties. Like for whatever reason, Connor has a age property, but Eddie and I don't know, you don't have, you just have like a hometown. Like, you\",\n  'chunk_number': 66,\n  'source_path': 'https://youtu.be/xk28RMhRy1U',\n  'source_title': 'Etienne Dilocker on Weaviate 1.20 - Weaviate Podcast #56!'},\n {'_additional': {'distance': 0.20158392},\n  'body': \"stakeholders that were really waiting for this. And they're really saying like, Hey, this is sort of not having multi-tenancy or not having a multi-tenancy solution that scales to millions of tenants is what's keeping us from reaching the next level with VV8 or maybe for others, keeping us from using VV8 in the first place. So we really wanted to make sure that while we knew that there was a limit with the previous solution, like now we want to confidently say these limits are gone. You can use it for the kind of scale you want. And now essentially the only limit, there are two limits. One is the number of file descriptors. So that varies a bit and that is local to\",\n  'chunk_number': 44,\n  'source_path': 'https://youtu.be/xk28RMhRy1U',\n  'source_title': 'Etienne Dilocker on Weaviate 1.20 - Weaviate Podcast #56!'},\n {'_additional': {'distance': 0.20234585},\n  'body': \"just sharding particularly, but like back into the multi-tenancy, like do you see, you know, what are some things that are top of mind now that rolling it out? Yeah, there's one aspect that I haven't even mentioned at all yet that I'm super excited about. What we wanted to achieve with 1.20 was we wanted to have a stable API, we wanted to have sort of the main functionality, which is scale. So anyone who was blocked by not being able to onboard or to get started with VBA because of lack of multi-tenancy features, we wanted to say like, you can get started with 1.20, but this is not where multi-tenancy ends basically, this is basically just the beginning. And one big sort\",\n  'chunk_number': 59,\n  'source_path': 'https://youtu.be/xk28RMhRy1U',\n  'source_title': 'Etienne Dilocker on Weaviate 1.20 - Weaviate Podcast #56!'}]"
     },
     "execution_count": 8,
     "metadata": {},
     "output_type": "execute_result"
    }
   ],
   "source": [
    "collection.text_search(\"multy tenancy\")"
   ],
   "metadata": {
    "collapsed": false,
    "ExecuteTime": {
     "end_time": "2023-07-17T10:42:40.114171Z",
     "start_time": "2023-07-17T10:42:39.657796Z"
    }
   }
  },
  {
   "cell_type": "code",
   "execution_count": null,
   "outputs": [],
   "source": [],
   "metadata": {
    "collapsed": false
   }
  }
 ],
 "metadata": {
  "kernelspec": {
   "display_name": "Python 3",
   "language": "python",
   "name": "python3"
  },
  "language_info": {
   "codemirror_mode": {
    "name": "ipython",
    "version": 2
   },
   "file_extension": ".py",
   "mimetype": "text/x-python",
   "name": "python",
   "nbconvert_exporter": "python",
   "pygments_lexer": "ipython2",
   "version": "2.7.6"
  }
 },
 "nbformat": 4,
 "nbformat_minor": 0
}
