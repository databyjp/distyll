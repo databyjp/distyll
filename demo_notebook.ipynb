{
 "cells": [
  {
   "cell_type": "markdown",
   "metadata": {},
   "source": [
    "## Demo notebook - personal knowledge repo\n",
    "### Powered by Weaviate :)"
   ]
  },
  {
   "cell_type": "markdown",
   "metadata": {},
   "source": [
    "Import the functions, and instantiate the database. Then, connect to the date (collection).\n",
    "\n",
    "You'll be interacting with the data through the `collection`."
   ]
  },
  {
   "cell_type": "code",
   "execution_count": 1,
   "metadata": {
    "ExecuteTime": {
     "end_time": "2023-07-20T16:58:49.009296Z",
     "start_time": "2023-07-20T16:58:48.350360Z"
    }
   },
   "outputs": [
    {
     "name": "stdout",
     "output_type": "stream",
     "text": [
      "Found class. Skipping class creation\n",
      "Creating a new class:\n"
     ]
    }
   ],
   "source": [
    "import wkb\n",
    "client = wkb.start_db()\n",
    "collection = wkb.Collection(client, wkb.WV_CLASS)\n",
    "collection.reinitialize_db()"
   ]
  },
  {
   "cell_type": "markdown",
   "metadata": {},
   "source": [
    "### Load data\n",
    "\n",
    "There are a bunch of built-in functions to make it easier to add data to your knowledge base."
   ]
  },
  {
   "cell_type": "markdown",
   "metadata": {},
   "source": [
    "To add a text file - simply specify the path to it:"
   ]
  },
  {
   "cell_type": "code",
   "execution_count": 2,
   "metadata": {
    "ExecuteTime": {
     "end_time": "2023-07-20T15:12:37.265672Z",
     "start_time": "2023-07-20T15:12:35.706391Z"
    }
   },
   "outputs": [
    {
     "name": "stdout",
     "output_type": "stream",
     "text": [
      "Adding the data from ./srcdata/kubernetes_concepts_overview.txt\n"
     ]
    },
    {
     "data": {
      "text/plain": [
       "13"
      ]
     },
     "execution_count": 2,
     "metadata": {},
     "output_type": "execute_result"
    }
   ],
   "source": [
    "collection.add_text_file(\"./srcdata/kubernetes_concepts_overview.txt\")"
   ]
  },
  {
   "cell_type": "code",
   "execution_count": 3,
   "metadata": {
    "ExecuteTime": {
     "end_time": "2023-07-20T15:12:55.595107Z",
     "start_time": "2023-07-20T15:12:46.907634Z"
    }
   },
   "outputs": [
    {
     "data": {
      "text/plain": [
       "\"Kubernetes is a portable, extensible, open source platform for managing containerized workloads and services. It provides service discovery and load balancing, storage orchestration, automated rollouts and rollbacks, automatic bin packing, self-healing, secret and configuration management. Kubernetes aims to support a diverse variety of workloads and does not limit the types of applications supported. It is not a traditional, all-inclusive PaaS system and does not provide application-level services or deployment of source code. Kubernetes eliminates the need for orchestration and provides a set of independent, composable control processes. It is highly portable and can run on various platforms. Kubernetes combines Google's experience with best practices from the community. It evolved from the traditional deployment era to the container deployment era, providing benefits such as agility, scalability, and cost reduction.\""
      ]
     },
     "execution_count": 3,
     "metadata": {},
     "output_type": "execute_result"
    }
   ],
   "source": [
    "collection.summarize_topic(\"kubernetes\")"
   ]
  },
  {
   "cell_type": "markdown",
   "metadata": {},
   "source": [
    "To add a Wiki article (currently it just adds the summary) - provide the article title:"
   ]
  },
  {
   "cell_type": "code",
   "execution_count": 4,
   "metadata": {
    "ExecuteTime": {
     "end_time": "2023-07-20T15:13:16.721981Z",
     "start_time": "2023-07-20T15:13:16.492200Z"
    }
   },
   "outputs": [
    {
     "name": "stdout",
     "output_type": "stream",
     "text": [
      "Adding the data from Database\n",
      "Adding the data from Vector database\n",
      "Adding the data from Containerization (computing)\n",
      "Adding the data from Formula One\n"
     ]
    }
   ],
   "source": [
    "for wiki_title in [\n",
    "    \"Database\",\n",
    "    \"Vector database\",\n",
    "    \"Containerization (computing)\",\n",
    "    \"Formula One\",\n",
    "]:\n",
    "    collection.add_wiki_article(wiki_title)"
   ]
  },
  {
   "cell_type": "code",
   "execution_count": 5,
   "metadata": {},
   "outputs": [
    {
     "name": "stdout",
     "output_type": "stream",
     "text": [
      "Formula One (F1) is the highest class of international racing for open-wheel single-seater formula racing cars. It is governed by the Fédération Internationale de l'Automobile (FIA) and consists of a series of races known as Grands Prix, which take place in multiple countries and continents around the world. The sport follows a set of rules and regulations, and there are two annual World Championships, one for the drivers and one for the constructors (teams).\n"
     ]
    }
   ],
   "source": [
    "print(collection.summarize_topic(\"what is formula one in a couple of sentences?\"))"
   ]
  },
  {
   "cell_type": "code",
   "execution_count": 6,
   "metadata": {},
   "outputs": [
    {
     "name": "stdout",
     "output_type": "stream",
     "text": [
      "The text does not contain any information about space travel.\n"
     ]
    }
   ],
   "source": [
    "print(collection.summarize_topic(\"explain space travel in a couple of sentences\"))"
   ]
  },
  {
   "cell_type": "markdown",
   "metadata": {},
   "source": [
    "And to add a YouTube video: provide its URL"
   ]
  },
  {
   "cell_type": "code",
   "execution_count": 7,
   "metadata": {
    "ExecuteTime": {
     "end_time": "2023-07-20T15:14:06.937851Z",
     "start_time": "2023-07-20T15:13:37.239745Z"
    }
   },
   "outputs": [
    {
     "name": "stdout",
     "output_type": "stream",
     "text": [
      "Found Hello Weaviate - What Is a Vector? - downloading   \n",
      "Successfully Downloaded to temp_audio.mp3\n",
      "Audio file under 900 seconds. No split required.\n",
      "Getting transcripts from 1 audio files...\n",
      "Processing transcript 1 of 1...\n",
      "Adding the data from https://youtu.be/iFUeV3aYynI\n"
     ]
    },
    {
     "data": {
      "text/plain": [
       "5"
      ]
     },
     "execution_count": 7,
     "metadata": {},
     "output_type": "execute_result"
    }
   ],
   "source": [
    "youtube_url = \"https://youtu.be/iFUeV3aYynI\"  # Weaviate Academy - what is a vector?\n",
    "collection.add_from_youtube(youtube_url)"
   ]
  },
  {
   "cell_type": "markdown",
   "metadata": {},
   "source": [
    "### Make use of your knowledge base\n",
    "\n",
    "You can use the data in your knowledge base in various ways."
   ]
  },
  {
   "cell_type": "markdown",
   "metadata": {},
   "source": [
    "You can summarize a particular entry - for example, the YouTube video that we just ingested:"
   ]
  },
  {
   "cell_type": "code",
   "execution_count": 8,
   "metadata": {
    "ExecuteTime": {
     "end_time": "2023-07-20T15:15:05.782191Z",
     "start_time": "2023-07-20T15:14:54.122664Z"
    }
   },
   "outputs": [
    {
     "name": "stdout",
     "output_type": "stream",
     "text": [
      "These videos cover the topic of vectors and their importance in Weaviate. Vectors are sets of numbers that are utilized to capture meaning in various contexts. The videos provide examples of how vectors are employed in different applications, such as photo editing software or selecting colors using the RGB system. They also explain that vectors can represent more intricate meanings and are generated through deep learning models.\n",
      "\n",
      "Furthermore, the videos discuss Weaviate, which is a vector database that utilizes vector embeddings for performing searches and other operations on diverse types of data. By watching these videos, the reader will gain an understanding of what vectors are, how they capture meaning, and how they are utilized in Weaviate. This knowledge will allow the viewer to grasp the role and importance of vectors in Weaviate and potentially apply this understanding to other contexts as well.\n"
     ]
    }
   ],
   "source": [
    "print(collection.summarize_entry(youtube_url))"
   ]
  },
  {
   "cell_type": "markdown",
   "metadata": {},
   "source": [
    "Or, you can ask it to suggest key ideas that you can learn about, given a particular topic."
   ]
  },
  {
   "cell_type": "markdown",
   "metadata": {},
   "source": [
    "Or maybe I want to share details about what I learned from a video?"
   ]
  },
  {
   "cell_type": "code",
   "execution_count": 9,
   "metadata": {
    "ExecuteTime": {
     "end_time": "2023-07-20T15:15:49.506916Z",
     "start_time": "2023-07-20T15:15:39.390699Z"
    }
   },
   "outputs": [
    {
     "name": "stdout",
     "output_type": "stream",
     "text": [
      "📽️ Learn about vectors in Weaviate! They're series of numbers that capture meaning in different contexts. 🌈 They're used in photo editing, color selection, and more. Weaviate uses vector embeddings for searching and data operations. Watch the videos to understand vectors' role and applications! #Weaviate #Vectors\n"
     ]
    }
   ],
   "source": [
    "prompt = \"\"\"\n",
    "Summarize the key learnings in a tweet or two\n",
    " - use emojis and make it interesting.\n",
    "\"\"\"\n",
    "print(collection.summarize_entry(youtube_url, custom_prompt=prompt))"
   ]
  },
  {
   "cell_type": "markdown",
   "metadata": {},
   "source": [
    "You can also ask questions to a particular object."
   ]
  },
  {
   "cell_type": "code",
   "execution_count": 10,
   "metadata": {
    "ExecuteTime": {
     "end_time": "2023-07-20T15:16:24.214889Z",
     "start_time": "2023-07-20T15:16:18.832165Z"
    }
   },
   "outputs": [
    {
     "name": "stdout",
     "output_type": "stream",
     "text": [
      "A vector is a series of numbers 📊 that captures meaning in various contexts. It can be used to represent colors 🎨 or more complex concepts. Modern AI models use vectors to represent the essence of objects, like text, code, images, and videos. These vectors are derived through deep learning models 🧠. Weaviate leverages vector embeddings for similarity-based searches and powerful operations on different types of data. 🚀 #Vectors #MeaningCapture #AI\n"
     ]
    }
   ],
   "source": [
    "print(collection.ask_object(youtube_url, \"what is a vector? Explain in one tweet with emojis\"))"
   ]
  },
  {
   "cell_type": "code",
   "execution_count": null,
   "metadata": {},
   "outputs": [],
   "source": []
  }
 ],
 "metadata": {
  "kernelspec": {
   "display_name": "Python 3 (ipykernel)",
   "language": "python",
   "name": "python3"
  },
  "language_info": {
   "codemirror_mode": {
    "name": "ipython",
    "version": 3
   },
   "file_extension": ".py",
   "mimetype": "text/x-python",
   "name": "python",
   "nbconvert_exporter": "python",
   "pygments_lexer": "ipython3",
   "version": "3.10.12"
  },
  "varInspector": {
   "cols": {
    "lenName": 16,
    "lenType": 16,
    "lenVar": 40
   },
   "kernels_config": {
    "python": {
     "delete_cmd_postfix": "",
     "delete_cmd_prefix": "del ",
     "library": "var_list.py",
     "varRefreshCmd": "print(var_dic_list())"
    },
    "r": {
     "delete_cmd_postfix": ") ",
     "delete_cmd_prefix": "rm(",
     "library": "var_list.r",
     "varRefreshCmd": "cat(var_dic_list()) "
    }
   },
   "types_to_exclude": [
    "module",
    "function",
    "builtin_function_or_method",
    "instance",
    "_Feature"
   ],
   "window_display": false
  }
 },
 "nbformat": 4,
 "nbformat_minor": 1
}
