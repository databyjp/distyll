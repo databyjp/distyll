{
 "cells": [
  {
   "cell_type": "markdown",
   "source": [
    "## Demo notebook\n",
    "\n",
    "Try it out as shown here:"
   ],
   "metadata": {
    "collapsed": false
   }
  },
  {
   "cell_type": "markdown",
   "source": [
    "Import the functions, and instantiate the database. Then, connect to the date (collection).\n",
    "\n",
    "You'll be interacting with the data through the `collection`."
   ],
   "metadata": {
    "collapsed": false
   }
  },
  {
   "cell_type": "code",
   "execution_count": 1,
   "outputs": [
    {
     "name": "stdout",
     "output_type": "stream",
     "text": [
      "Found class. Skipping class creation\n"
     ]
    }
   ],
   "source": [
    "import wkb\n",
    "client = wkb.start_db()\n",
    "collection = wkb.Collection(client, wkb.WV_CLASS)"
   ],
   "metadata": {
    "collapsed": false,
    "ExecuteTime": {
     "end_time": "2023-07-15T13:43:03.099915Z",
     "start_time": "2023-07-15T13:43:02.460283Z"
    }
   }
  },
  {
   "cell_type": "markdown",
   "source": [
    "### Load data\n",
    "\n",
    "There are a bunch of built-in functions to make it easier to add data to your knowledge base."
   ],
   "metadata": {
    "collapsed": false
   }
  },
  {
   "cell_type": "markdown",
   "source": [
    "To add a text file - simply specify the path to it:"
   ],
   "metadata": {
    "collapsed": false
   }
  },
  {
   "cell_type": "code",
   "execution_count": 2,
   "outputs": [
    {
     "data": {
      "text/plain": "13"
     },
     "execution_count": 2,
     "metadata": {},
     "output_type": "execute_result"
    }
   ],
   "source": [
    "collection.add_text_file(\"./srcdata/kubernetes_concepts_overview.txt\")"
   ],
   "metadata": {
    "collapsed": false,
    "ExecuteTime": {
     "end_time": "2023-07-15T13:43:06.095555Z",
     "start_time": "2023-07-15T13:43:03.737980Z"
    }
   }
  },
  {
   "cell_type": "markdown",
   "source": [
    "To add a Wiki article (currently it just adds the summary) - provide the article title:"
   ],
   "metadata": {
    "collapsed": false
   }
  },
  {
   "cell_type": "code",
   "execution_count": 3,
   "outputs": [],
   "source": [
    "for wiki_title in [\n",
    "    \"Database\",\n",
    "    \"Vector database\",\n",
    "    \"Containerization (computing)\",\n",
    "    \"Formula One\",\n",
    "]:\n",
    "    collection.add_wiki_article(wiki_title)"
   ],
   "metadata": {
    "collapsed": false,
    "ExecuteTime": {
     "end_time": "2023-07-15T13:44:04.504165Z",
     "start_time": "2023-07-15T13:43:57.735275Z"
    }
   }
  },
  {
   "cell_type": "markdown",
   "source": [
    "And to add a YouTube video: proivde its URL"
   ],
   "metadata": {
    "collapsed": false
   }
  },
  {
   "cell_type": "code",
   "execution_count": 4,
   "outputs": [
    {
     "name": "stdout",
     "output_type": "stream",
     "text": [
      "[youtube] Extracting URL: https://youtu.be/xk28RMhRy1U\n",
      "[youtube] xk28RMhRy1U: Downloading webpage\n",
      "[youtube] xk28RMhRy1U: Downloading ios player API JSON\n",
      "[youtube] xk28RMhRy1U: Downloading android player API JSON\n",
      "[youtube] xk28RMhRy1U: Downloading m3u8 information\n",
      "[info] xk28RMhRy1U: Downloading 1 format(s): 251\n",
      "[download] Destination: temp_audio.mp3\n",
      "[download] 100% of   51.50MiB in 00:00:28 at 1.79MiB/s      \n",
      "Found Etienne Dilocker on Weaviate 1.20 - Weaviate Podcast #56! - downloading\n",
      "[youtube] Extracting URL: https://youtu.be/xk28RMhRy1U\n",
      "[youtube] xk28RMhRy1U: Downloading webpage\n",
      "[youtube] xk28RMhRy1U: Downloading ios player API JSON\n",
      "[youtube] xk28RMhRy1U: Downloading android player API JSON\n",
      "[youtube] xk28RMhRy1U: Downloading m3u8 information\n",
      "[info] xk28RMhRy1U: Downloading 1 format(s): 251\n",
      "[download] temp_audio.mp3 has already been downloaded\n",
      "[download] 100% of   51.50MiB\n",
      "Successfully Downloaded to temp_audio.mp3\n",
      "Splitting audio to 5\n"
     ]
    },
    {
     "name": "stderr",
     "output_type": "stream",
     "text": [
      "/Users/jphwang/code/sandpit/wv_simple_kb/utils.py:105: ResourceWarning: unclosed file <_io.BufferedRandom name='0_temp_audio.mp3'>\n",
      "  clip.export(f\"{i}_\" + audio_file_path)\n",
      "ResourceWarning: Enable tracemalloc to get the object allocation traceback\n",
      "/Users/jphwang/code/sandpit/wv_simple_kb/utils.py:105: ResourceWarning: unclosed file <_io.BufferedRandom name='1_temp_audio.mp3'>\n",
      "  clip.export(f\"{i}_\" + audio_file_path)\n",
      "ResourceWarning: Enable tracemalloc to get the object allocation traceback\n",
      "/Users/jphwang/code/sandpit/wv_simple_kb/utils.py:105: ResourceWarning: unclosed file <_io.BufferedRandom name='2_temp_audio.mp3'>\n",
      "  clip.export(f\"{i}_\" + audio_file_path)\n",
      "ResourceWarning: Enable tracemalloc to get the object allocation traceback\n",
      "/Users/jphwang/code/sandpit/wv_simple_kb/utils.py:105: ResourceWarning: unclosed file <_io.BufferedRandom name='3_temp_audio.mp3'>\n",
      "  clip.export(f\"{i}_\" + audio_file_path)\n",
      "ResourceWarning: Enable tracemalloc to get the object allocation traceback\n",
      "/Users/jphwang/code/sandpit/wv_simple_kb/utils.py:105: ResourceWarning: unclosed file <_io.BufferedRandom name='4_temp_audio.mp3'>\n",
      "  clip.export(f\"{i}_\" + audio_file_path)\n",
      "ResourceWarning: Enable tracemalloc to get the object allocation traceback\n"
     ]
    },
    {
     "name": "stdout",
     "output_type": "stream",
     "text": [
      "Getting transcripts from 5 audio files...\n",
      "Processing transcript 1 of 5...\n",
      "Processing transcript 2 of 5...\n"
     ]
    },
    {
     "name": "stderr",
     "output_type": "stream",
     "text": [
      "/Users/jphwang/code/sandpit/wv_simple_kb/utils.py:71: ResourceWarning: unclosed file <_io.BufferedReader name='0_temp_audio.mp3'>\n",
      "  audio_file = open(clip_outpath, \"rb\")\n",
      "ResourceWarning: Enable tracemalloc to get the object allocation traceback\n"
     ]
    },
    {
     "name": "stdout",
     "output_type": "stream",
     "text": [
      "Processing transcript 3 of 5...\n"
     ]
    },
    {
     "name": "stderr",
     "output_type": "stream",
     "text": [
      "/Users/jphwang/code/sandpit/wv_simple_kb/utils.py:71: ResourceWarning: unclosed file <_io.BufferedReader name='1_temp_audio.mp3'>\n",
      "  audio_file = open(clip_outpath, \"rb\")\n",
      "ResourceWarning: Enable tracemalloc to get the object allocation traceback\n"
     ]
    },
    {
     "name": "stdout",
     "output_type": "stream",
     "text": [
      "Processing transcript 4 of 5...\n"
     ]
    },
    {
     "name": "stderr",
     "output_type": "stream",
     "text": [
      "/Users/jphwang/code/sandpit/wv_simple_kb/utils.py:71: ResourceWarning: unclosed file <_io.BufferedReader name='2_temp_audio.mp3'>\n",
      "  audio_file = open(clip_outpath, \"rb\")\n",
      "ResourceWarning: Enable tracemalloc to get the object allocation traceback\n"
     ]
    },
    {
     "name": "stdout",
     "output_type": "stream",
     "text": [
      "Processing transcript 5 of 5...\n"
     ]
    },
    {
     "name": "stderr",
     "output_type": "stream",
     "text": [
      "/Users/jphwang/code/sandpit/wv_simple_kb/utils.py:71: ResourceWarning: unclosed file <_io.BufferedReader name='3_temp_audio.mp3'>\n",
      "  audio_file = open(clip_outpath, \"rb\")\n",
      "ResourceWarning: Enable tracemalloc to get the object allocation traceback\n"
     ]
    },
    {
     "name": "stdout",
     "output_type": "stream",
     "text": [
      "[youtube] Extracting URL: https://youtu.be/xk28RMhRy1U\n",
      "[youtube] xk28RMhRy1U: Downloading webpage\n"
     ]
    },
    {
     "name": "stderr",
     "output_type": "stream",
     "text": [
      "/Users/jphwang/code/sandpit/wv_simple_kb/wkb.py:155: ResourceWarning: unclosed file <_io.BufferedReader name='4_temp_audio.mp3'>\n",
      "  transcript_texts = _get_transcripts_from_audio_file(outpath)\n",
      "ResourceWarning: Enable tracemalloc to get the object allocation traceback\n",
      "WARNING: [youtube] unable to extract initial player response; please report this issue on  https://github.com/yt-dlp/yt-dlp/issues?q= , filling out the appropriate issue template. Confirm you are on the latest version using  yt-dlp -U\n"
     ]
    },
    {
     "name": "stdout",
     "output_type": "stream",
     "text": [
      "[youtube] xk28RMhRy1U: Downloading ios player API JSON\n",
      "[youtube] xk28RMhRy1U: Downloading android player API JSON\n",
      "[youtube] xk28RMhRy1U: Downloading iframe API JS\n",
      "[youtube] xk28RMhRy1U: Downloading player 4cc5d082\n",
      "[youtube] xk28RMhRy1U: Downloading web player API JSON\n",
      "[youtube] xk28RMhRy1U: Downloading m3u8 information\n"
     ]
    },
    {
     "name": "stderr",
     "output_type": "stream",
     "text": [
      "WARNING: [youtube] unable to extract yt initial data; please report this issue on  https://github.com/yt-dlp/yt-dlp/issues?q= , filling out the appropriate issue template. Confirm you are on the latest version using  yt-dlp -U\n",
      "WARNING: [youtube] Incomplete data received in embedded initial data; re-fetching using API.\n"
     ]
    },
    {
     "name": "stdout",
     "output_type": "stream",
     "text": [
      "[youtube] xk28RMhRy1U: Downloading initial data API JSON\n",
      "[youtube] Extracting URL: https://youtu.be/xk28RMhRy1U\n",
      "[youtube] xk28RMhRy1U: Downloading webpage\n",
      "[youtube] xk28RMhRy1U: Downloading ios player API JSON\n",
      "[youtube] xk28RMhRy1U: Downloading android player API JSON\n",
      "[youtube] xk28RMhRy1U: Downloading m3u8 information\n",
      "[youtube] Extracting URL: https://youtu.be/xk28RMhRy1U\n",
      "[youtube] xk28RMhRy1U: Downloading webpage\n",
      "[youtube] xk28RMhRy1U: Downloading ios player API JSON\n",
      "[youtube] xk28RMhRy1U: Downloading android player API JSON\n",
      "[youtube] xk28RMhRy1U: Downloading m3u8 information\n",
      "[youtube] Extracting URL: https://youtu.be/xk28RMhRy1U\n",
      "[youtube] xk28RMhRy1U: Downloading webpage\n",
      "[youtube] xk28RMhRy1U: Downloading ios player API JSON\n",
      "[youtube] xk28RMhRy1U: Downloading android player API JSON\n",
      "[youtube] xk28RMhRy1U: Downloading m3u8 information\n"
     ]
    },
    {
     "name": "stderr",
     "output_type": "stream",
     "text": [
      "WARNING: [youtube] Incomplete data received in embedded initial data; re-fetching using API.\n"
     ]
    },
    {
     "name": "stdout",
     "output_type": "stream",
     "text": [
      "[youtube] xk28RMhRy1U: Downloading initial data API JSON\n",
      "[youtube] Extracting URL: https://youtu.be/xk28RMhRy1U\n",
      "[youtube] xk28RMhRy1U: Downloading webpage\n",
      "[youtube] xk28RMhRy1U: Downloading ios player API JSON\n",
      "[youtube] xk28RMhRy1U: Downloading android player API JSON\n",
      "[youtube] xk28RMhRy1U: Downloading m3u8 information\n"
     ]
    },
    {
     "data": {
      "text/plain": "120"
     },
     "execution_count": 4,
     "metadata": {},
     "output_type": "execute_result"
    }
   ],
   "source": [
    "youtube_url = 'https://youtu.be/xk28RMhRy1U'  # Weaviate 1.20 release podcast\n",
    "collection.add_from_youtube(youtube_url)"
   ],
   "metadata": {
    "collapsed": false,
    "ExecuteTime": {
     "end_time": "2023-07-15T13:51:51.779738Z",
     "start_time": "2023-07-15T13:46:08.944732Z"
    }
   }
  },
  {
   "cell_type": "markdown",
   "source": [
    "### Make use of your knowledge base\n",
    "\n",
    "You can use the data in your knowledge base in various ways."
   ],
   "metadata": {
    "collapsed": false
   }
  },
  {
   "cell_type": "markdown",
   "source": [
    "You can summarize a particular entry - for example, the YouTube video that we just ingested:"
   ],
   "metadata": {
    "collapsed": false
   }
  },
  {
   "cell_type": "code",
   "execution_count": 6,
   "outputs": [
    {
     "name": "stdout",
     "output_type": "stream",
     "text": [
      "In this podcast episode, Etienne Dilocker discusses various topics related to Weaviate 1.20. The discussions include optimizing memory allocation, the concept of shards in Weaviate, multi-tenancy, the challenges of implementing vector search in a multi-tenant environment, linear scaling, the benefits of a larger cluster, import throughput, testing phases, user feedback, sharding, memory allocation, and the performance of Weaviate in terms of disk reads, caching, and search results. \n",
      "\n",
      "Dilocker also explains the concept of multi-tenancy and its benefits, such as reducing the number of nodes needed to serve queries, improving cost efficiency by deactivating inactive tenants, and scaling Weaviate to handle a large number of nodes. Additionally, the podcast covers topics like product quantization and its impact on reducing memory usage, re-ranking, query success monitoring, and the importance of observability and monitoring in system management.\n",
      "\n",
      "Overall, listeners can learn about the technical details and practical considerations of using Weaviate for vector storage and search, as well as the potential applications and benefits of Weaviate in machine learning scenarios and search engine applications.\n"
     ]
    }
   ],
   "source": [
    "print(collection.summarize_entry(youtube_url))"
   ],
   "metadata": {
    "collapsed": false,
    "ExecuteTime": {
     "end_time": "2023-07-15T13:53:52.063746Z",
     "start_time": "2023-07-15T13:52:35.583288Z"
    }
   }
  },
  {
   "cell_type": "markdown",
   "source": [
    "Or, you can ask it to suggest key ideas that you can learn about, given a particular topic."
   ],
   "metadata": {
    "collapsed": false
   }
  },
  {
   "cell_type": "code",
   "execution_count": 8,
   "outputs": [
    {
     "name": "stdout",
     "output_type": "stream",
     "text": [
      "Related sub-topics about Weaviate:\n",
      "\n",
      "1. Hybrid search capabilities, including BM25 and re-ranking\n",
      "2. Module system for flexible customization and adding features\n",
      "3. Improving search experience and accessibility\n",
      "4. Experimental and evaluation phases of development\n",
      "5. Incorporating user feedback and making improvements\n",
      "6. Multi-tenancy and its benefits for data management and machine learning applications\n"
     ]
    }
   ],
   "source": [
    "print(collection.suggest_topics_to_learn(\"weaviate\"))"
   ],
   "metadata": {
    "collapsed": false,
    "ExecuteTime": {
     "end_time": "2023-07-15T13:54:32.298920Z",
     "start_time": "2023-07-15T13:54:28.471809Z"
    }
   }
  },
  {
   "cell_type": "markdown",
   "source": [
    "You can actually provide a custom prompt with the summarization task. For example, you can get Weaviate to suggest some things I can learn about - from a specific video."
   ],
   "metadata": {
    "collapsed": false
   }
  },
  {
   "cell_type": "code",
   "execution_count": 9,
   "outputs": [
    {
     "name": "stdout",
     "output_type": "stream",
     "text": [
      "The related sub-topics that you might learn about from the provided information are:\n",
      "\n",
      "1. Optimizing memory allocation and reducing memory footprint in Weaviate\n",
      "2. The concept of shards and their importance in organizing data in Weaviate\n",
      "3. Multi-tenancy in Weaviate and its role in separating data for different users\n",
      "4. Challenges and strategies for implementing vector search in a multi-tenant environment\n",
      "5. Linear scaling and cluster size in Weaviate for improved performance\n",
      "6. Testing and evaluation processes for multi-tenancy implementation\n",
      "7. Sharding and its benefits in querying a small portion of data in isolation\n",
      "8. Load testing and scalability challenges in Weaviate\n",
      "9. Benefits and cost savings of multi-tenancy in Weaviate\n",
      "10. Product quantization as a vector compression technique in Weaviate\n",
      "11. In-memory and on-disk storage of vectors in Weaviate\n",
      "12. The HNSW traversal algorithm and its impact on search results\n",
      "13. Challenges and techniques for loading and updating vectors in Weaviate\n",
      "14. The benefits of concurrency in search engine applications\n",
      "15. Re-ranking and its role in improving search performance\n",
      "16. AutoCut feature for removing irrelevant search results\n",
      "17. Use cases and benefits of search in Weaviate\n",
      "18. Monitoring and observability in complex systems like Weaviate\n",
      "19. Performance and scalability considerations in cloud-based systems\n",
      "20. Training and using vectors in Weaviate for improved search capabilities.\n",
      "\n",
      "Remember, this is just a summary of the sub-topics mentioned in the provided information.\n"
     ]
    }
   ],
   "source": [
    "topic_prompt = f\"\"\"\n",
    "Extract a list of three to six related sub-topics\n",
    "related to the main topic that the user might learn about.\n",
    "Deliver the topics as a short list, each separated by two consecutive newlines like `\\n\\n`\n",
    "\"\"\"\n",
    "\n",
    "print(collection.summarize_entry(youtube_url, custom_prompt=topic_prompt))"
   ],
   "metadata": {
    "collapsed": false,
    "ExecuteTime": {
     "end_time": "2023-07-15T13:56:08.405343Z",
     "start_time": "2023-07-15T13:54:43.136105Z"
    }
   }
  },
  {
   "cell_type": "markdown",
   "source": [
    "Or maybe I want to share details about what I learned from a video?"
   ],
   "metadata": {
    "collapsed": false
   }
  },
  {
   "cell_type": "code",
   "execution_count": 10,
   "outputs": [
    {
     "name": "stdout",
     "output_type": "stream",
     "text": [
      "🐍📦 Comparing Python packages:\n",
      "- Dataclasses: basic features, no validation\n",
      "- Atters: control over class defs + comparison, ext dependency\n",
      "- Pydantic: powerful validation, strict data types (inheritance)\n",
      "🤔 Choose based on needs! #Python #Packages\n"
     ]
    }
   ],
   "source": [
    "youtube_url = 'https://youtu.be/zN4VCb0LbQI'  # Pydnatic vs dataclasses vs attrs\n",
    "collection.add_from_youtube(youtube_url)\n",
    "\n",
    "print(collection.summarize_entry(youtube_url, custom_prompt=\"Summarize their conclusions about Pydantic, dataclasses and Attrs in a tweet or two - use emojis and make it interesting.\"))"
   ],
   "metadata": {
    "collapsed": false,
    "ExecuteTime": {
     "end_time": "2023-07-16T16:40:17.985298Z",
     "start_time": "2023-07-16T16:39:50.758413Z"
    }
   }
  },
  {
   "cell_type": "code",
   "execution_count": 12,
   "outputs": [
    {
     "name": "stdout",
     "output_type": "stream",
     "text": [
      "[youtube] Extracting URL: https://youtu.be/wi63uvjs6Uc\n",
      "[youtube] wi63uvjs6Uc: Downloading webpage\n"
     ]
    },
    {
     "name": "stderr",
     "output_type": "stream",
     "text": [
      "WARNING: [youtube] unable to extract initial player response; please report this issue on  https://github.com/yt-dlp/yt-dlp/issues?q= , filling out the appropriate issue template. Confirm you are on the latest version using  yt-dlp -U\n"
     ]
    },
    {
     "name": "stdout",
     "output_type": "stream",
     "text": [
      "[youtube] wi63uvjs6Uc: Downloading ios player API JSON\n",
      "[youtube] wi63uvjs6Uc: Downloading android player API JSON\n",
      "[youtube] wi63uvjs6Uc: Downloading iframe API JS\n",
      "[youtube] wi63uvjs6Uc: Downloading player 4cc5d082\n",
      "[youtube] wi63uvjs6Uc: Downloading web player API JSON\n",
      "[youtube] wi63uvjs6Uc: Downloading m3u8 information\n"
     ]
    },
    {
     "name": "stderr",
     "output_type": "stream",
     "text": [
      "WARNING: [youtube] unable to extract yt initial data; please report this issue on  https://github.com/yt-dlp/yt-dlp/issues?q= , filling out the appropriate issue template. Confirm you are on the latest version using  yt-dlp -U\n",
      "WARNING: [youtube] Incomplete data received in embedded initial data; re-fetching using API.\n"
     ]
    },
    {
     "name": "stdout",
     "output_type": "stream",
     "text": [
      "[youtube] wi63uvjs6Uc: Downloading initial data API JSON\n",
      "[info] wi63uvjs6Uc: Downloading 1 format(s): 251\n",
      "[download] Destination: temp_audio.mp3\n",
      "[download] 100% of   15.92MiB in 00:00:00 at 18.17MiB/s    \n",
      "Found God of War Ragnarok Review - downloading\n",
      "[youtube] Extracting URL: https://youtu.be/wi63uvjs6Uc\n",
      "[youtube] wi63uvjs6Uc: Downloading webpage\n"
     ]
    },
    {
     "name": "stderr",
     "output_type": "stream",
     "text": [
      "WARNING: [youtube] unable to extract initial player response; please report this issue on  https://github.com/yt-dlp/yt-dlp/issues?q= , filling out the appropriate issue template. Confirm you are on the latest version using  yt-dlp -U\n"
     ]
    },
    {
     "name": "stdout",
     "output_type": "stream",
     "text": [
      "[youtube] wi63uvjs6Uc: Downloading ios player API JSON\n",
      "[youtube] wi63uvjs6Uc: Downloading android player API JSON\n",
      "[youtube] wi63uvjs6Uc: Downloading iframe API JS\n",
      "[youtube] wi63uvjs6Uc: Downloading web player API JSON\n",
      "[youtube] wi63uvjs6Uc: Downloading m3u8 information\n"
     ]
    },
    {
     "name": "stderr",
     "output_type": "stream",
     "text": [
      "WARNING: [youtube] unable to extract yt initial data; please report this issue on  https://github.com/yt-dlp/yt-dlp/issues?q= , filling out the appropriate issue template. Confirm you are on the latest version using  yt-dlp -U\n",
      "WARNING: [youtube] Incomplete data received in embedded initial data; re-fetching using API.\n"
     ]
    },
    {
     "name": "stdout",
     "output_type": "stream",
     "text": [
      "[youtube] wi63uvjs6Uc: Downloading initial data API JSON\n",
      "[info] wi63uvjs6Uc: Downloading 1 format(s): 251\n",
      "[download] temp_audio.mp3 has already been downloaded\n",
      "[download] 100% of   15.92MiB\n",
      "Successfully Downloaded to temp_audio.mp3\n",
      "Splitting audio to 2\n"
     ]
    },
    {
     "name": "stderr",
     "output_type": "stream",
     "text": [
      "/Users/jphwang/code/sandpit/wv_simple_kb/utils.py:105: ResourceWarning: unclosed file <_io.BufferedRandom name='0_temp_audio.mp3'>\n",
      "  clip.export(f\"{i}_\" + audio_file_path)\n",
      "ResourceWarning: Enable tracemalloc to get the object allocation traceback\n",
      "/Users/jphwang/code/sandpit/wv_simple_kb/utils.py:105: ResourceWarning: unclosed file <_io.BufferedRandom name='1_temp_audio.mp3'>\n",
      "  clip.export(f\"{i}_\" + audio_file_path)\n",
      "ResourceWarning: Enable tracemalloc to get the object allocation traceback\n"
     ]
    },
    {
     "name": "stdout",
     "output_type": "stream",
     "text": [
      "Getting transcripts from 2 audio files...\n",
      "Processing transcript 1 of 2...\n",
      "Processing transcript 2 of 2...\n"
     ]
    },
    {
     "name": "stderr",
     "output_type": "stream",
     "text": [
      "/Users/jphwang/code/sandpit/wv_simple_kb/utils.py:71: ResourceWarning: unclosed file <_io.BufferedReader name='0_temp_audio.mp3'>\n",
      "  audio_file = open(clip_outpath, \"rb\")\n",
      "ResourceWarning: Enable tracemalloc to get the object allocation traceback\n"
     ]
    },
    {
     "name": "stdout",
     "output_type": "stream",
     "text": [
      "[youtube] Extracting URL: https://youtu.be/wi63uvjs6Uc\n",
      "[youtube] wi63uvjs6Uc: Downloading webpage\n"
     ]
    },
    {
     "name": "stderr",
     "output_type": "stream",
     "text": [
      "/Users/jphwang/code/sandpit/wv_simple_kb/wkb.py:155: ResourceWarning: unclosed file <_io.BufferedReader name='1_temp_audio.mp3'>\n",
      "  transcript_texts = _get_transcripts_from_audio_file(outpath)\n",
      "ResourceWarning: Enable tracemalloc to get the object allocation traceback\n"
     ]
    },
    {
     "name": "stdout",
     "output_type": "stream",
     "text": [
      "[youtube] wi63uvjs6Uc: Downloading ios player API JSON\n",
      "[youtube] wi63uvjs6Uc: Downloading android player API JSON\n",
      "[youtube] wi63uvjs6Uc: Downloading m3u8 information\n",
      "[youtube] Extracting URL: https://youtu.be/wi63uvjs6Uc\n",
      "[youtube] wi63uvjs6Uc: Downloading webpage\n",
      "[youtube] wi63uvjs6Uc: Downloading ios player API JSON\n",
      "[youtube] wi63uvjs6Uc: Downloading android player API JSON\n",
      "[youtube] wi63uvjs6Uc: Downloading m3u8 information\n",
      "This game, God of War Ragnarok, seems to appeal to a wide range of gamers. It offers an enthralling spectacle with impeccable writing and pitch-perfect performances. The combat mechanics are praised, particularly the return of weapons and brutal finishes on stunned enemies. The game is described as a sprawling epic with grand designs and serves as a fitting conclusion to the Norse saga of Kratos. It explores themes such as destiny and the cycle of violence between parents and children. The expanded cast of characters, role of humor, and impressive continuous camera shot style are also highlighted. Overall, this game combines storytelling and combat in a captivating way and offers an immersive world-building experience with challenging boss battles, puzzle ideas, and collectibles. It presents gameplay challenges through side quests, tough boss encounters, and end-game level challenges. The variety of creatures, distinct realms, and visual and technical craftsmanship contribute to the overall high-quality experience.\n"
     ]
    }
   ],
   "source": [
    "youtube_url = 'https://youtu.be/wi63uvjs6Uc'  # God of war review\n",
    "collection.add_from_youtube(youtube_url)"
   ],
   "metadata": {
    "collapsed": false,
    "ExecuteTime": {
     "end_time": "2023-07-16T16:43:16.445484Z",
     "start_time": "2023-07-16T16:41:17.441435Z"
    }
   }
  },
  {
   "cell_type": "markdown",
   "source": [
    "You can also ask questions to a particular object."
   ],
   "metadata": {
    "collapsed": false
   }
  },
  {
   "cell_type": "code",
   "execution_count": 13,
   "outputs": [
    {
     "name": "stdout",
     "output_type": "stream",
     "text": [
      "This game, God of War Ragnarok, might appeal to gamers who enjoy action-adventure games with a strong emphasis on storytelling. It is likely to attract fans of the previous God of War game, as it is a sequel that builds upon the success of its predecessor. The game offers fast-paced combat, cinematic spectacle, and a variety of weapons and abilities to engage with. Gamers who appreciate Norse mythology and its interpretation in video games may also find this game appealing. Additionally, those who enjoy exploring richly detailed and visually stunning game worlds may be drawn to God of War Ragnarok.\n"
     ]
    }
   ],
   "source": [
    "print(collection.ask_object(youtube_url, \"What kind of gamers might this game appeal to?\"))"
   ],
   "metadata": {
    "collapsed": false,
    "ExecuteTime": {
     "end_time": "2023-07-16T16:43:32.357380Z",
     "start_time": "2023-07-16T16:43:26.835177Z"
    }
   }
  },
  {
   "cell_type": "markdown",
   "source": [
    "You can perform fairly basic things - like text similarity searches"
   ],
   "metadata": {
    "collapsed": false
   }
  },
  {
   "cell_type": "code",
   "execution_count": 14,
   "outputs": [
    {
     "data": {
      "text/plain": "[{'_additional': {'distance': 0.12698501},\n  'body': 'your system.\\n\\nKubernetes provides you with:\\n\\nService discovery and load balancing Kubernetes can expose a container using the DNS name or using their own IP address. If traffic to a container is high, Kubernetes is able to load balance and distribute the network traffic so that the deployment is stable.\\nStorage orchestration Kubernetes allows you to automatically mount a storage system of your choice, such as local storages, public cloud providers, and more.\\nAutomated rollouts and rollbacks You can describe the desired state for your deployed containers using Kubernetes, and it can change the actual state to the desired state at a controlled rate. For example, you can automate Kubernetes to create new containers for your deployment, remove existing containers and adopt all their resources to the new container.\\nAutomatic',\n  'chunk_number': 7,\n  'source_path': './srcdata/kubernetes_concepts_overview.txt',\n  'source_title': './srcdata/kubernetes_concepts_overview.txt'},\n {'_additional': {'distance': 0.12902021},\n  'body': \"For example, you can automate Kubernetes to create new containers for your deployment, remove existing containers and adopt all their resources to the new container.\\nAutomatic bin packing You provide Kubernetes with a cluster of nodes that it can use to run containerized tasks. You tell Kubernetes how much CPU and memory (RAM) each container needs. Kubernetes can fit containers onto your nodes to make the best use of your resources.\\nSelf-healing Kubernetes restarts containers that fail, replaces containers, kills containers that don't respond to your user-defined health check, and doesn't advertise them to clients until they are ready to serve.\\nSecret and configuration management Kubernetes lets you store and manage sensitive information, such as passwords, OAuth tokens, and SSH keys. You can deploy and update secrets and\",\n  'chunk_number': 8,\n  'source_path': './srcdata/kubernetes_concepts_overview.txt',\n  'source_title': './srcdata/kubernetes_concepts_overview.txt'}]"
     },
     "execution_count": 14,
     "metadata": {},
     "output_type": "execute_result"
    }
   ],
   "source": [
    "collection.text_search(\"kubernetes\", 2)"
   ],
   "metadata": {
    "collapsed": false,
    "ExecuteTime": {
     "end_time": "2023-07-16T16:50:50.526017Z",
     "start_time": "2023-07-16T16:50:50.070542Z"
    }
   }
  },
  {
   "cell_type": "code",
   "execution_count": null,
   "outputs": [],
   "source": [],
   "metadata": {
    "collapsed": false
   }
  }
 ],
 "metadata": {
  "kernelspec": {
   "display_name": "Python 3",
   "language": "python",
   "name": "python3"
  },
  "language_info": {
   "codemirror_mode": {
    "name": "ipython",
    "version": 2
   },
   "file_extension": ".py",
   "mimetype": "text/x-python",
   "name": "python",
   "nbconvert_exporter": "python",
   "pygments_lexer": "ipython2",
   "version": "2.7.6"
  }
 },
 "nbformat": 4,
 "nbformat_minor": 0
}
