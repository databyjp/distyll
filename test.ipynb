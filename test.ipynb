{
 "cells": [
  {
   "cell_type": "code",
   "execution_count": 1,
   "metadata": {
    "collapsed": true,
    "ExecuteTime": {
     "end_time": "2023-07-02T16:55:16.801710Z",
     "start_time": "2023-07-02T16:55:16.645843Z"
    }
   },
   "outputs": [],
   "source": [
    "import main\n",
    "import utils"
   ]
  },
  {
   "cell_type": "code",
   "execution_count": 2,
   "outputs": [
    {
     "name": "stdout",
     "output_type": "stream",
     "text": [
      "Skipping class creation\n"
     ]
    }
   ],
   "source": [
    "client = main.instantiate_db()"
   ],
   "metadata": {
    "collapsed": false,
    "ExecuteTime": {
     "end_time": "2023-07-02T16:55:17.120282Z",
     "start_time": "2023-07-02T16:55:17.090401Z"
    }
   }
  },
  {
   "cell_type": "code",
   "execution_count": 3,
   "outputs": [],
   "source": [
    "client.schema.delete_all()"
   ],
   "metadata": {
    "collapsed": false,
    "ExecuteTime": {
     "end_time": "2023-07-02T16:55:17.964360Z",
     "start_time": "2023-07-02T16:55:17.940389Z"
    }
   }
  },
  {
   "cell_type": "code",
   "execution_count": 4,
   "outputs": [],
   "source": [
    "from pathlib import Path\n",
    "filepath = Path(\"./data/kubernetes_concepts_overview.txt\")\n",
    "src_data = main.SourceData(\n",
    "    source_path=filepath,\n",
    "    source_text=utils.load_data(filepath)\n",
    ")"
   ],
   "metadata": {
    "collapsed": false,
    "ExecuteTime": {
     "end_time": "2023-07-02T16:55:18.391786Z",
     "start_time": "2023-07-02T16:55:18.389025Z"
    }
   }
  },
  {
   "cell_type": "code",
   "execution_count": 5,
   "outputs": [
    {
     "data": {
      "text/plain": "13"
     },
     "execution_count": 5,
     "metadata": {},
     "output_type": "execute_result"
    }
   ],
   "source": [
    "main.add_to_weaviate(src_data, client)"
   ],
   "metadata": {
    "collapsed": false,
    "ExecuteTime": {
     "end_time": "2023-07-02T16:55:20.361334Z",
     "start_time": "2023-07-02T16:55:19.414439Z"
    }
   }
  },
  {
   "cell_type": "code",
   "execution_count": 6,
   "outputs": [],
   "source": [
    "for wiki_title in [\n",
    "    \"Database\",\n",
    "    \"Vector database\",\n",
    "    \"Containerization (computing)\",\n",
    "    \"Graphite\",\n",
    "]:\n",
    "    src_data = main.SourceData(\n",
    "        source_path=wiki_title,\n",
    "        source_text=utils.load_wiki_page(wiki_title)\n",
    "    )\n",
    "    main.add_to_weaviate(src_data, client)"
   ],
   "metadata": {
    "collapsed": false,
    "ExecuteTime": {
     "end_time": "2023-07-02T16:55:27.687810Z",
     "start_time": "2023-07-02T16:55:22.971145Z"
    }
   }
  },
  {
   "cell_type": "code",
   "execution_count": 7,
   "outputs": [],
   "source": [
    "collection = utils.Collection(client, main.WV_CLASS)"
   ],
   "metadata": {
    "collapsed": false,
    "ExecuteTime": {
     "end_time": "2023-07-02T16:55:27.691490Z",
     "start_time": "2023-07-02T16:55:27.687210Z"
    }
   }
  },
  {
   "cell_type": "code",
   "execution_count": 8,
   "outputs": [
    {
     "data": {
      "text/plain": "[{'_additional': {'distance': 0.16120988},\n  'body': 'A Vector Database is a type of specialized database designed to handle vector embeddings. These embeddings are a form of data representation that conveys crucial semantic information for a variety of applications, including large language models, generative AI, and semantic search. AI models generate these embeddings, each encompassing numerous attributes or features. These features represent different dimensions of the data and are essential for understanding patterns, relationships, and underlying structures.',\n  'source_path': 'Vector database'},\n {'_additional': {'distance': 0.23336434},\n  'body': 'data as rows and columns in a series of tables, and the vast majority use SQL for writing and querying data. In the 2000s, non-relational databases became popular, collectively referred to as NoSQL, because they use different query languages.',\n  'source_path': 'Database'},\n {'_additional': {'distance': 0.24594474},\n  'body': 'In computing, a database is an organized collection of data stored and accessed electronically. Small databases can be stored on a file system, while large databases are hosted on computer clusters or cloud storage. The design of databases spans formal techniques and practical considerations, including data modeling, efficient data representation and storage, query languages, security and privacy of sensitive data, and distributed computing issues, including supporting concurrent access and fault tolerance.\\nA database management system (DBMS) is the software that interacts with end users, applications, and the database itself to capture and analyze the data. The DBMS software additionally encompasses the',\n  'source_path': 'Database'},\n {'_additional': {'distance': 0.25642782},\n  'body': 'is the software that interacts with end users, applications, and the database itself to capture and analyze the data. The DBMS software additionally encompasses the core facilities provided to administer the database. The sum total of the database, the DBMS and the associated applications can be referred to as a database system. Often the term \"database\" is also used loosely to refer to any of the DBMS, the database system or an application associated with the database.\\nComputer scientists may classify database management systems according to the database models that they support. Relational databases became dominant in the 1980s. These model data as rows and columns in a series of tables, and the vast majority use SQL for writing and querying data. In the 2000s, non-relational',\n  'source_path': 'Database'},\n {'_additional': {'distance': 0.2747299},\n  'body': 'because an application can be added or updated easily, reduces hardware costs, and much more. With virtualization you can present a set of physical resources as a cluster of disposable virtual machines.\\n\\nEach VM is a full machine running all the components, including its own operating system, on top of the virtualized hardware.\\n\\nContainer deployment era: Containers are similar to VMs, but they have relaxed isolation properties to share the Operating System (OS) among the applications. Therefore, containers are considered lightweight. Similar to a VM, a container has its own filesystem, share of CPU, memory, process space, and more. As they are decoupled from the underlying infrastructure, they are portable across clouds and OS distributions.\\n\\nContainers have become popular because they provide extra benefits, such as:\\n\\nAgile application creation',\n  'source_path': 'data/kubernetes_concepts_overview.txt'},\n {'_additional': {'distance': 0.2805912},\n  'body': 'message buses), data-processing frameworks (for example, Spark), databases (for example, MySQL), caches, nor cluster storage systems (for example, Ceph) as built-in services. Such components can run on Kubernetes, and/or can be accessed by applications running on Kubernetes through portable mechanisms, such as the Open Service Broker.\\nDoes not dictate logging, monitoring, or alerting solutions. It provides some integrations as proof of concept, and mechanisms to collect and export metrics.\\nDoes not provide nor mandate a configuration language/system (for example, Jsonnet). It provides a declarative API that may be targeted by arbitrary forms of declarative specifications.\\nDoes not provide nor adopt any comprehensive machine configuration, maintenance, management, or self-healing systems.\\nAdditionally, Kubernetes is not a mere orchestration system. In fact, it eliminates the need for orchestration. The technical definition of',\n  'source_path': 'data/kubernetes_concepts_overview.txt'},\n {'_additional': {'distance': 0.28253937},\n  'body': \"would underperform. A solution for this would be to run each application on a different physical server. But this did not scale as resources were underutilized, and it was expensive for organizations to maintain many physical servers.\\n\\nVirtualized deployment era: As a solution, virtualization was introduced. It allows you to run multiple Virtual Machines (VMs) on a single physical server's CPU. Virtualization allows applications to be isolated between VMs and provides a level of security as the information of one application cannot be freely accessed by another application.\\n\\nVirtualization allows better utilization of resources in a physical server and allows better scalability because an application can be added or updated easily, reduces hardware costs, and much more. With virtualization you can present a set of physical resources\",\n  'source_path': 'data/kubernetes_concepts_overview.txt'},\n {'_additional': {'distance': 0.2826662},\n  'body': 'default solutions are optional and pluggable. Kubernetes provides the building blocks for building developer platforms, but preserves user choice and flexibility where it is important.\\n\\nKubernetes:\\n\\nDoes not limit the types of applications supported. Kubernetes aims to support an extremely diverse variety of workloads, including stateless, stateful, and data-processing workloads. If an application can run in a container, it should run great on Kubernetes.\\nDoes not deploy source code and does not build your application. Continuous Integration, Delivery, and Deployment (CI/CD) workflows are determined by organization cultures and preferences as well as technical requirements.\\nDoes not provide application-level services, such as middleware (for example, message buses), data-processing frameworks (for example, Spark), databases (for example, MySQL), caches, nor cluster storage systems (for example, Ceph) as built-in services. Such components can',\n  'source_path': 'data/kubernetes_concepts_overview.txt'},\n {'_additional': {'distance': 0.2844385},\n  'body': \"Kubernetes combines over 15 years of Google's experience running production workloads at scale with best-of-breed ideas and practices from the community.\\n\\nGoing back in time\\nLet's take a look at why Kubernetes is so useful by going back in time.\\n\\nDeployment evolution\\n\\nTraditional deployment era: Early on, organizations ran applications on physical servers. There was no way to define resource boundaries for applications in a physical server, and this caused resource allocation issues. For example, if multiple applications run on a physical server, there can be instances where one application would take up most of the resources, and as a result, the other applications would underperform. A solution for this would be to run each application on a different physical server. But this did not scale as resources were\",\n  'source_path': 'data/kubernetes_concepts_overview.txt'},\n {'_additional': {'distance': 0.28839517},\n  'body': \"it can do\\nContainers are a good way to bundle and run your applications. In a production environment, you need to manage the containers that run the applications and ensure that there is no downtime. For example, if a container goes down, another container needs to start. Wouldn't it be easier if this behavior was handled by a system?\\n\\nThat's how Kubernetes comes to the rescue! Kubernetes provides you with a framework to run distributed systems resiliently. It takes care of scaling and failover for your application, provides deployment patterns, and more. For example: Kubernetes can easily manage a canary deployment for your system.\\n\\nKubernetes provides you with:\\n\\nService discovery and load balancing Kubernetes can expose a container using the DNS name or using their own IP address. If\",\n  'source_path': 'data/kubernetes_concepts_overview.txt'}]"
     },
     "execution_count": 8,
     "metadata": {},
     "output_type": "execute_result"
    }
   ],
   "source": [
    "collection.text_search(\"vector database\")"
   ],
   "metadata": {
    "collapsed": false,
    "ExecuteTime": {
     "end_time": "2023-07-02T16:55:27.937217Z",
     "start_time": "2023-07-02T16:55:27.692133Z"
    }
   }
  },
  {
   "cell_type": "code",
   "execution_count": 9,
   "outputs": [
    {
     "data": {
      "text/plain": "'A database is an organized collection of data stored and accessed electronically. It can be stored on a file system or hosted on computer clusters or cloud storage. A database management system (DBMS) is the software that interacts with end users, applications, and the database itself to capture and analyze the data. Relational databases became dominant in the 1980s, while non-relational databases (NoSQL) became popular in the 2000s. A Vector Database is a specialized database designed to handle vector embeddings, which are used for various applications such as large language models and generative AI.'"
     },
     "execution_count": 9,
     "metadata": {},
     "output_type": "execute_result"
    }
   ],
   "source": [
    "collection.generate_summary(\"database\")"
   ],
   "metadata": {
    "collapsed": false,
    "ExecuteTime": {
     "end_time": "2023-07-02T16:55:47.453992Z",
     "start_time": "2023-07-02T16:55:40.818701Z"
    }
   }
  },
  {
   "cell_type": "code",
   "execution_count": 10,
   "outputs": [
    {
     "data": {
      "text/plain": "'- NoSQL databases\\n- Query languages for NoSQL databases\\n- Differences between NoSQL and relational databases\\n- Benefits of using NoSQL databases\\n- Examples of popular NoSQL databases\\n- Use cases for NoSQL databases'"
     },
     "execution_count": 10,
     "metadata": {},
     "output_type": "execute_result"
    }
   ],
   "source": [
    "collection.suggest_topics_with_weaviate(\"nosql database\")"
   ],
   "metadata": {
    "collapsed": false,
    "ExecuteTime": {
     "end_time": "2023-07-02T16:56:13.553143Z",
     "start_time": "2023-07-02T16:56:09.894825Z"
    }
   }
  }
 ],
 "metadata": {
  "kernelspec": {
   "display_name": "Python 3",
   "language": "python",
   "name": "python3"
  },
  "language_info": {
   "codemirror_mode": {
    "name": "ipython",
    "version": 2
   },
   "file_extension": ".py",
   "mimetype": "text/x-python",
   "name": "python",
   "nbconvert_exporter": "python",
   "pygments_lexer": "ipython2",
   "version": "2.7.6"
  }
 },
 "nbformat": 4,
 "nbformat_minor": 0
}
