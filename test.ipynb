{
 "cells": [
  {
   "cell_type": "code",
   "execution_count": 1,
   "metadata": {
    "collapsed": true,
    "ExecuteTime": {
     "end_time": "2023-07-06T20:17:11.358399Z",
     "start_time": "2023-07-06T20:17:11.177460Z"
    }
   },
   "outputs": [],
   "source": [
    "import main\n",
    "import utils"
   ]
  },
  {
   "cell_type": "code",
   "execution_count": 2,
   "outputs": [
    {
     "name": "stdout",
     "output_type": "stream",
     "text": [
      "Found class. Skipping class creation\n"
     ]
    }
   ],
   "source": [
    "client = main.start_db()"
   ],
   "metadata": {
    "collapsed": false,
    "ExecuteTime": {
     "end_time": "2023-07-06T20:17:12.152050Z",
     "start_time": "2023-07-06T20:17:12.122553Z"
    }
   }
  },
  {
   "cell_type": "code",
   "execution_count": 3,
   "outputs": [],
   "source": [
    "client.schema.delete_all()"
   ],
   "metadata": {
    "collapsed": false,
    "ExecuteTime": {
     "end_time": "2023-07-06T20:17:13.274068Z",
     "start_time": "2023-07-06T20:17:13.236708Z"
    }
   }
  },
  {
   "cell_type": "code",
   "execution_count": 4,
   "outputs": [
    {
     "data": {
      "text/plain": "13"
     },
     "execution_count": 4,
     "metadata": {},
     "output_type": "execute_result"
    }
   ],
   "source": [
    "main.add_text_file(client, \"./data/kubernetes_concepts_overview.txt\")"
   ],
   "metadata": {
    "collapsed": false,
    "ExecuteTime": {
     "end_time": "2023-07-06T20:17:16.907111Z",
     "start_time": "2023-07-06T20:17:15.787445Z"
    }
   }
  },
  {
   "cell_type": "code",
   "execution_count": 5,
   "outputs": [],
   "source": [
    "for wiki_title in [\n",
    "    \"Database\",\n",
    "    \"Vector database\",\n",
    "    \"Containerization (computing)\",\n",
    "    \"Formula One\",\n",
    "]:\n",
    "    main.add_wiki_article(client, wiki_title)"
   ],
   "metadata": {
    "collapsed": false,
    "ExecuteTime": {
     "end_time": "2023-07-06T20:17:26.635929Z",
     "start_time": "2023-07-06T20:17:21.225063Z"
    }
   }
  },
  {
   "cell_type": "code",
   "execution_count": 6,
   "outputs": [],
   "source": [
    "collection = utils.Collection(client, main.WV_CLASS)"
   ],
   "metadata": {
    "collapsed": false,
    "ExecuteTime": {
     "end_time": "2023-07-06T20:18:11.954954Z",
     "start_time": "2023-07-06T20:18:11.950767Z"
    }
   }
  },
  {
   "cell_type": "code",
   "execution_count": 7,
   "outputs": [
    {
     "name": "stdout",
     "output_type": "stream",
     "text": [
      "Based on the given text, here is the information relating to motor racing:\n",
      "\n",
      "- Formula One (F1) is the highest class of international racing for open-wheel single-seater formula racing cars.\n",
      "- The FIA Formula One World Championship has been one of the premier forms of racing since 1950.\n",
      "- Formula One season consists of a series of races called Grands Prix, which take place in multiple countries and continents.\n",
      "- Grands Prix can be held on purpose-built circuits or closed public roads.\n",
      "- There are two annual World Championships in Formula One: one for the drivers and one for the constructors (teams).\n",
      "- Drivers must hold a valid Super Licence, the highest class of racing license issued by the FIA.\n",
      "- Formula One cars are the fastest regulated road-course racing cars in the world, achieving high cornering speeds through aerodynamic downforce.\n",
      "- The cars have undergone changes for the 2022 season to reduce turbulence and make overtaking easier.\n",
      "- Electronics, aerodynamics, suspension, and tires play a crucial role in Formula One cars.\n",
      "- The financial and political battles of Formula One are widely reported, with high costs involved in running a team.\n",
      "- Liberty Media acquired the Formula One Group in 2017.\n",
      "- The text does not provide specific information about individual races, race results, or specific drivers or teams.\n"
     ]
    }
   ],
   "source": [
    "print(collection.generate_summary(\"motor racing\"))"
   ],
   "metadata": {
    "collapsed": false,
    "ExecuteTime": {
     "end_time": "2023-07-06T20:18:21.099927Z",
     "start_time": "2023-07-06T20:18:12.999594Z"
    }
   }
  },
  {
   "cell_type": "code",
   "execution_count": 8,
   "outputs": [
    {
     "name": "stdout",
     "output_type": "stream",
     "text": [
      "- Database models supported by NoSQL databases\n",
      "- Query languages used in NoSQL databases\n",
      "- Differences between NoSQL and relational databases\n",
      "- Benefits of using NoSQL databases\n",
      "- Use cases for NoSQL databases\n",
      "- Challenges and limitations of NoSQL databases\n"
     ]
    }
   ],
   "source": [
    "print(collection.suggest_topics_to_learn(\"nosql database\"))"
   ],
   "metadata": {
    "collapsed": false,
    "ExecuteTime": {
     "end_time": "2023-07-06T20:18:24.983832Z",
     "start_time": "2023-07-06T20:18:21.981659Z"
    }
   }
  },
  {
   "cell_type": "code",
   "execution_count": null,
   "outputs": [],
   "source": [],
   "metadata": {
    "collapsed": false
   }
  }
 ],
 "metadata": {
  "kernelspec": {
   "display_name": "Python 3",
   "language": "python",
   "name": "python3"
  },
  "language_info": {
   "codemirror_mode": {
    "name": "ipython",
    "version": 2
   },
   "file_extension": ".py",
   "mimetype": "text/x-python",
   "name": "python",
   "nbconvert_exporter": "python",
   "pygments_lexer": "ipython2",
   "version": "2.7.6"
  }
 },
 "nbformat": 4,
 "nbformat_minor": 0
}
