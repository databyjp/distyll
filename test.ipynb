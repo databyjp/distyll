{
 "cells": [
  {
   "cell_type": "code",
   "execution_count": 1,
   "metadata": {
    "collapsed": true,
    "ExecuteTime": {
     "end_time": "2023-07-08T10:00:22.342213Z",
     "start_time": "2023-07-08T10:00:22.160364Z"
    }
   },
   "outputs": [],
   "source": [
    "import main\n",
    "import utils"
   ]
  },
  {
   "cell_type": "code",
   "execution_count": 2,
   "outputs": [
    {
     "name": "stdout",
     "output_type": "stream",
     "text": [
      "Found class. Skipping class creation\n"
     ]
    }
   ],
   "source": [
    "client = main.start_db()"
   ],
   "metadata": {
    "collapsed": false,
    "ExecuteTime": {
     "end_time": "2023-07-08T10:00:22.922859Z",
     "start_time": "2023-07-08T10:00:22.895229Z"
    }
   }
  },
  {
   "cell_type": "code",
   "execution_count": 3,
   "outputs": [],
   "source": [
    "collection = utils.Collection(client, main.WV_CLASS)"
   ],
   "metadata": {
    "collapsed": false,
    "ExecuteTime": {
     "end_time": "2023-07-08T10:00:23.885588Z",
     "start_time": "2023-07-08T10:00:23.880434Z"
    }
   }
  },
  {
   "cell_type": "code",
   "execution_count": 4,
   "outputs": [
    {
     "data": {
      "text/plain": "13"
     },
     "execution_count": 4,
     "metadata": {},
     "output_type": "execute_result"
    }
   ],
   "source": [
    "collection.add_text_file(\"./data/kubernetes_concepts_overview.txt\")"
   ],
   "metadata": {
    "collapsed": false,
    "ExecuteTime": {
     "end_time": "2023-07-06T20:48:36.850967Z",
     "start_time": "2023-07-06T20:48:35.844010Z"
    }
   }
  },
  {
   "cell_type": "code",
   "execution_count": 6,
   "outputs": [],
   "source": [
    "for wiki_title in [\n",
    "    \"Database\",\n",
    "    \"Vector database\",\n",
    "    \"Containerization (computing)\",\n",
    "    \"Formula One\",\n",
    "]:\n",
    "    collection.add_wiki_article(wiki_title)"
   ],
   "metadata": {
    "collapsed": false,
    "ExecuteTime": {
     "end_time": "2023-07-06T20:49:59.452542Z",
     "start_time": "2023-07-06T20:49:54.661306Z"
    }
   }
  },
  {
   "cell_type": "code",
   "execution_count": 4,
   "outputs": [
    {
     "name": "stdout",
     "output_type": "stream",
     "text": [
      "[youtube] Extracting URL: https://www.youtube.com/watch?v=iFUeV3aYynI\n",
      "[youtube] iFUeV3aYynI: Downloading webpage\n",
      "[youtube] iFUeV3aYynI: Downloading ios player API JSON\n",
      "[youtube] iFUeV3aYynI: Downloading android player API JSON\n",
      "[youtube] iFUeV3aYynI: Downloading m3u8 information\n",
      "[info] iFUeV3aYynI: Downloading 1 format(s): 251\n",
      "[download] Destination: temp_audio.mp3\n",
      "[download] 100% of    2.09MiB in 00:00:00 at 2.97MiB/s   \n",
      "Found Hello Weaviate - What Is a Vector? - downloading\n",
      "[youtube] Extracting URL: https://www.youtube.com/watch?v=iFUeV3aYynI\n",
      "[youtube] iFUeV3aYynI: Downloading webpage\n",
      "[youtube] iFUeV3aYynI: Downloading ios player API JSON\n",
      "[youtube] iFUeV3aYynI: Downloading android player API JSON\n",
      "[youtube] iFUeV3aYynI: Downloading m3u8 information\n",
      "[info] iFUeV3aYynI: Downloading 1 format(s): 251\n",
      "[download] temp_audio.mp3 has already been downloaded\n",
      "[download] 100% of    2.09MiB\n",
      "Successfully Downloaded to temp_audio.mp3\n"
     ]
    },
    {
     "name": "stderr",
     "output_type": "stream",
     "text": [
      "/var/folders/hw/hsnpzf0926n_30_bkr09mb200000gn/T/ipykernel_66519/3451027425.py:2: ResourceWarning: unclosed file <_io.BufferedReader name='Hello Weaviate - What Is a Vector？.mp3'>\n",
      "  collection.add_from_youtube(yt_url)\n",
      "ResourceWarning: Enable tracemalloc to get the object allocation traceback\n"
     ]
    },
    {
     "data": {
      "text/plain": "5"
     },
     "execution_count": 4,
     "metadata": {},
     "output_type": "execute_result"
    }
   ],
   "source": [
    "yt_url = 'https://www.youtube.com/watch?v=iFUeV3aYynI'\n",
    "collection.add_from_youtube(yt_url)"
   ],
   "metadata": {
    "collapsed": false,
    "ExecuteTime": {
     "end_time": "2023-07-08T10:01:17.739653Z",
     "start_time": "2023-07-08T10:00:27.757581Z"
    }
   }
  },
  {
   "cell_type": "code",
   "execution_count": 5,
   "outputs": [
    {
     "name": "stdout",
     "output_type": "stream",
     "text": [
      "Weaviate is a vector database that leverages vector embeddings to perform similarity-based searches and other powerful operations on different types of data. Vector embeddings are representations of meaning derived from deep learning models. Weaviate uses vectors to capture meaning in various contexts, such as text, code, images, videos, and more. It is a specialized database designed to handle vector embeddings and is used for applications like large language models, generative AI, and semantic search.\n"
     ]
    }
   ],
   "source": [
    "print(collection.generate_summary(\"weaviate\"))"
   ],
   "metadata": {
    "collapsed": false,
    "ExecuteTime": {
     "end_time": "2023-07-08T10:01:33.655117Z",
     "start_time": "2023-07-08T10:01:28.557892Z"
    }
   }
  },
  {
   "cell_type": "code",
   "execution_count": 6,
   "outputs": [
    {
     "name": "stdout",
     "output_type": "stream",
     "text": [
      "- Vector embeddings\n",
      "- Deep learning models\n",
      "- Similarity-based searches\n",
      "- Vector database\n",
      "- Data representation\n",
      "- Semantic search\n"
     ]
    }
   ],
   "source": [
    "print(collection.suggest_topics_to_learn(\"weaviate\"))"
   ],
   "metadata": {
    "collapsed": false,
    "ExecuteTime": {
     "end_time": "2023-07-08T10:01:49.989852Z",
     "start_time": "2023-07-08T10:01:47.024199Z"
    }
   }
  },
  {
   "cell_type": "code",
   "execution_count": null,
   "outputs": [],
   "source": [],
   "metadata": {
    "collapsed": false
   }
  }
 ],
 "metadata": {
  "kernelspec": {
   "display_name": "Python 3",
   "language": "python",
   "name": "python3"
  },
  "language_info": {
   "codemirror_mode": {
    "name": "ipython",
    "version": 2
   },
   "file_extension": ".py",
   "mimetype": "text/x-python",
   "name": "python",
   "nbconvert_exporter": "python",
   "pygments_lexer": "ipython2",
   "version": "2.7.6"
  }
 },
 "nbformat": 4,
 "nbformat_minor": 0
}
