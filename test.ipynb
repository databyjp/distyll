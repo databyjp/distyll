{
 "cells": [
  {
   "cell_type": "code",
   "execution_count": 1,
   "metadata": {
    "collapsed": true,
    "ExecuteTime": {
     "end_time": "2023-06-27T19:03:06.061061Z",
     "start_time": "2023-06-27T19:03:05.872395Z"
    }
   },
   "outputs": [],
   "source": [
    "import main"
   ]
  },
  {
   "cell_type": "code",
   "execution_count": 2,
   "outputs": [],
   "source": [
    "words = main.load_txt_file()"
   ],
   "metadata": {
    "collapsed": false,
    "ExecuteTime": {
     "end_time": "2023-06-27T18:41:18.367325Z",
     "start_time": "2023-06-27T18:41:18.364516Z"
    }
   }
  },
  {
   "cell_type": "code",
   "execution_count": 2,
   "outputs": [
    {
     "name": "stdout",
     "output_type": "stream",
     "text": [
      "Skipping class creation\n"
     ]
    }
   ],
   "source": [
    "client = main.instantiate_weaviate()"
   ],
   "metadata": {
    "collapsed": false,
    "ExecuteTime": {
     "end_time": "2023-06-27T19:03:12.680258Z",
     "start_time": "2023-06-27T19:03:12.639047Z"
    }
   }
  },
  {
   "cell_type": "code",
   "execution_count": 4,
   "outputs": [],
   "source": [
    "client.schema.delete_all()"
   ],
   "metadata": {
    "collapsed": false,
    "ExecuteTime": {
     "end_time": "2023-06-27T18:41:20.451100Z",
     "start_time": "2023-06-27T18:41:20.407599Z"
    }
   }
  },
  {
   "cell_type": "code",
   "execution_count": 6,
   "outputs": [],
   "source": [
    "from pathlib import Path\n",
    "filepath = Path(\"./data/kubernetes_concepts_overview.txt\")\n",
    "src_data = main.SourceData(\n",
    "    source_path=filepath,\n",
    "    source_text=main.load_data(filepath)\n",
    ")"
   ],
   "metadata": {
    "collapsed": false,
    "ExecuteTime": {
     "end_time": "2023-06-27T18:41:23.829956Z",
     "start_time": "2023-06-27T18:41:23.824847Z"
    }
   }
  },
  {
   "cell_type": "code",
   "execution_count": 7,
   "outputs": [
    {
     "data": {
      "text/plain": "13"
     },
     "execution_count": 7,
     "metadata": {},
     "output_type": "execute_result"
    }
   ],
   "source": [
    "main.add_to_weaviate(src_data, client)"
   ],
   "metadata": {
    "collapsed": false,
    "ExecuteTime": {
     "end_time": "2023-06-27T18:41:25.680590Z",
     "start_time": "2023-06-27T18:41:24.738800Z"
    }
   }
  },
  {
   "cell_type": "code",
   "execution_count": 8,
   "outputs": [
    {
     "data": {
      "text/plain": "'What topics does this cover?\\n\\nThis text covers an overview of Kubernetes, its features, and benefits. It also discusses the evolution of deployment and containerization, as well as what Kubernetes is not.'"
     },
     "execution_count": 8,
     "metadata": {},
     "output_type": "execute_result"
    }
   ],
   "source": [
    "main.generate_summary_with_weaviate(\"What topics does this cover?\", client)"
   ],
   "metadata": {
    "collapsed": false,
    "ExecuteTime": {
     "end_time": "2023-06-27T18:41:36.384971Z",
     "start_time": "2023-06-27T18:41:30.190764Z"
    }
   }
  },
  {
   "cell_type": "code",
   "execution_count": 33,
   "outputs": [
    {
     "data": {
      "text/plain": "'- Data modeling\\n- Query languages\\n- Security and privacy\\n- Distributed computing\\n- Relational databases\\n- Non-relational databases (NoSQL)'"
     },
     "execution_count": 33,
     "metadata": {},
     "output_type": "execute_result"
    }
   ],
   "source": [
    "source_topic = \"database\"\n",
    "\n",
    "topic_prompt = f\"\"\"\n",
    "If the following text does includes information about {source_topic}, extract a list of three to six related sub-topics\n",
    "related to {source_topic} that the user might learn about.\n",
    "Deliver the topics as a short list, each separated by two consecutive newlines like `\\n\\n`\n",
    "\n",
    "If the following information does not includes information about {source_topic}, tell the user that the information could not be found.\n",
    "=====\n",
    "\"\"\"\n",
    "\n",
    "response = (\n",
    "    client.query.get(main.WV_CLASS, [\"body\"])\n",
    "    .with_near_text({\"concepts\": [source_topic]})\n",
    "    .with_limit(3)\n",
    "    .with_generate(\n",
    "        grouped_task=topic_prompt\n",
    "    )\n",
    "    .do()\n",
    ")\n",
    "\n",
    "main.get_generated_result(response)"
   ],
   "metadata": {
    "collapsed": false,
    "ExecuteTime": {
     "end_time": "2023-06-27T19:02:22.919930Z",
     "start_time": "2023-06-27T19:02:20.159898Z"
    }
   }
  },
  {
   "cell_type": "code",
   "execution_count": 30,
   "outputs": [],
   "source": [
    "for wiki_title in [\n",
    "    \"Database\",\n",
    "    \"Vector database\",\n",
    "    \"Containerization (computing)\",\n",
    "    \"Graphite\",\n",
    "]:\n",
    "    src_data = main.SourceData(\n",
    "        source_path=wiki_title,\n",
    "        source_text=main.load_wiki_page(wiki_title)\n",
    "    )\n",
    "    main.add_to_weaviate(src_data, client)"
   ],
   "metadata": {
    "collapsed": false,
    "ExecuteTime": {
     "end_time": "2023-06-27T18:57:02.070405Z",
     "start_time": "2023-06-27T18:56:46.848429Z"
    }
   }
  },
  {
   "cell_type": "code",
   "execution_count": 12,
   "outputs": [
    {
     "data": {
      "text/plain": "'Graphite is a crystalline form of the element carbon and is consumed on a large scale for uses in pencils, lubricants, and electrodes.'"
     },
     "execution_count": 12,
     "metadata": {},
     "output_type": "execute_result"
    }
   ],
   "source": [
    "main.generate_summary_with_weaviate(\"graphite\", client)"
   ],
   "metadata": {
    "collapsed": false,
    "ExecuteTime": {
     "end_time": "2023-06-27T19:06:20.165817Z",
     "start_time": "2023-06-27T19:06:17.644750Z"
    }
   }
  },
  {
   "cell_type": "code",
   "execution_count": 5,
   "outputs": [
    {
     "data": {
      "text/plain": "'NoSQL databases are a type of non-relational database that use different query languages than traditional relational databases, which use SQL for writing and querying data.'"
     },
     "execution_count": 5,
     "metadata": {},
     "output_type": "execute_result"
    }
   ],
   "source": [
    "main.generate_summary_with_weaviate(\"nosql database\", client)"
   ],
   "metadata": {
    "collapsed": false,
    "ExecuteTime": {
     "end_time": "2023-06-27T19:03:57.620109Z",
     "start_time": "2023-06-27T19:03:52.362008Z"
    }
   }
  },
  {
   "cell_type": "code",
   "execution_count": 7,
   "outputs": [
    {
     "data": {
      "text/plain": "'- Data modeling\\n- Query languages\\n- Security and privacy of sensitive data'"
     },
     "execution_count": 7,
     "metadata": {},
     "output_type": "execute_result"
    }
   ],
   "source": [
    "main.suggest_topics_with_weaviate(\"database\", client)"
   ],
   "metadata": {
    "collapsed": false,
    "ExecuteTime": {
     "end_time": "2023-06-27T19:04:32.743517Z",
     "start_time": "2023-06-27T19:04:24.004079Z"
    }
   }
  },
  {
   "cell_type": "code",
   "execution_count": 8,
   "outputs": [
    {
     "data": {
      "text/plain": "'- Database models and design\\n- Database management systems (DBMS)\\n- Relational and non-relational databases\\n- Virtualization and containerization\\n- Kubernetes and distributed systems\\n- Vector databases and embeddings'"
     },
     "execution_count": 8,
     "metadata": {},
     "output_type": "execute_result"
    }
   ],
   "source": [
    "main.suggest_topics_with_weaviate(\"computers\", client)"
   ],
   "metadata": {
    "collapsed": false,
    "ExecuteTime": {
     "end_time": "2023-06-27T19:04:57.114936Z",
     "start_time": "2023-06-27T19:04:48.406123Z"
    }
   }
  },
  {
   "cell_type": "code",
   "execution_count": null,
   "outputs": [],
   "source": [],
   "metadata": {
    "collapsed": false
   }
  }
 ],
 "metadata": {
  "kernelspec": {
   "display_name": "Python 3",
   "language": "python",
   "name": "python3"
  },
  "language_info": {
   "codemirror_mode": {
    "name": "ipython",
    "version": 2
   },
   "file_extension": ".py",
   "mimetype": "text/x-python",
   "name": "python",
   "nbconvert_exporter": "python",
   "pygments_lexer": "ipython2",
   "version": "2.7.6"
  }
 },
 "nbformat": 4,
 "nbformat_minor": 0
}
