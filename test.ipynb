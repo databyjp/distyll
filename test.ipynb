{
 "cells": [
  {
   "cell_type": "code",
   "execution_count": 1,
   "metadata": {
    "collapsed": true,
    "ExecuteTime": {
     "end_time": "2023-07-06T20:48:32.650695Z",
     "start_time": "2023-07-06T20:48:32.501562Z"
    }
   },
   "outputs": [],
   "source": [
    "import main\n",
    "import utils"
   ]
  },
  {
   "cell_type": "code",
   "execution_count": 2,
   "outputs": [
    {
     "name": "stdout",
     "output_type": "stream",
     "text": [
      "Found class. Skipping class creation\n"
     ]
    }
   ],
   "source": [
    "client = main.start_db()"
   ],
   "metadata": {
    "collapsed": false,
    "ExecuteTime": {
     "end_time": "2023-07-06T20:48:33.346286Z",
     "start_time": "2023-07-06T20:48:33.311606Z"
    }
   }
  },
  {
   "cell_type": "code",
   "execution_count": 3,
   "outputs": [],
   "source": [
    "collection = utils.Collection(client, main.WV_CLASS)"
   ],
   "metadata": {
    "collapsed": false,
    "ExecuteTime": {
     "end_time": "2023-07-06T20:48:34.294340Z",
     "start_time": "2023-07-06T20:48:34.289894Z"
    }
   }
  },
  {
   "cell_type": "code",
   "execution_count": 4,
   "outputs": [
    {
     "data": {
      "text/plain": "13"
     },
     "execution_count": 4,
     "metadata": {},
     "output_type": "execute_result"
    }
   ],
   "source": [
    "collection.add_text_file(\"./data/kubernetes_concepts_overview.txt\")"
   ],
   "metadata": {
    "collapsed": false,
    "ExecuteTime": {
     "end_time": "2023-07-06T20:48:36.850967Z",
     "start_time": "2023-07-06T20:48:35.844010Z"
    }
   }
  },
  {
   "cell_type": "code",
   "execution_count": 6,
   "outputs": [],
   "source": [
    "for wiki_title in [\n",
    "    \"Database\",\n",
    "    \"Vector database\",\n",
    "    \"Containerization (computing)\",\n",
    "    \"Formula One\",\n",
    "]:\n",
    "    collection.add_wiki_article(wiki_title)"
   ],
   "metadata": {
    "collapsed": false,
    "ExecuteTime": {
     "end_time": "2023-07-06T20:49:59.452542Z",
     "start_time": "2023-07-06T20:49:54.661306Z"
    }
   }
  },
  {
   "cell_type": "code",
   "execution_count": 7,
   "outputs": [
    {
     "name": "stdout",
     "output_type": "stream",
     "text": [
      "Based on the given text, here is the information relating to motor racing:\n",
      "\n",
      "- Formula One (F1) is the highest class of international racing for open-wheel single-seater formula racing cars.\n",
      "- The FIA Formula One World Championship has been one of the premier forms of racing since 1950.\n",
      "- A Formula One season consists of a series of races called Grands Prix, which take place in multiple countries and continents.\n",
      "- Grands Prix can be held on purpose-built circuits or closed public roads.\n",
      "- There are two annual World Championships in Formula One: one for the drivers and one for the constructors (teams).\n",
      "- Drivers must hold a valid Super Licence, the highest class of racing licence issued by the FIA.\n",
      "- Formula One cars are the fastest regulated road-course racing cars in the world, achieving high cornering speeds through aerodynamic downforce.\n",
      "- The cars generate downforce through front and rear wings, which can cause turbulence and make overtaking difficult.\n",
      "- Changes have been made to the cars for the 2022 season to reduce turbulence and make overtaking easier.\n",
      "- Formula One involves significant financial and political battles, with high costs for running a team.\n",
      "- In 2017, Liberty Media acquired the Formula One Group.\n",
      "- The text does not provide specific information about individual races, race results, or specific motor racing events.\n"
     ]
    }
   ],
   "source": [
    "print(collection.generate_summary(\"motor racing\"))"
   ],
   "metadata": {
    "collapsed": false,
    "ExecuteTime": {
     "end_time": "2023-07-06T20:50:09.314709Z",
     "start_time": "2023-07-06T20:50:01.286431Z"
    }
   }
  },
  {
   "cell_type": "code",
   "execution_count": 8,
   "outputs": [
    {
     "name": "stdout",
     "output_type": "stream",
     "text": [
      "- Database models supported by NoSQL databases\n",
      "- Query languages used in NoSQL databases\n",
      "- Differences between NoSQL and relational databases\n",
      "- Benefits of using NoSQL databases\n",
      "- Use cases for NoSQL databases\n",
      "- Challenges and limitations of NoSQL databases\n"
     ]
    }
   ],
   "source": [
    "print(collection.suggest_topics_to_learn(\"nosql database\"))"
   ],
   "metadata": {
    "collapsed": false,
    "ExecuteTime": {
     "end_time": "2023-07-06T20:50:13.608570Z",
     "start_time": "2023-07-06T20:50:10.455725Z"
    }
   }
  },
  {
   "cell_type": "code",
   "execution_count": null,
   "outputs": [],
   "source": [],
   "metadata": {
    "collapsed": false
   }
  }
 ],
 "metadata": {
  "kernelspec": {
   "display_name": "Python 3",
   "language": "python",
   "name": "python3"
  },
  "language_info": {
   "codemirror_mode": {
    "name": "ipython",
    "version": 2
   },
   "file_extension": ".py",
   "mimetype": "text/x-python",
   "name": "python",
   "nbconvert_exporter": "python",
   "pygments_lexer": "ipython2",
   "version": "2.7.6"
  }
 },
 "nbformat": 4,
 "nbformat_minor": 0
}
