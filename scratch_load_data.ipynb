{
 "cells": [
  {
   "cell_type": "code",
   "execution_count": 1,
   "outputs": [
    {
     "name": "stdout",
     "output_type": "stream",
     "text": [
      "Found class. Skipping class creation\n"
     ]
    }
   ],
   "source": [
    "import wkb\n",
    "client = wkb.start_db()\n",
    "collection = wkb.Collection(client, wkb.WV_CLASS)"
   ],
   "metadata": {
    "collapsed": false,
    "ExecuteTime": {
     "end_time": "2023-07-08T15:06:39.423403Z",
     "start_time": "2023-07-08T15:06:39.164968Z"
    }
   }
  },
  {
   "cell_type": "code",
   "execution_count": 4,
   "outputs": [],
   "source": [
    "# collection.client.schema.delete_all()"
   ],
   "metadata": {
    "collapsed": false,
    "ExecuteTime": {
     "end_time": "2023-07-08T14:32:01.519193Z",
     "start_time": "2023-07-08T14:32:01.505081Z"
    }
   }
  },
  {
   "cell_type": "code",
   "execution_count": 4,
   "outputs": [
    {
     "data": {
      "text/plain": "13"
     },
     "execution_count": 4,
     "metadata": {},
     "output_type": "execute_result"
    }
   ],
   "source": [
    "collection.add_text_file(\"./data/kubernetes_concepts_overview.txt\")"
   ],
   "metadata": {
    "collapsed": false,
    "ExecuteTime": {
     "end_time": "2023-07-06T20:48:36.850967Z",
     "start_time": "2023-07-06T20:48:35.844010Z"
    }
   }
  },
  {
   "cell_type": "code",
   "execution_count": 6,
   "outputs": [],
   "source": [
    "for wiki_title in [\n",
    "    \"Database\",\n",
    "    \"Vector database\",\n",
    "    \"Containerization (computing)\",\n",
    "    \"Formula One\",\n",
    "]:\n",
    "    collection.add_wiki_article(wiki_title)"
   ],
   "metadata": {
    "collapsed": false,
    "ExecuteTime": {
     "end_time": "2023-07-06T20:49:59.452542Z",
     "start_time": "2023-07-06T20:49:54.661306Z"
    }
   }
  },
  {
   "cell_type": "code",
   "execution_count": 2,
   "outputs": [
    {
     "name": "stdout",
     "output_type": "stream",
     "text": [
      "[youtube] Extracting URL: https://www.youtube.com/watch?v=pGrP87gE8XU\n",
      "[youtube] pGrP87gE8XU: Downloading webpage\n",
      "[youtube] pGrP87gE8XU: Downloading ios player API JSON\n",
      "[youtube] pGrP87gE8XU: Downloading android player API JSON\n",
      "[youtube] pGrP87gE8XU: Downloading m3u8 information\n",
      "[info] pGrP87gE8XU: Downloading 1 format(s): 251\n",
      "[download] temp_audio.mp3 has already been downloaded\n",
      "[download] 100% of   58.16MiB\n",
      "Found Aleksa Gordic - Weaviate Podcast #55! - downloading\n",
      "[youtube] Extracting URL: https://www.youtube.com/watch?v=pGrP87gE8XU\n",
      "[youtube] pGrP87gE8XU: Downloading webpage\n",
      "[youtube] pGrP87gE8XU: Downloading ios player API JSON\n",
      "[youtube] pGrP87gE8XU: Downloading android player API JSON\n",
      "[youtube] pGrP87gE8XU: Downloading m3u8 information\n",
      "[info] pGrP87gE8XU: Downloading 1 format(s): 251\n",
      "[download] temp_audio.mp3 has already been downloaded\n",
      "[download] 100% of   58.16MiB\n",
      "Successfully Downloaded to temp_audio.mp3\n",
      "0 900\n"
     ]
    },
    {
     "name": "stderr",
     "output_type": "stream",
     "text": [
      "/Users/jphwang/code/sandpit/wv_simple_kb/wkb.py:376: ResourceWarning: unclosed file <_io.BufferedRandom name='0_temp_audio.mp3'>\n",
      "  clip.export(f\"{i}_\" + audio_file_path)\n",
      "ResourceWarning: Enable tracemalloc to get the object allocation traceback\n"
     ]
    },
    {
     "name": "stdout",
     "output_type": "stream",
     "text": [
      "900 1800\n"
     ]
    },
    {
     "name": "stderr",
     "output_type": "stream",
     "text": [
      "/Users/jphwang/code/sandpit/wv_simple_kb/wkb.py:376: ResourceWarning: unclosed file <_io.BufferedRandom name='1_temp_audio.mp3'>\n",
      "  clip.export(f\"{i}_\" + audio_file_path)\n",
      "ResourceWarning: Enable tracemalloc to get the object allocation traceback\n"
     ]
    },
    {
     "name": "stdout",
     "output_type": "stream",
     "text": [
      "1800 2700\n"
     ]
    },
    {
     "name": "stderr",
     "output_type": "stream",
     "text": [
      "/Users/jphwang/code/sandpit/wv_simple_kb/wkb.py:376: ResourceWarning: unclosed file <_io.BufferedRandom name='2_temp_audio.mp3'>\n",
      "  clip.export(f\"{i}_\" + audio_file_path)\n",
      "ResourceWarning: Enable tracemalloc to get the object allocation traceback\n"
     ]
    },
    {
     "name": "stdout",
     "output_type": "stream",
     "text": [
      "2700 3600\n"
     ]
    },
    {
     "name": "stderr",
     "output_type": "stream",
     "text": [
      "/Users/jphwang/code/sandpit/wv_simple_kb/wkb.py:376: ResourceWarning: unclosed file <_io.BufferedRandom name='3_temp_audio.mp3'>\n",
      "  clip.export(f\"{i}_\" + audio_file_path)\n",
      "ResourceWarning: Enable tracemalloc to get the object allocation traceback\n"
     ]
    },
    {
     "name": "stdout",
     "output_type": "stream",
     "text": [
      "3600 4500\n"
     ]
    },
    {
     "name": "stderr",
     "output_type": "stream",
     "text": [
      "/Users/jphwang/code/sandpit/wv_simple_kb/wkb.py:376: ResourceWarning: unclosed file <_io.BufferedRandom name='4_temp_audio.mp3'>\n",
      "  clip.export(f\"{i}_\" + audio_file_path)\n",
      "ResourceWarning: Enable tracemalloc to get the object allocation traceback\n",
      "/Users/jphwang/code/sandpit/wv_simple_kb/wkb.py:356: ResourceWarning: unclosed file <_io.BufferedReader name='0_temp_audio.mp3'>\n",
      "  audio_file = open(clip_outpath, \"rb\")\n",
      "ResourceWarning: Enable tracemalloc to get the object allocation traceback\n",
      "/Users/jphwang/code/sandpit/wv_simple_kb/wkb.py:356: ResourceWarning: unclosed file <_io.BufferedReader name='1_temp_audio.mp3'>\n",
      "  audio_file = open(clip_outpath, \"rb\")\n",
      "ResourceWarning: Enable tracemalloc to get the object allocation traceback\n",
      "/Users/jphwang/code/sandpit/wv_simple_kb/wkb.py:356: ResourceWarning: unclosed file <_io.BufferedReader name='2_temp_audio.mp3'>\n",
      "  audio_file = open(clip_outpath, \"rb\")\n",
      "ResourceWarning: Enable tracemalloc to get the object allocation traceback\n",
      "/Users/jphwang/code/sandpit/wv_simple_kb/wkb.py:356: ResourceWarning: unclosed file <_io.BufferedReader name='3_temp_audio.mp3'>\n",
      "  audio_file = open(clip_outpath, \"rb\")\n",
      "ResourceWarning: Enable tracemalloc to get the object allocation traceback\n",
      "/Users/jphwang/code/sandpit/wv_simple_kb/wkb.py:94: ResourceWarning: unclosed file <_io.BufferedReader name='4_temp_audio.mp3'>\n",
      "  transcript_texts = _get_transcripts_from_audio_file(outpath)\n",
      "ResourceWarning: Enable tracemalloc to get the object allocation traceback\n"
     ]
    },
    {
     "data": {
      "text/plain": "133"
     },
     "execution_count": 2,
     "metadata": {},
     "output_type": "execute_result"
    }
   ],
   "source": [
    "yt_url = 'https://www.youtube.com/watch?v=pGrP87gE8XU'\n",
    "collection.add_from_youtube(yt_url)"
   ],
   "metadata": {
    "collapsed": false,
    "ExecuteTime": {
     "end_time": "2023-07-08T15:12:00.310385Z",
     "start_time": "2023-07-08T15:06:43.288020Z"
    }
   }
  },
  {
   "cell_type": "code",
   "execution_count": 4,
   "outputs": [
    {
     "name": "stdout",
     "output_type": "stream",
     "text": [
      "Weaviate is a vector database that leverages vector embeddings to perform similarity-based searches and other powerful operations on different types of data. Vector embeddings are representations of meaning derived from deep learning models. Weaviate uses vectors to capture meaning in various contexts, such as text, code, images, videos, and more. It is a specialized database designed to handle vector embeddings and is used for applications like large language models, generative AI, and semantic search.\n"
     ]
    }
   ],
   "source": [
    "print(collection.generate_summary(\"weaviate\"))"
   ],
   "metadata": {
    "collapsed": false,
    "ExecuteTime": {
     "end_time": "2023-07-08T10:08:52.259583Z",
     "start_time": "2023-07-08T10:08:48.403803Z"
    }
   }
  },
  {
   "cell_type": "code",
   "execution_count": 6,
   "outputs": [
    {
     "name": "stdout",
     "output_type": "stream",
     "text": [
      "- Vector embeddings\n",
      "- Deep learning models\n",
      "- Similarity-based searches\n",
      "- Vector database\n",
      "- Data representation\n",
      "- Semantic search\n"
     ]
    }
   ],
   "source": [
    "print(collection.suggest_topics_to_learn(\"weaviate\"))"
   ],
   "metadata": {
    "collapsed": false,
    "ExecuteTime": {
     "end_time": "2023-07-08T10:01:49.989852Z",
     "start_time": "2023-07-08T10:01:47.024199Z"
    }
   }
  },
  {
   "cell_type": "code",
   "execution_count": null,
   "outputs": [],
   "source": [],
   "metadata": {
    "collapsed": false
   }
  }
 ],
 "metadata": {
  "kernelspec": {
   "display_name": "Python 3",
   "language": "python",
   "name": "python3"
  },
  "language_info": {
   "codemirror_mode": {
    "name": "ipython",
    "version": 2
   },
   "file_extension": ".py",
   "mimetype": "text/x-python",
   "name": "python",
   "nbconvert_exporter": "python",
   "pygments_lexer": "ipython2",
   "version": "2.7.6"
  }
 },
 "nbformat": 4,
 "nbformat_minor": 0
}
