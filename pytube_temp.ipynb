{
 "cells": [
  {
   "cell_type": "code",
   "execution_count": 3,
   "metadata": {
    "is_executing": true
   },
   "outputs": [
    {
     "name": "stdout",
     "output_type": "stream",
     "text": [
      "[youtube] Extracting URL: https://www.youtube.com/watch?v=iFUeV3aYynI\n",
      "[youtube] iFUeV3aYynI: Downloading webpage\n",
      "[youtube] iFUeV3aYynI: Downloading ios player API JSON\n",
      "[youtube] iFUeV3aYynI: Downloading android player API JSON\n",
      "[youtube] iFUeV3aYynI: Downloading player 1dda5629\n",
      "[youtube] iFUeV3aYynI: Downloading m3u8 information\n",
      "[info] iFUeV3aYynI: Downloading 1 format(s): 251\n",
      "[download] Destination: Hello Weaviate - What Is a Vector？.mp3\n",
      "[download] 100% of    2.09MiB in 00:00:00 at 3.35MiB/s   \n",
      "Hello Weaviate - What Is a Vector?\n",
      "[youtube] Extracting URL: https://www.youtube.com/watch?v=iFUeV3aYynI\n",
      "[youtube] iFUeV3aYynI: Downloading webpage\n",
      "[youtube] iFUeV3aYynI: Downloading ios player API JSON\n",
      "[youtube] iFUeV3aYynI: Downloading android player API JSON\n",
      "[youtube] iFUeV3aYynI: Downloading m3u8 information\n",
      "[info] iFUeV3aYynI: Downloading 1 format(s): 251\n",
      "[download] Hello Weaviate - What Is a Vector？.mp3 has already been downloaded\n",
      "[download] 100% of    2.09MiB\n",
      "Successfully Downloaded - see local folder on Google Colab\n"
     ]
    }
   ],
   "source": [
    "import yt_dlp\n",
    "\n",
    "def download_audio(link):\n",
    "  with yt_dlp.YoutubeDL({'extract_audio': True, 'format': 'bestaudio', 'outtmpl': '%(title)s.mp3'}) as video:\n",
    "    info_dict = video.extract_info(link, download = True)\n",
    "    video_title = info_dict['title']\n",
    "    print(video_title)\n",
    "    video.download(link)\n",
    "    print(\"Successfully Downloaded - see local folder on Google Colab\")\n",
    "\n",
    "download_audio('https://www.youtube.com/watch?v=iFUeV3aYynI')"
   ]
  },
  {
   "cell_type": "code",
   "execution_count": null,
   "metadata": {},
   "outputs": [],
   "source": []
  }
 ],
 "metadata": {
  "kernelspec": {
   "display_name": "Python 3 (ipykernel)",
   "language": "python",
   "name": "python3"
  },
  "language_info": {
   "codemirror_mode": {
    "name": "ipython",
    "version": 3
   },
   "file_extension": ".py",
   "mimetype": "text/x-python",
   "name": "python",
   "nbconvert_exporter": "python",
   "pygments_lexer": "ipython3",
   "version": "3.10.12"
  },
  "varInspector": {
   "cols": {
    "lenName": 16,
    "lenType": 16,
    "lenVar": 40
   },
   "kernels_config": {
    "python": {
     "delete_cmd_postfix": "",
     "delete_cmd_prefix": "del ",
     "library": "var_list.py",
     "varRefreshCmd": "print(var_dic_list())"
    },
    "r": {
     "delete_cmd_postfix": ") ",
     "delete_cmd_prefix": "rm(",
     "library": "var_list.r",
     "varRefreshCmd": "cat(var_dic_list()) "
    }
   },
   "types_to_exclude": [
    "module",
    "function",
    "builtin_function_or_method",
    "instance",
    "_Feature"
   ],
   "window_display": false
  }
 },
 "nbformat": 4,
 "nbformat_minor": 1
}
