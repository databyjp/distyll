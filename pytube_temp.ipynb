{
 "cells": [
  {
   "cell_type": "code",
   "execution_count": null,
   "outputs": [],
   "source": [],
   "metadata": {
    "collapsed": false
   }
  },
  {
   "cell_type": "code",
   "execution_count": 3,
   "metadata": {
    "is_executing": true
   },
   "outputs": [
    {
     "name": "stdout",
     "output_type": "stream",
     "text": [
      "[youtube] Extracting URL: https://www.youtube.com/watch?v=iFUeV3aYynI\n",
      "[youtube] iFUeV3aYynI: Downloading webpage\n",
      "[youtube] iFUeV3aYynI: Downloading ios player API JSON\n",
      "[youtube] iFUeV3aYynI: Downloading android player API JSON\n",
      "[youtube] iFUeV3aYynI: Downloading player 1dda5629\n",
      "[youtube] iFUeV3aYynI: Downloading m3u8 information\n",
      "[info] iFUeV3aYynI: Downloading 1 format(s): 251\n",
      "[download] Destination: Hello Weaviate - What Is a Vector？.mp3\n",
      "[download] 100% of    2.09MiB in 00:00:00 at 3.35MiB/s   \n",
      "Hello Weaviate - What Is a Vector?\n",
      "[youtube] Extracting URL: https://www.youtube.com/watch?v=iFUeV3aYynI\n",
      "[youtube] iFUeV3aYynI: Downloading webpage\n",
      "[youtube] iFUeV3aYynI: Downloading ios player API JSON\n",
      "[youtube] iFUeV3aYynI: Downloading android player API JSON\n",
      "[youtube] iFUeV3aYynI: Downloading m3u8 information\n",
      "[info] iFUeV3aYynI: Downloading 1 format(s): 251\n",
      "[download] Hello Weaviate - What Is a Vector？.mp3 has already been downloaded\n",
      "[download] 100% of    2.09MiB\n",
      "Successfully Downloaded - see local folder on Google Colab\n"
     ]
    }
   ],
   "source": [
    "import yt_dlp\n",
    "\n",
    "def download_audio(link: str, outpath: str = 'temp_audio.mp3'):\n",
    "    with yt_dlp.YoutubeDL({'extract_audio': True, 'format': 'bestaudio', 'outtmpl': outpath}) as video:\n",
    "        info_dict = video.extract_info(link, download = True)\n",
    "        video_title = info_dict['title']\n",
    "        print(f\"Found {video_title} - downloading\")\n",
    "        video.download(link)\n",
    "        print(f\"Successfully Downloaded to {outpath}\")\n",
    "\n",
    "download_audio('https://www.youtube.com/watch?v=iFUeV3aYynI')"
   ]
  },
  {
   "cell_type": "code",
   "execution_count": 1,
   "metadata": {
    "ExecuteTime": {
     "end_time": "2023-07-08T09:44:19.856311Z",
     "start_time": "2023-07-08T09:43:21.043986Z"
    }
   },
   "outputs": [],
   "source": [
    "# Note: you need to be using OpenAI Python v0.27.0 for the code below to work\n",
    "import openai\n",
    "import os\n",
    "openai.api_key = os.environ[\"OPENAI_APIKEY\"]\n",
    "audio_file= open(\"Hello Weaviate - What Is a Vector？.mp3\", \"rb\")\n",
    "transcript = openai.Audio.transcribe(\"whisper-1\", audio_file)"
   ]
  },
  {
   "cell_type": "code",
   "execution_count": 3,
   "outputs": [
    {
     "data": {
      "text/plain": "\"Hey there, and welcome. Let's talk about vectors and their role in Weaviate. By the end of this section, you'll have a better understanding of what vectors are, and how they help to capture meaning in various contexts. So what is a vector? A vector in this context is simply a series of numbers like these. They can be any length from just a few to thousands of numbers or even more. In data science, vectors like these are used to capture meaning. Now this is quite a strange concept at first, so if you're puzzled, you're definitely not alone. But actually, many people have used vectors without realising. If you've ever used photo editing software or MS Paint, you're very likely to have used vectors. Let's consider the RGB system, which many of us have used to select colours. For example, 25500 represents red, 000 is black, and other colours are represented by numbers. In these examples, each number can be thought of as a dial for how red, how green, or how blue a particular colour is. In other words, we've used numbers, three integers in this case, to represent some meaning, which are colours. Now imagine having hundreds or even thousands of these dials, with infinite degrees of variation using floating point numbers. That's how vectors are used to represent ranges of other, more complex meaning. Modern models like GPT-3, 4, or those used with Weaviate use vectors in this manner to represent the essence or meaning of objects. This can be done for any object type, such as text, code, images, videos, and more. So if you've heard people talk about vector embeddings, you now know exactly what that is. Each vector embedding is a representation of such meaning. Another really interesting part of this puzzle is how these embeddings are derived, which is through these amazing deep learning models. It's advances in this field that's really powered the modern revolution in AI in the past couple of decades or so. But we'll get to all that later. For now, all you need to know is that vectors are a series of numbers that can capture meaning in various contexts. Weaviate as a vector database leverages vector embeddings to perform similarity-based searches and other powerful operations on different types of data. As you continue to explore Weaviate, you'll gain a better intuition for how they capture meaning and how a vector search leverages those. Okay, that's it for this video, thanks for watching and we'll see you soon!\""
     },
     "execution_count": 3,
     "metadata": {},
     "output_type": "execute_result"
    }
   ],
   "source": [
    "transcript[\"text\"]"
   ],
   "metadata": {
    "collapsed": false,
    "ExecuteTime": {
     "end_time": "2023-07-08T09:45:03.485656Z",
     "start_time": "2023-07-08T09:45:03.483215Z"
    }
   }
  },
  {
   "cell_type": "code",
   "execution_count": null,
   "outputs": [],
   "source": [],
   "metadata": {
    "collapsed": false
   }
  }
 ],
 "metadata": {
  "kernelspec": {
   "display_name": "Python 3 (ipykernel)",
   "language": "python",
   "name": "python3"
  },
  "language_info": {
   "codemirror_mode": {
    "name": "ipython",
    "version": 3
   },
   "file_extension": ".py",
   "mimetype": "text/x-python",
   "name": "python",
   "nbconvert_exporter": "python",
   "pygments_lexer": "ipython3",
   "version": "3.10.12"
  },
  "varInspector": {
   "cols": {
    "lenName": 16,
    "lenType": 16,
    "lenVar": 40
   },
   "kernels_config": {
    "python": {
     "delete_cmd_postfix": "",
     "delete_cmd_prefix": "del ",
     "library": "var_list.py",
     "varRefreshCmd": "print(var_dic_list())"
    },
    "r": {
     "delete_cmd_postfix": ") ",
     "delete_cmd_prefix": "rm(",
     "library": "var_list.r",
     "varRefreshCmd": "cat(var_dic_list()) "
    }
   },
   "types_to_exclude": [
    "module",
    "function",
    "builtin_function_or_method",
    "instance",
    "_Feature"
   ],
   "window_display": false
  }
 },
 "nbformat": 4,
 "nbformat_minor": 1
}
