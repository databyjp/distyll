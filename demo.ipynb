{
 "cells": [
  {
   "cell_type": "code",
   "execution_count": 1,
   "metadata": {},
   "outputs": [],
   "source": [
    "import distyll"
   ]
  },
  {
   "cell_type": "code",
   "execution_count": 2,
   "metadata": {},
   "outputs": [
    {
     "name": "stderr",
     "output_type": "stream",
     "text": [
      "[2024-02-21 12:13:34,575] INFO in media: Processing https://www.youtube.com/watch?v=EYXQmbZNhy8, just getting the video title.\n",
      "[2024-02-21 12:13:34,576] INFO in media: Already downloaded watch?v=EYXQmbZNhy8\n"
     ]
    },
    {
     "name": "stdout",
     "output_type": "stream",
     "text": [
      "{'title': 'The Most AMAZING Vanilla Cake Recipe', 'date': '20210511', 'yt_url': 'https://www.youtube.com/watch?v=EYXQmbZNhy8', 'uploader': 'Preppy Kitchen', 'channel': 'Preppy Kitchen', 'transcripts': [\"Today, I'm teaching you how to make the only vanilla cake recipe you'll ever need. And if you like this video, don't forget to hit that like button and subscribe. Hey, you're watching Preppy Kitchen, where I, John Kanell, teach you how to make delicious homemade dishes to share with your family and friends. This cake will be ready before you know it. So let's get started. First off, set your oven to 350 and prep your two eight-inch pans. You could also make this with three six-inch pans if you want. Gonna give the sides a nice bit of butter, little for the bottom, and then just place that sheet right there. A circle of parchment paper is your insurance for no broken or cracked cakes when they release. That is heartbreak. For this cake, we're using 2 1⁄2 cups or 280 grams of all-purpose flour. This cake will be the best if you measure your flour the right way, which is with a scale. If you're not using a scale, fluff the flour up and then sprinkle it into your measuring cup. Now, we're adding 3⁄4 of a teaspoon of salt and 2 1⁄4 teaspoons of baking powder. Now, we're gonna sift it up and whisk it up. Now, we're gonna sift it out and whisk it up. Set it aside. All right, let's get that stand mixer. For this cake, we're using 3⁄4 of a cup or 170 grams of room-temperature unsalted butter, and room temperature means you can press into the butter and it'll yield to the touch. We're gonna cream the butter up so it is nice and smooth before we add the sugar, and while we cream it up, we can crack three eggs into a small bowl. You do not want any shells in your delicious vanilla cake. Our butter is nice and creamed up. You can always scrape the bowl down a little bit before you add another ingredient in. We want a homogenous mixture. Now, we're gonna add 1 2⁄3 cups of granulated sugar. That's 333 grams. Add it in while it's mixing. Increase to high and get it nice and fluffy. Mix for three minutes. Looks fluffy on top, but not so much on the bottom, so we're gonna scrape it down. Look at this. This is not fluffy. Just scrape it down and mix it up. Once it's light and fluffy, we're gonna add three eggs in one at a time. Let the first one incorporate before you add the next. Otherwise, you'll have an egg soup on top and solid butter on the bottom. Last egg. Now it's time for a tablespoon or 15 ml of a nice vanilla. This is the primary flavor in the cake, so don't skimp on it, if possible. In you go. The smell is amazing. One last scrape down, and then we're gonna add the dry mixture and the buttermilk in alternating batches. Bring that flour back. I also measured out one cup of buttermilk, and just like with the eggs, if possible, everything should be room temperature. You don't wanna add ice-cold ingredients into an oven because then the cake won't bake really evenly. You want it to bake nicely throughout, so it's pretty flat. If you don't, you're gonna have a big dome on the top and the edges will be burnt. Okay, this looks beautiful. Really loose, light-colored mixture. If it looks a little bit broken, don't worry. It's all gonna come together once we add the flour. As long as it's homogenous, you're in the right. We're gonna mix also on lowest speed. You do not wanna overmix cake batter. That will get you in trouble. Just sprinkle it in, let it mix a bit, and then add in a third of the buttermilk. We're gonna mix this until it's almost combined. I do not wanna see it fully mixed in because we're gonna finish the cake batter off by hand. Right now, there's a lot of chunks of flour, probably some butter hanging out here or there, but we're gonna use our spatula and bring this all together. If you overmix your cake batter, it'll look perfect when it comes out of the oven, but as soon as it cools down, it'll contract. It'll be kinda gummy and tough and just not melt in your mouth amazing. You do not wanna develop the gluten. This is ready to go into our pans, so let's get those out. You should have just about 600 grams of cake batter per pan, so you can use a scale or eyeball it, either way. Love using my scale. I'm only mentioning it because I actually get a lot of questions on how many grams of cake batter per pan, so that's the answer. Give your pans a quick tap just to get any big air bubbles out, and you can also tap the sides to help them level out. Then they go into the oven at 350, but I'm gonna use cake strips because I like my layers to be perfectly flat with no trimming, because that's wasted cake. 350 for about 30 minutes. While my cake was cooling, I whipped up a batch of my simple vanilla buttercream. Click up here for that recipe. It is delicious and so easy. Right, before you use any buttercream, just use your spatula to press any air bubbles out so it decorates up nice and smooth. Transfer your frosting to a piping bag, and let's get to work. I'm working directly on a cake plate. Just add one dot of buttercream on the bottom. Place that cake layer in the center. We're gonna cover this with a generous layer of buttercream frosting. Give it a quick smooth just to even it out. Pop that second layer on. Sometimes you'll wanna do a crumb coat because cakes can be crummy, but you don't really need to, so I'll show you. All you wanna do is cover the cake in one layer of buttercream, and then you can smooth it out. It's gonna look perfect. The key is really for the cake to be cool. Use an offset spatula and just smooth the top of the cake out. Smooth the side. This cake actually looks fine to me, but I'm gonna finish it off with a really easy spiral pattern. All you need is a rounded tip spatula or any implement and a cake turntable if you have one. Otherwise, smooth it out or swoop it up. Let's finish this off with a sprinkle of sprinkles to the sprinkle drawer. Confetti sprinkles are one of my favorite things. Just a few on the edge is all you need for a lot of cheer. This is Brian's mom's birthday cake. It's her birthday today. She deserves all the treats. She's really wonderful, so I hope she likes it. If you like this video, check out my easy cake playlist. Happy birthday, grandma. Aw. Should we take a bite? Okay, let's take a bite. Mm, how's it taste? Good. Oh, yay.\"]}\n"
     ]
    }
   ],
   "source": [
    "yt_url = \"https://www.youtube.com/watch?v=EYXQmbZNhy8\"\n",
    "video_data = distyll.transcripts.from_youtube(yt_url)\n",
    "print(video_data)"
   ]
  },
  {
   "cell_type": "code",
   "execution_count": null,
   "metadata": {},
   "outputs": [],
   "source": []
  }
 ],
 "metadata": {
  "kernelspec": {
   "display_name": ".venv",
   "language": "python",
   "name": "python3"
  },
  "language_info": {
   "codemirror_mode": {
    "name": "ipython",
    "version": 3
   },
   "file_extension": ".py",
   "mimetype": "text/x-python",
   "name": "python",
   "nbconvert_exporter": "python",
   "pygments_lexer": "ipython3",
   "version": "3.10.12"
  }
 },
 "nbformat": 4,
 "nbformat_minor": 2
}
