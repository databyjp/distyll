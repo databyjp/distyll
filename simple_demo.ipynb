{
 "cells": [
  {
   "cell_type": "markdown",
   "source": [
    "## Demo"
   ],
   "metadata": {
    "collapsed": false
   }
  },
  {
   "cell_type": "markdown",
   "source": [
    "### Instantiate database\n",
    "\n",
    "You can connect to your database like this."
   ],
   "metadata": {
    "collapsed": false
   }
  },
  {
   "cell_type": "code",
   "execution_count": 1,
   "outputs": [
    {
     "name": "stdout",
     "output_type": "stream",
     "text": [
      "Started /Users/peej/.cache/weaviate-embedded: process ID 64734\n"
     ]
    },
    {
     "name": "stderr",
     "output_type": "stream",
     "text": [
      "{\"action\":\"startup\",\"default_vectorizer_module\":\"none\",\"level\":\"info\",\"msg\":\"the default vectorizer modules is set to \\\"none\\\", as a result all new schema classes without an explicit vectorizer setting, will use this vectorizer\",\"time\":\"2023-08-31T23:31:33+01:00\"}\n",
      "{\"action\":\"startup\",\"auto_schema_enabled\":true,\"level\":\"info\",\"msg\":\"auto schema enabled setting is set to \\\"true\\\"\",\"time\":\"2023-08-31T23:31:33+01:00\"}\n",
      "{\"action\":\"hnsw_vector_cache_prefill\",\"count\":3000,\"index_id\":\"glossary_nvEpkX39bafN\",\"level\":\"info\",\"limit\":1000000000000,\"msg\":\"prefilled vector cache\",\"time\":\"2023-08-31T23:31:33+01:00\",\"took\":67250}\n",
      "{\"action\":\"hnsw_vector_cache_prefill\",\"count\":3000,\"index_id\":\"revisionquiz_XbkWXevZOMCs\",\"level\":\"info\",\"limit\":1000000000000,\"msg\":\"prefilled vector cache\",\"time\":\"2023-08-31T23:31:33+01:00\",\"took\":31417}\n",
      "{\"action\":\"hnsw_vector_cache_prefill\",\"count\":3000,\"index_id\":\"revisionquizanswers_JpUlrOysw6Dp\",\"level\":\"info\",\"limit\":1000000000000,\"msg\":\"prefilled vector cache\",\"time\":\"2023-08-31T23:31:33+01:00\",\"took\":30709}\n",
      "{\"action\":\"hnsw_vector_cache_prefill\",\"count\":3000,\"index_id\":\"source_DG5EZAgVHnff\",\"level\":\"info\",\"limit\":1000000000000,\"msg\":\"prefilled vector cache\",\"time\":\"2023-08-31T23:31:33+01:00\",\"took\":116959}\n",
      "{\"action\":\"hnsw_vector_cache_prefill\",\"count\":3000,\"index_id\":\"knowledge_chunk_bc91g9LEoKkL\",\"level\":\"info\",\"limit\":1000000000000,\"msg\":\"prefilled vector cache\",\"time\":\"2023-08-31T23:31:33+01:00\",\"took\":7840333}\n",
      "{\"action\":\"hnsw_vector_cache_prefill\",\"count\":3000,\"index_id\":\"summary_gWXnJeajKrL1\",\"level\":\"info\",\"limit\":1000000000000,\"msg\":\"prefilled vector cache\",\"time\":\"2023-08-31T23:31:33+01:00\",\"took\":28666}\n",
      "{\"action\":\"hnsw_vector_cache_prefill\",\"count\":3000,\"index_id\":\"testchunk_TGN607muyNiF\",\"level\":\"info\",\"limit\":1000000000000,\"msg\":\"prefilled vector cache\",\"time\":\"2023-08-31T23:31:33+01:00\",\"took\":246125}\n",
      "{\"action\":\"hnsw_vector_cache_prefill\",\"count\":3000,\"index_id\":\"testcollection_nTFYCaTwgx1C\",\"level\":\"info\",\"limit\":1000000000000,\"msg\":\"prefilled vector cache\",\"time\":\"2023-08-31T23:31:33+01:00\",\"took\":31042}\n",
      "{\"action\":\"hnsw_vector_cache_prefill\",\"count\":3000,\"index_id\":\"testsource_8Fvjrax79Ldt\",\"level\":\"info\",\"limit\":1000000000000,\"msg\":\"prefilled vector cache\",\"time\":\"2023-08-31T23:31:33+01:00\",\"took\":47375}\n",
      "{\"level\":\"warning\",\"msg\":\"Multiple vector spaces are present, GraphQL Explore and REST API list objects endpoint module include params has been disabled as a result.\",\"time\":\"2023-08-31T23:31:33+01:00\"}\n",
      "{\"action\":\"grpc_startup\",\"level\":\"info\",\"msg\":\"grpc server listening at [::]:50051\",\"time\":\"2023-08-31T23:31:33+01:00\"}\n",
      "{\"action\":\"restapi_management\",\"level\":\"info\",\"msg\":\"Serving weaviate at http://127.0.0.1:6666\",\"time\":\"2023-08-31T23:31:33+01:00\"}\n",
      "{\"action\":\"hnsw_vector_cache_prefill\",\"count\":1000,\"index_id\":\"datasource_1ijeHBod92yp\",\"level\":\"info\",\"limit\":1000000000000,\"msg\":\"prefilled vector cache\",\"time\":\"2023-08-31T23:31:33+01:00\",\"took\":41458}\n",
      "{\"action\":\"hnsw_vector_cache_prefill\",\"count\":1000,\"index_id\":\"datachunk_0JjdTIy2ByY7\",\"level\":\"info\",\"limit\":1000000000000,\"msg\":\"prefilled vector cache\",\"time\":\"2023-08-31T23:31:33+01:00\",\"took\":41458}\n"
     ]
    }
   ],
   "source": [
    "import distyll\n",
    "db = distyll.DBConnection()"
   ],
   "metadata": {
    "collapsed": false,
    "ExecuteTime": {
     "end_time": "2023-08-31T22:31:33.349809Z",
     "start_time": "2023-08-31T22:31:32.319818Z"
    }
   }
  },
  {
   "cell_type": "markdown",
   "source": [
    "Optionally, you can also specify a particular Weaviate instance"
   ],
   "metadata": {
    "collapsed": false
   }
  },
  {
   "cell_type": "code",
   "execution_count": 1,
   "outputs": [],
   "source": [
    "# import weaviate\n",
    "# import os\n",
    "# client = weaviate.Client(\n",
    "#     url=os.environ['JP_WCS_URL'],\n",
    "#     auth_client_secret=weaviate.AuthApiKey(os.environ['JP_WCS_ADMIN_KEY']),\n",
    "#     additional_headers={\n",
    "#         'X-OpenAI-Api-Key': os.environ['OPENAI_APIKEY']\n",
    "#     }\n",
    "# )\n",
    "#\n",
    "# import distyll\n",
    "# db = distyll.DBConnection(client=client)"
   ],
   "metadata": {
    "collapsed": false,
    "ExecuteTime": {
     "end_time": "2023-08-31T21:44:03.511338Z",
     "start_time": "2023-08-31T21:44:02.327521Z"
    }
   }
  },
  {
   "cell_type": "markdown",
   "source": [
    "Let's add data from a Weaviate instance"
   ],
   "metadata": {
    "collapsed": false
   }
  },
  {
   "cell_type": "code",
   "execution_count": 3,
   "outputs": [],
   "source": [
    "youtube_url = \"https://youtu.be/sNw40lEhaIQ\""
   ],
   "metadata": {
    "collapsed": false,
    "ExecuteTime": {
     "end_time": "2023-08-31T21:44:04.570980Z",
     "start_time": "2023-08-31T21:44:04.567386Z"
    }
   }
  },
  {
   "cell_type": "code",
   "execution_count": 4,
   "outputs": [
    {
     "data": {
      "text/plain": "27"
     },
     "execution_count": 4,
     "metadata": {},
     "output_type": "execute_result"
    }
   ],
   "source": [
    "db.add_from_youtube(youtube_url)"
   ],
   "metadata": {
    "collapsed": false,
    "ExecuteTime": {
     "end_time": "2023-08-31T21:44:05.024669Z",
     "start_time": "2023-08-31T21:44:04.574054Z"
    }
   }
  },
  {
   "cell_type": "code",
   "execution_count": 5,
   "outputs": [],
   "source": [
    "import query"
   ],
   "metadata": {
    "collapsed": false,
    "ExecuteTime": {
     "end_time": "2023-08-31T21:44:05.032188Z",
     "start_time": "2023-08-31T21:44:05.026583Z"
    }
   }
  },
  {
   "cell_type": "code",
   "execution_count": 6,
   "outputs": [],
   "source": [
    "response = query.generate_on_summary(db=db, prompt=\"In bullet points, tell me what this material describes\", object_path=youtube_url)"
   ],
   "metadata": {
    "collapsed": false,
    "ExecuteTime": {
     "end_time": "2023-08-31T21:44:11.891623Z",
     "start_time": "2023-08-31T21:44:05.033103Z"
    }
   }
  },
  {
   "cell_type": "code",
   "execution_count": 7,
   "outputs": [
    {
     "name": "stdout",
     "output_type": "stream",
     "text": [
      "- The material is part four of a series on contextual representations, focusing on the GPT (transformer-based) architecture.\n",
      "- It discusses the autoregressive loss function used in neural language modeling.\n",
      "- The loss function involves using token and hidden representations to maximize log probability.\n",
      "- GPT applies these principles using positional encoding, transformer blocks, and masking to generate output representations for language modeling.\n",
      "- Self-attention allows the model to look back at previous positions.\n",
      "- An attention mask is used to avoid looking into future tokens.\n",
      "- The input sequence is represented as one-hot vectors.\n",
      "- Teacher forcing is used during training, where the actual token at the next time step is used.\n",
      "- The generation process involves using the model's predicted scores to infer the next token.\n",
      "- The model predicts scores over the entire vocabulary, and a decision rule is applied to determine the predicted token.\n",
      "- Fine-tuning GPT models typically involves using the final output state as the basis for task-specific parameters.\n",
      "- GPT-1, GPT-2, and GPT-3 are different versions of the GPT model with varying numbers of layers and parameters.\n",
      "- There are open-source alternatives to GPT models, some of which are competitive in terms of size and performance.\n"
     ]
    }
   ],
   "source": [
    "print(response.generated_text)"
   ],
   "metadata": {
    "collapsed": false,
    "ExecuteTime": {
     "end_time": "2023-08-31T21:44:11.897149Z",
     "start_time": "2023-08-31T21:44:11.892984Z"
    }
   }
  },
  {
   "cell_type": "code",
   "execution_count": 8,
   "outputs": [],
   "source": [
    "response = query.generate_on_search(\n",
    "    db=db,\n",
    "    prompt=\"In bullet points, tell me what this material describes\",\n",
    "    search_query=\"open source models\",\n",
    "    object_path=youtube_url,\n",
    "    limit=2\n",
    ")"
   ],
   "metadata": {
    "collapsed": false,
    "ExecuteTime": {
     "end_time": "2023-08-31T21:44:15.671945Z",
     "start_time": "2023-08-31T21:44:11.899441Z"
    }
   }
  },
  {
   "cell_type": "code",
   "execution_count": 9,
   "outputs": [
    {
     "name": "stdout",
     "output_type": "stream",
     "text": [
      "- The material describes the size and dimensionality of various models in the open source side.\n",
      "- It mentions the Bloom model with 176 billion parameters, which is considered gargantuan.\n",
      "- There are smaller models mentioned that are performant, powerful, and interesting in the GPT mode.\n",
      "- The dimensionality of the inside feed forward layer is unknown, but it might be 12,000.\n",
      "- The GPT-3 paper reports on models of intermediate sizes.\n",
      "- All of the mentioned models are from OpenAI.\n",
      "- The material acknowledges that the information may be outdated but provides an overview of the developments in the open source side.\n"
     ]
    }
   ],
   "source": [
    "print(response.generated_text)"
   ],
   "metadata": {
    "collapsed": false,
    "ExecuteTime": {
     "end_time": "2023-08-31T21:44:15.674735Z",
     "start_time": "2023-08-31T21:44:15.672211Z"
    }
   }
  },
  {
   "cell_type": "code",
   "execution_count": 9,
   "outputs": [],
   "source": [],
   "metadata": {
    "collapsed": false,
    "ExecuteTime": {
     "end_time": "2023-08-31T21:44:15.676800Z",
     "start_time": "2023-08-31T21:44:15.674944Z"
    }
   }
  }
 ],
 "metadata": {
  "kernelspec": {
   "display_name": "Python 3",
   "language": "python",
   "name": "python3"
  },
  "language_info": {
   "codemirror_mode": {
    "name": "ipython",
    "version": 2
   },
   "file_extension": ".py",
   "mimetype": "text/x-python",
   "name": "python",
   "nbconvert_exporter": "python",
   "pygments_lexer": "ipython2",
   "version": "2.7.6"
  }
 },
 "nbformat": 4,
 "nbformat_minor": 0
}
