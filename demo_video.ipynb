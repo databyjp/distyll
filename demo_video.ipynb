{
 "cells": [
  {
   "cell_type": "markdown",
   "source": [
    "# Demo"
   ],
   "metadata": {
    "collapsed": false
   }
  },
  {
   "cell_type": "markdown",
   "source": [
    "## Instantiate database\n",
    "\n",
    "Connect to a Weaviate database using this app:"
   ],
   "metadata": {
    "collapsed": false
   }
  },
  {
   "cell_type": "code",
   "execution_count": 6,
   "outputs": [],
   "source": [
    "import distyll  # My personal demo project\n",
    "db = distyll.DBConnection()"
   ],
   "metadata": {
    "collapsed": false,
    "ExecuteTime": {
     "end_time": "2023-09-06T10:33:47.325984Z",
     "start_time": "2023-09-06T10:33:46.340421Z"
    }
   }
  },
  {
   "cell_type": "markdown",
   "source": [
    "## YouTube video example"
   ],
   "metadata": {
    "collapsed": false
   }
  },
  {
   "cell_type": "markdown",
   "source": [
    "### Add data"
   ],
   "metadata": {
    "collapsed": false
   }
  },
  {
   "cell_type": "markdown",
   "source": [
    "Let's add data from YouTube videos"
   ],
   "metadata": {
    "collapsed": false
   }
  },
  {
   "cell_type": "code",
   "execution_count": 7,
   "outputs": [],
   "source": [
    "youtube_urls = [\n",
    "    \"https://youtu.be/sNw40lEhaIQ\",  # Stanford: NLU Contextual Word Representations: GPT Spring 2023\n",
    "    \"https://youtu.be/enRb6fp5_hw\",  # Stanford: NLU Information Retrieval: Guiding Ideas Spring 2023\n",
    "    \"https://youtu.be/nMMNkfSQuiU\",  # Starfield (video game) review - from a week ago\n",
    "]\n",
    "for youtube_url in youtube_urls:\n",
    "    db.add_from_youtube(youtube_url)"
   ],
   "metadata": {
    "collapsed": false,
    "ExecuteTime": {
     "end_time": "2023-09-06T10:33:48.405954Z",
     "start_time": "2023-09-06T10:33:47.326749Z"
    }
   }
  },
  {
   "cell_type": "markdown",
   "source": [
    "### Query data"
   ],
   "metadata": {
    "collapsed": false
   }
  },
  {
   "cell_type": "markdown",
   "source": [
    "Now we can query it"
   ],
   "metadata": {
    "collapsed": false
   }
  },
  {
   "cell_type": "code",
   "execution_count": 8,
   "outputs": [
    {
     "name": "stdout",
     "output_type": "stream",
     "text": [
      "\n",
      "https://youtu.be/sNw40lEhaIQ\n",
      "- The material describes the transformer-based architecture called GPT (Generative Pre-trained Transformer) and its use for language modeling.\n",
      "- It explains the autoregressive loss function used for neural language modeling and provides illustrations to support the technical details.\n",
      "- The attention mechanism used in GPT is discussed, along with the need for masking to prevent looking into the future.\n",
      "- The training process of GPT models with teacher forcing is explained, including how the input sequence is processed and how the model's parameters are updated.\n",
      "- The material also mentions the use of teacher forcing during generation and discusses fine-tuning GPT models, as well as different versions and variations of GPT models.\n",
      "\n",
      "https://youtu.be/enRb6fp5_hw\n",
      "- The material discusses the influence of natural language processing (NLP) on information retrieval, including the use of transformer models like BERT and large language models from OpenAI.\n",
      "- It highlights the challenges of information retrieval and the importance of natural language understanding (NLU) in improving search results.\n",
      "- The material suggests expanding traditional NLP tasks into more open and knowledge-intensive variants to enhance their effectiveness.\n",
      "- It contrasts classical information retrieval approaches with the emerging trend of using language models for retrieval, aiming to provide more relevant search results based on semantic understanding.\n",
      "- The material introduces the concept of in-context learning using large language models to prompt questions and retrieve evidence, while also addressing concerns about the potential for fabricated evidence and the need for skepticism.\n",
      "\n",
      "https://youtu.be/nMMNkfSQuiU\n",
      "- Starfield is a highly anticipated single player RPG by Bethesda set in a vast and detailed sci-fi universe.\n",
      "- Players start off in a mining camp and explore the lore-rich universe, shaping their character's background and skills.\n",
      "- The main quest involves solving the mystery of ancient artifacts with a secret society of explorers, while side quests explore themes of justice and ethics.\n",
      "- The game initially has technical issues and a slow pace, but improves as players progress and unlock upgrades.\n",
      "- Combat is engaging, with options for weapons, stealth, and ship-to-ship battles, but the planets themselves lack interaction and maps can be frustrating.\n"
     ]
    }
   ],
   "source": [
    "for youtube_url in youtube_urls:\n",
    "    response = db.query_summary(\n",
    "        prompt=\"In short, 3-5 plain-language bullet points, tell me what this material describes\",\n",
    "        object_path=youtube_url\n",
    "    )\n",
    "    print(f'\\n{youtube_url}')\n",
    "    print(response.generated_text)"
   ],
   "metadata": {
    "collapsed": false,
    "ExecuteTime": {
     "end_time": "2023-09-06T10:34:09.497267Z",
     "start_time": "2023-09-06T10:33:48.408796Z"
    }
   }
  },
  {
   "cell_type": "code",
   "execution_count": 9,
   "outputs": [
    {
     "name": "stdout",
     "output_type": "stream",
     "text": [
      "\n",
      "https://youtu.be/sNw40lEhaIQ\n",
      "Yes, this text contains information about language models. Here are the summarized bullet points:\n",
      "\n",
      "1. The text discusses the autoregressive loss function used for neural language modeling in GPT, a famous transformer-based architecture.\n",
      "2. It explains the process of language modeling using GPT, including the embedding representation and hidden representation of tokens.\n",
      "3. The text mentions the use of transformer blocks in GPT and the addition of language modeling-specific parameters.\n",
      "4. It highlights the need for masking in attention mechanisms to prevent looking into the future during language modeling.\n",
      "5. The text describes the training process of GPT models with teacher forcing, where the actual token at the next time step is used.\n",
      "6. It explains the generation process in GPT, where new tokens are created based on the scores predicted by the model.\n",
      "7. The text mentions the possibility of fine-tuning GPT models and provides information about the sizes and parameters of different GPT models, including open-source alternatives.\n",
      "\n",
      "https://youtu.be/enRb6fp5_hw\n",
      "- The text discusses the use of language models in information retrieval and search technologies.\n",
      "- It mentions the incorporation of BERT, a famous language model, into core search technologies by Google and Microsoft.\n",
      "- The text highlights the role of large language models in search and their potential for improving search applications.\n",
      "- It discusses the idea of using language models for open knowledge-intensive tasks in NLP, such as summarization and natural language inference.\n",
      "- The text also raises concerns about the reliability and trustworthiness of language models in providing accurate information and emphasizes the importance of provenance and ground truth in documents for web search.\n",
      "\n",
      "https://youtu.be/nMMNkfSQuiU\n",
      "No, this text does not contain information about language models.\n"
     ]
    }
   ],
   "source": [
    "query = \"language models\"\n",
    "for youtube_url in youtube_urls:\n",
    "    response = db.query_chunks(\n",
    "        prompt=f\"Does this text contain information about {query}? If so, summarize in 3-5 plain-language bullet points\",\n",
    "        object_path=youtube_url,\n",
    "        search_query=query\n",
    "    )\n",
    "    print(f'\\n{youtube_url}')\n",
    "    print(response.generated_text)"
   ],
   "metadata": {
    "collapsed": false,
    "ExecuteTime": {
     "end_time": "2023-09-06T10:34:27.525118Z",
     "start_time": "2023-09-06T10:34:09.500246Z"
    }
   }
  },
  {
   "cell_type": "code",
   "execution_count": 10,
   "outputs": [
    {
     "name": "stdout",
     "output_type": "stream",
     "text": [
      "\n",
      "https://youtu.be/sNw40lEhaIQ\n",
      "No, this text does not contain information about a game.\n",
      "\n",
      "https://youtu.be/enRb6fp5_hw\n",
      "No, this text does not contain information about a game.\n",
      "\n",
      "https://youtu.be/nMMNkfSQuiU\n",
      "- The text is a review of the game Starfield.\n",
      "- The reviewer mentions their love for Bethesda's previous game, Fallout 4.\n",
      "- They describe Starfield as a sci-fi universe with spaceships, lasers, and political intrigue.\n",
      "- The game has a slow start and some technical issues, but eventually becomes enjoyable.\n",
      "- There are various quests, side quests, and companions to interact with in the game.\n"
     ]
    }
   ],
   "source": [
    "query = \"a game\"\n",
    "for youtube_url in youtube_urls:\n",
    "    response = db.query_chunks(\n",
    "        prompt=f\"Does this text contain information about {query}? If so, summarize in 3-5 plain-language bullet points\",\n",
    "        object_path=youtube_url,\n",
    "        search_query=query\n",
    "    )\n",
    "    print(f'\\n{youtube_url}')\n",
    "    print(response.generated_text)"
   ],
   "metadata": {
    "collapsed": false,
    "ExecuteTime": {
     "end_time": "2023-09-06T10:34:37.141344Z",
     "start_time": "2023-09-06T10:34:27.528333Z"
    }
   }
  },
  {
   "cell_type": "markdown",
   "source": [
    "## Notes"
   ],
   "metadata": {
    "collapsed": false
   }
  },
  {
   "cell_type": "markdown",
   "source": [
    "Optionally, you can also specify a particular Weaviate instance"
   ],
   "metadata": {
    "collapsed": false
   }
  },
  {
   "cell_type": "code",
   "execution_count": null,
   "outputs": [],
   "source": [
    "# import weaviate\n",
    "# import os\n",
    "# client = weaviate.Client(\n",
    "#     url=os.environ['JP_WCS_URL'],\n",
    "#     auth_client_secret=weaviate.AuthApiKey(os.environ['JP_WCS_ADMIN_KEY']),\n",
    "#     additional_headers={\n",
    "#         'X-OpenAI-Api-Key': os.environ['OPENAI_APIKEY']\n",
    "#     }\n",
    "# )\n",
    "#\n",
    "# import distyll\n",
    "# db = distyll.DBConnection(client=client)"
   ],
   "metadata": {
    "collapsed": false
   }
  },
  {
   "cell_type": "markdown",
   "source": [],
   "metadata": {
    "collapsed": false
   }
  }
 ],
 "metadata": {
  "kernelspec": {
   "display_name": "Python 3",
   "language": "python",
   "name": "python3"
  },
  "language_info": {
   "codemirror_mode": {
    "name": "ipython",
    "version": 2
   },
   "file_extension": ".py",
   "mimetype": "text/x-python",
   "name": "python",
   "nbconvert_exporter": "python",
   "pygments_lexer": "ipython2",
   "version": "2.7.6"
  }
 },
 "nbformat": 4,
 "nbformat_minor": 0
}
