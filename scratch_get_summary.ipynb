{
 "cells": [
  {
   "cell_type": "code",
   "execution_count": 1,
   "metadata": {
    "collapsed": true,
    "ExecuteTime": {
     "end_time": "2023-07-10T22:40:20.234723Z",
     "start_time": "2023-07-10T22:40:20.019466Z"
    }
   },
   "outputs": [
    {
     "name": "stdout",
     "output_type": "stream",
     "text": [
      "Found class. Skipping class creation\n"
     ]
    }
   ],
   "source": [
    "import wkb\n",
    "client = wkb.start_db()\n",
    "collection = wkb.Collection(client, wkb.WV_CLASS)"
   ]
  },
  {
   "cell_type": "code",
   "execution_count": 3,
   "outputs": [
    {
     "name": "stdout",
     "output_type": "stream",
     "text": [
      "The provided text consists of excerpts from podcast interviews and conversations covering a wide range of topics related to artificial intelligence (AI), machine learning, video analysis, language models, embedding models, and personal productivity. Each excerpt provides insights into different aspects of these subjects.\n",
      "\n",
      "Listeners can learn about the evolution of AI expert Alexa Gordeech's career, the development of Ordis (a Chrome extension for video content search), the importance of reading research papers and understanding code, and the influence of competition in the AI field. Another conversation discusses graph neural networks, starting a startup, YouTube content creation, DeepMind, and building question answering systems.\n",
      "\n",
      "In addition, the excerpts cover topics such as the challenges and advancements in video analysis, the use of hybrid systems and external memories in AI systems, the potential of fine-tuning embedding models, the power of multimodal data, the analysis of visual components in videos, and the potential applications of language models. There is also a discussion on personal self-organization, strategies for productivity, and the challenges of running large language models efficiently.\n",
      "\n",
      "The variety of topics covered in these excerpts provides the reader with a comprehensive overview of the current state of AI and machine learning, insights into different technologies and approaches, and considerations for optimizing models and systems. The excerpts also offer perspectives on career paths in the field and practical tips for personal productivity and learning.\n"
     ]
    }
   ],
   "source": [
    "youtube_url = \"https://www.youtube.com/watch?v=pGrP87gE8XU\"\n",
    "content_summary = collection.summarize_entry(youtube_url)\n",
    "print(content_summary)"
   ],
   "metadata": {
    "collapsed": false,
    "ExecuteTime": {
     "end_time": "2023-07-10T22:43:13.397625Z",
     "start_time": "2023-07-10T22:42:31.141696Z"
    }
   }
  },
  {
   "cell_type": "code",
   "execution_count": null,
   "outputs": [],
   "source": [],
   "metadata": {
    "collapsed": false
   }
  },
  {
   "cell_type": "code",
   "execution_count": 13,
   "outputs": [
    {
     "data": {
      "text/plain": "[{'_additional': {'distance': 0.1280145},\n  'body': 'default solutions are optional and pluggable. Kubernetes provides the building blocks for building developer platforms, but preserves user choice and flexibility where it is important.\\n\\nKubernetes:\\n\\nDoes not limit the types of applications supported. Kubernetes aims to support an extremely diverse variety of workloads, including stateless, stateful, and data-processing workloads. If an application can run in a container, it should run great on Kubernetes.\\nDoes not deploy source code and does not build your application. Continuous Integration, Delivery, and Deployment (CI/CD) workflows are determined by organization cultures and preferences as well as technical requirements.\\nDoes not provide application-level services, such as middleware (for example, message buses), data-processing frameworks (for example, Spark), databases (for example, MySQL), caches, nor cluster storage systems (for example, Ceph) as built-in services. Such components can',\n  'source_path': './data/kubernetes_concepts_overview.txt'},\n {'_additional': {'distance': 0.12935555},\n  'body': 'your system.\\n\\nKubernetes provides you with:\\n\\nService discovery and load balancing Kubernetes can expose a container using the DNS name or using their own IP address. If traffic to a container is high, Kubernetes is able to load balance and distribute the network traffic so that the deployment is stable.\\nStorage orchestration Kubernetes allows you to automatically mount a storage system of your choice, such as local storages, public cloud providers, and more.\\nAutomated rollouts and rollbacks You can describe the desired state for your deployed containers using Kubernetes, and it can change the actual state to the desired state at a controlled rate. For example, you can automate Kubernetes to create new containers for your deployment, remove existing containers and adopt all their resources to the new container.\\nAutomatic',\n  'source_path': './data/kubernetes_concepts_overview.txt'}]"
     },
     "execution_count": 13,
     "metadata": {},
     "output_type": "execute_result"
    }
   ],
   "source": [
    "collection.text_search(\"kubernetes\", 2)"
   ],
   "metadata": {
    "collapsed": false,
    "ExecuteTime": {
     "end_time": "2023-07-10T14:47:39.398219Z",
     "start_time": "2023-07-10T14:47:38.932772Z"
    }
   }
  },
  {
   "cell_type": "code",
   "execution_count": 14,
   "outputs": [
    {
     "data": {
      "text/plain": "\"Kubernetes is a portable, extensible, open-source platform for managing containerized workloads and services. It aims to support a diverse variety of workloads, including stateless, stateful, and data-processing workloads. Kubernetes does not limit the types of applications supported and does not deploy source code or build applications. It provides service discovery and load balancing, storage orchestration, automated rollouts and rollbacks, automatic bin packing, self-healing, and secret and configuration management. Kubernetes is not a traditional, all-inclusive PaaS system and does not provide application-level services or dictate logging, monitoring, or alerting solutions. It also does not provide or mandate a configuration language/system or comprehensive machine configuration, maintenance, management, or self-healing systems. Kubernetes eliminates the need for orchestration and combines Google's experience with best practices from the community. It is used for managing containers in a production environment and provides benefits such as agility, scalability, and resource utilization.\""
     },
     "execution_count": 14,
     "metadata": {},
     "output_type": "execute_result"
    }
   ],
   "source": [
    "collection.summarize_topic(\"kubernetes\")"
   ],
   "metadata": {
    "collapsed": false,
    "ExecuteTime": {
     "end_time": "2023-07-10T14:47:54.472506Z",
     "start_time": "2023-07-10T14:47:49.750247Z"
    }
   }
  },
  {
   "cell_type": "code",
   "execution_count": null,
   "outputs": [],
   "source": [],
   "metadata": {
    "collapsed": false
   }
  }
 ],
 "metadata": {
  "kernelspec": {
   "display_name": "Python 3",
   "language": "python",
   "name": "python3"
  },
  "language_info": {
   "codemirror_mode": {
    "name": "ipython",
    "version": 2
   },
   "file_extension": ".py",
   "mimetype": "text/x-python",
   "name": "python",
   "nbconvert_exporter": "python",
   "pygments_lexer": "ipython2",
   "version": "2.7.6"
  }
 },
 "nbformat": 4,
 "nbformat_minor": 0
}
