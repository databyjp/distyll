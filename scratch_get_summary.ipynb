{
 "cells": [
  {
   "cell_type": "code",
   "execution_count": 4,
   "metadata": {
    "collapsed": true,
    "ExecuteTime": {
     "end_time": "2023-07-10T14:45:16.427370Z",
     "start_time": "2023-07-10T14:45:16.382076Z"
    }
   },
   "outputs": [
    {
     "name": "stdout",
     "output_type": "stream",
     "text": [
      "Found class. Skipping class creation\n"
     ]
    }
   ],
   "source": [
    "import wkb\n",
    "client = wkb.start_db()\n",
    "collection = wkb.Collection(client, wkb.WV_CLASS)"
   ]
  },
  {
   "cell_type": "code",
   "execution_count": 5,
   "outputs": [
    {
     "name": "stdout",
     "output_type": "stream",
     "text": [
      "The provided text is a collection of excerpts from a podcast interview with Alexa Gordeech, a well-known AI influencer. The topics covered include content consumption, the evolution of content creators, the YouTube career of Alexa Gordeech, the founding of Ordis, the experience of joining and leaving DeepMind, the competition in the AI space, and the technical expertise of Alexa Gordeech in graph neural networks. \n",
      "\n",
      "By listening to the podcast, the reader can learn about the potential transformation of content consumption, the evolving landscape of content creators, the personal journey of Alexa Gordeech in the AI field, the founding of Ordis, the experience of working at DeepMind, the importance of competition and learning from others, and the technical expertise of Alexa Gordeech in graph neural networks. The text uses plain language to make it easily understandable for a general audience.\n"
     ]
    }
   ],
   "source": [
    "youtube_url = \"https://www.youtube.com/watch?v=pGrP87gE8XU\"\n",
    "print(collection.summarize_entry(youtube_url))"
   ],
   "metadata": {
    "collapsed": false,
    "ExecuteTime": {
     "end_time": "2023-07-10T14:45:25.006230Z",
     "start_time": "2023-07-10T14:45:20.376805Z"
    }
   }
  },
  {
   "cell_type": "code",
   "execution_count": 13,
   "outputs": [
    {
     "data": {
      "text/plain": "[{'_additional': {'distance': 0.1280145},\n  'body': 'default solutions are optional and pluggable. Kubernetes provides the building blocks for building developer platforms, but preserves user choice and flexibility where it is important.\\n\\nKubernetes:\\n\\nDoes not limit the types of applications supported. Kubernetes aims to support an extremely diverse variety of workloads, including stateless, stateful, and data-processing workloads. If an application can run in a container, it should run great on Kubernetes.\\nDoes not deploy source code and does not build your application. Continuous Integration, Delivery, and Deployment (CI/CD) workflows are determined by organization cultures and preferences as well as technical requirements.\\nDoes not provide application-level services, such as middleware (for example, message buses), data-processing frameworks (for example, Spark), databases (for example, MySQL), caches, nor cluster storage systems (for example, Ceph) as built-in services. Such components can',\n  'source_path': './data/kubernetes_concepts_overview.txt'},\n {'_additional': {'distance': 0.12935555},\n  'body': 'your system.\\n\\nKubernetes provides you with:\\n\\nService discovery and load balancing Kubernetes can expose a container using the DNS name or using their own IP address. If traffic to a container is high, Kubernetes is able to load balance and distribute the network traffic so that the deployment is stable.\\nStorage orchestration Kubernetes allows you to automatically mount a storage system of your choice, such as local storages, public cloud providers, and more.\\nAutomated rollouts and rollbacks You can describe the desired state for your deployed containers using Kubernetes, and it can change the actual state to the desired state at a controlled rate. For example, you can automate Kubernetes to create new containers for your deployment, remove existing containers and adopt all their resources to the new container.\\nAutomatic',\n  'source_path': './data/kubernetes_concepts_overview.txt'}]"
     },
     "execution_count": 13,
     "metadata": {},
     "output_type": "execute_result"
    }
   ],
   "source": [
    "collection.text_search(\"kubernetes\", 2)"
   ],
   "metadata": {
    "collapsed": false,
    "ExecuteTime": {
     "end_time": "2023-07-10T14:47:39.398219Z",
     "start_time": "2023-07-10T14:47:38.932772Z"
    }
   }
  },
  {
   "cell_type": "code",
   "execution_count": 14,
   "outputs": [
    {
     "data": {
      "text/plain": "\"Kubernetes is a portable, extensible, open-source platform for managing containerized workloads and services. It aims to support a diverse variety of workloads, including stateless, stateful, and data-processing workloads. Kubernetes does not limit the types of applications supported and does not deploy source code or build applications. It provides service discovery and load balancing, storage orchestration, automated rollouts and rollbacks, automatic bin packing, self-healing, and secret and configuration management. Kubernetes is not a traditional, all-inclusive PaaS system and does not provide application-level services or dictate logging, monitoring, or alerting solutions. It also does not provide or mandate a configuration language/system or comprehensive machine configuration, maintenance, management, or self-healing systems. Kubernetes eliminates the need for orchestration and combines Google's experience with best practices from the community. It is used for managing containers in a production environment and provides benefits such as agility, scalability, and resource utilization.\""
     },
     "execution_count": 14,
     "metadata": {},
     "output_type": "execute_result"
    }
   ],
   "source": [
    "collection.summarize_topic(\"kubernetes\")"
   ],
   "metadata": {
    "collapsed": false,
    "ExecuteTime": {
     "end_time": "2023-07-10T14:47:54.472506Z",
     "start_time": "2023-07-10T14:47:49.750247Z"
    }
   }
  },
  {
   "cell_type": "code",
   "execution_count": null,
   "outputs": [],
   "source": [],
   "metadata": {
    "collapsed": false
   }
  }
 ],
 "metadata": {
  "kernelspec": {
   "display_name": "Python 3",
   "language": "python",
   "name": "python3"
  },
  "language_info": {
   "codemirror_mode": {
    "name": "ipython",
    "version": 2
   },
   "file_extension": ".py",
   "mimetype": "text/x-python",
   "name": "python",
   "nbconvert_exporter": "python",
   "pygments_lexer": "ipython2",
   "version": "2.7.6"
  }
 },
 "nbformat": 4,
 "nbformat_minor": 0
}
