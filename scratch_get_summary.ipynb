{
 "cells": [
  {
   "cell_type": "code",
   "execution_count": 1,
   "metadata": {
    "collapsed": true,
    "ExecuteTime": {
     "end_time": "2023-07-08T17:46:53.806992Z",
     "start_time": "2023-07-08T17:46:53.620607Z"
    }
   },
   "outputs": [
    {
     "name": "stdout",
     "output_type": "stream",
     "text": [
      "Found class. Skipping class creation\n"
     ]
    }
   ],
   "source": [
    "import wkb\n",
    "client = wkb.start_db()\n",
    "collection = wkb.Collection(client, wkb.WV_CLASS)"
   ]
  },
  {
   "cell_type": "code",
   "execution_count": 3,
   "outputs": [
    {
     "name": "stdout",
     "output_type": "stream",
     "text": [
      "The provided text is a collection of excerpts from a podcast interview with Alexa Gordeech, a well-known AI influencer. The topics covered include content consumption, the evolution of content creators, the YouTube career of Alexa Gordeech, the founding of Ordis, the experience of joining DeepMind, and the importance of competition in the market. \n",
      "\n",
      "By listening to the podcast, the reader can learn about the potential transformation of content consumption, the role of new technologies in the evolution of content creators, the background and experiences of Alexa Gordeech, the founding of Ordis, and the insights into joining DeepMind. The text emphasizes the importance of building a community, the storytelling aspect of YouTube videos, and the value of competition in driving innovation.\n"
     ]
    }
   ],
   "source": [
    "youtube_url = \"https://www.youtube.com/watch?v=pGrP87gE8XU\"\n",
    "print(collection.summarize_entry(youtube_url))"
   ],
   "metadata": {
    "collapsed": false,
    "ExecuteTime": {
     "end_time": "2023-07-08T17:47:11.754158Z",
     "start_time": "2023-07-08T17:47:07.372656Z"
    }
   }
  },
  {
   "cell_type": "code",
   "execution_count": 2,
   "outputs": [],
   "source": [],
   "metadata": {
    "collapsed": false,
    "ExecuteTime": {
     "end_time": "2023-07-08T17:46:58.232980Z",
     "start_time": "2023-07-08T17:46:58.230125Z"
    }
   }
  }
 ],
 "metadata": {
  "kernelspec": {
   "display_name": "Python 3",
   "language": "python",
   "name": "python3"
  },
  "language_info": {
   "codemirror_mode": {
    "name": "ipython",
    "version": 2
   },
   "file_extension": ".py",
   "mimetype": "text/x-python",
   "name": "python",
   "nbconvert_exporter": "python",
   "pygments_lexer": "ipython2",
   "version": "2.7.6"
  }
 },
 "nbformat": 4,
 "nbformat_minor": 0
}
