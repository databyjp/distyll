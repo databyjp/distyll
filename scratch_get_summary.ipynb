{
 "cells": [
  {
   "cell_type": "code",
   "execution_count": 1,
   "metadata": {
    "collapsed": true,
    "ExecuteTime": {
     "end_time": "2023-07-11T08:55:01.167491Z",
     "start_time": "2023-07-11T08:55:00.811650Z"
    }
   },
   "outputs": [
    {
     "name": "stdout",
     "output_type": "stream",
     "text": [
      "Found class. Skipping class creation\n"
     ]
    }
   ],
   "source": [
    "import wkb\n",
    "client = wkb.start_db()\n",
    "collection = wkb.Collection(client, wkb.WV_CLASS)"
   ]
  },
  {
   "cell_type": "code",
   "execution_count": 21,
   "outputs": [],
   "source": [
    "youtube_url = \"https://www.youtube.com/watch?v=pGrP87gE8XU\"  # Connor - podcast\n",
    "# youtube_url = \"https://youtu.be/OsxZG2XfcZA\"  # Connor - new HNSW-FINGER"
   ],
   "metadata": {
    "collapsed": false,
    "ExecuteTime": {
     "end_time": "2023-07-11T10:02:43.404545Z",
     "start_time": "2023-07-11T10:02:43.404144Z"
    }
   }
  },
  {
   "cell_type": "code",
   "execution_count": 3,
   "outputs": [
    {
     "data": {
      "text/plain": "'HNSW-FINGER is a technique that extends the HNSW (Hierarchical Navigable Small World) algorithm for graph-based approximate nearest neighbor search. It approximates distance calculations by computing values offline using algorithms like singular value decomposition. The trade-off is that it requires additional memory but provides faster vector search. It is particularly beneficial for higher dimensional vectors. The technique involves projecting the query and neighboring nodes onto a center node to approximate distances. HNSW-FINGER has been evaluated and shown to provide significant speed-ups, especially for higher dimensional vectors. It can also be used in disk-based solutions to reduce memory overhead.'"
     },
     "execution_count": 3,
     "metadata": {},
     "output_type": "execute_result"
    }
   ],
   "source": [
    "collection.ask_object(youtube_url, \"What is HNSW-FINGER?\")"
   ],
   "metadata": {
    "collapsed": false,
    "ExecuteTime": {
     "end_time": "2023-07-11T08:55:06.286123Z",
     "start_time": "2023-07-11T08:55:01.615791Z"
    }
   }
  },
  {
   "cell_type": "code",
   "execution_count": 23,
   "outputs": [
    {
     "name": "stdout",
     "output_type": "stream",
     "text": [
      "- The introduction could be more engaging and captivating to grab the audience's attention from the start.\n",
      "- The interviewer should avoid using filler words and phrases like \"you know\" and \"like\" too frequently, as it can distract from the main points being discussed.\n",
      "- The interviewer should provide more context and background information about the guest, Alexa Gordeech, to help the audience understand her expertise and why she is being interviewed.\n",
      "- The interviewer should structure the questions more clearly and concisely to ensure a smooth flow of conversation.\n",
      "- The interviewer should avoid interrupting the guest and allow her to fully express her thoughts and ideas.\n",
      "- The audio quality could be improved to ensure clear and crisp sound throughout the interview.\n",
      "- The interviewer should consider adding timestamps or chapter markers in the video description to help viewers navigate to specific topics or sections of interest.\n",
      "- The interviewer should work on maintaining a consistent pace and energy level throughout the interview to keep the audience engaged.\n",
      "- The closing remarks could be more memorable and leave a lasting impression on the audience.\n",
      "- Overall, the interview could benefit from better organization, clarity, and a more polished presentation.\n"
     ]
    }
   ],
   "source": [
    "print(collection.ask_object(youtube_url, \"hi\", \"This is a transcript of a YouTube interview. Provide feedback to improve future podcasts\"))"
   ],
   "metadata": {
    "collapsed": false,
    "ExecuteTime": {
     "end_time": "2023-07-11T10:04:01.185725Z",
     "start_time": "2023-07-11T10:03:55.411097Z"
    }
   }
  },
  {
   "cell_type": "code",
   "execution_count": 13,
   "outputs": [
    {
     "data": {
      "text/plain": "[{'_additional': {'distance': 0.1280145},\n  'body': 'default solutions are optional and pluggable. Kubernetes provides the building blocks for building developer platforms, but preserves user choice and flexibility where it is important.\\n\\nKubernetes:\\n\\nDoes not limit the types of applications supported. Kubernetes aims to support an extremely diverse variety of workloads, including stateless, stateful, and data-processing workloads. If an application can run in a container, it should run great on Kubernetes.\\nDoes not deploy source code and does not build your application. Continuous Integration, Delivery, and Deployment (CI/CD) workflows are determined by organization cultures and preferences as well as technical requirements.\\nDoes not provide application-level services, such as middleware (for example, message buses), data-processing frameworks (for example, Spark), databases (for example, MySQL), caches, nor cluster storage systems (for example, Ceph) as built-in services. Such components can',\n  'source_path': './data/kubernetes_concepts_overview.txt'},\n {'_additional': {'distance': 0.12935555},\n  'body': 'your system.\\n\\nKubernetes provides you with:\\n\\nService discovery and load balancing Kubernetes can expose a container using the DNS name or using their own IP address. If traffic to a container is high, Kubernetes is able to load balance and distribute the network traffic so that the deployment is stable.\\nStorage orchestration Kubernetes allows you to automatically mount a storage system of your choice, such as local storages, public cloud providers, and more.\\nAutomated rollouts and rollbacks You can describe the desired state for your deployed containers using Kubernetes, and it can change the actual state to the desired state at a controlled rate. For example, you can automate Kubernetes to create new containers for your deployment, remove existing containers and adopt all their resources to the new container.\\nAutomatic',\n  'source_path': './data/kubernetes_concepts_overview.txt'}]"
     },
     "execution_count": 13,
     "metadata": {},
     "output_type": "execute_result"
    }
   ],
   "source": [
    "collection.text_search(\"kubernetes\", 2)"
   ],
   "metadata": {
    "collapsed": false,
    "ExecuteTime": {
     "end_time": "2023-07-10T14:47:39.398219Z",
     "start_time": "2023-07-10T14:47:38.932772Z"
    }
   }
  },
  {
   "cell_type": "code",
   "execution_count": 14,
   "outputs": [
    {
     "data": {
      "text/plain": "\"Kubernetes is a portable, extensible, open-source platform for managing containerized workloads and services. It aims to support a diverse variety of workloads, including stateless, stateful, and data-processing workloads. Kubernetes does not limit the types of applications supported and does not deploy source code or build applications. It provides service discovery and load balancing, storage orchestration, automated rollouts and rollbacks, automatic bin packing, self-healing, and secret and configuration management. Kubernetes is not a traditional, all-inclusive PaaS system and does not provide application-level services or dictate logging, monitoring, or alerting solutions. It also does not provide or mandate a configuration language/system or comprehensive machine configuration, maintenance, management, or self-healing systems. Kubernetes eliminates the need for orchestration and combines Google's experience with best practices from the community. It is used for managing containers in a production environment and provides benefits such as agility, scalability, and resource utilization.\""
     },
     "execution_count": 14,
     "metadata": {},
     "output_type": "execute_result"
    }
   ],
   "source": [
    "collection.summarize_topic(\"kubernetes\")"
   ],
   "metadata": {
    "collapsed": false,
    "ExecuteTime": {
     "end_time": "2023-07-10T14:47:54.472506Z",
     "start_time": "2023-07-10T14:47:49.750247Z"
    }
   }
  },
  {
   "cell_type": "code",
   "execution_count": null,
   "outputs": [],
   "source": [],
   "metadata": {
    "collapsed": false
   }
  }
 ],
 "metadata": {
  "kernelspec": {
   "display_name": "Python 3",
   "language": "python",
   "name": "python3"
  },
  "language_info": {
   "codemirror_mode": {
    "name": "ipython",
    "version": 2
   },
   "file_extension": ".py",
   "mimetype": "text/x-python",
   "name": "python",
   "nbconvert_exporter": "python",
   "pygments_lexer": "ipython2",
   "version": "2.7.6"
  }
 },
 "nbformat": 4,
 "nbformat_minor": 0
}
