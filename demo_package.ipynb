{
 "cells": [
  {
   "cell_type": "code",
   "execution_count": 1,
   "metadata": {
    "collapsed": false,
    "ExecuteTime": {
     "end_time": "2023-08-26T21:28:17.901045Z",
     "start_time": "2023-08-26T21:28:17.095682Z"
    }
   },
   "outputs": [
    {
     "name": "stdout",
     "output_type": "stream",
     "text": [
      "embedded weaviate is already listening on port 6666\n",
      "Found Knowledge_chunk in the schema. Skipping class creation\n"
     ]
    }
   ],
   "source": [
    "import distyll\n",
    "\n",
    "client = distyll.start_db()\n",
    "chunks = distyll.Collection(client, distyll.COLLECTION_NAME_CHUNKS)\n",
    "sources = distyll.Collection(client, distyll.COLLECTION_NAME_SOURCES)"
   ]
  },
  {
   "cell_type": "code",
   "execution_count": 2,
   "metadata": {
    "collapsed": false,
    "ExecuteTime": {
     "end_time": "2023-08-26T21:28:19.228291Z",
     "start_time": "2023-08-26T21:28:19.218716Z"
    }
   },
   "outputs": [
    {
     "name": "stdout",
     "output_type": "stream",
     "text": [
      "274\n",
      "2\n"
     ]
    }
   ],
   "source": [
    "print(chunks.get_total_obj_count())\n",
    "print(sources.get_total_obj_count())"
   ]
  },
  {
   "cell_type": "code",
   "execution_count": null,
   "outputs": [],
   "source": [],
   "metadata": {
    "collapsed": false
   }
  }
 ],
 "metadata": {
  "kernelspec": {
   "display_name": "Python 3",
   "language": "python",
   "name": "python3"
  },
  "language_info": {
   "codemirror_mode": {
    "name": "ipython",
    "version": 3
   },
   "file_extension": ".py",
   "mimetype": "text/x-python",
   "name": "python",
   "nbconvert_exporter": "python",
   "pygments_lexer": "ipython3",
   "version": "3.10.8"
  }
 },
 "nbformat": 4,
 "nbformat_minor": 0
}
